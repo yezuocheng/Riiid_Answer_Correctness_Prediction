{
 "cells": [
  {
   "cell_type": "code",
   "execution_count": 1,
   "metadata": {},
   "outputs": [
    {
     "name": "stdout",
     "output_type": "stream",
     "text": [
      "Collecting kaggle\n",
      "  Downloading kaggle-1.5.10.tar.gz (59 kB)\n",
      "\u001b[K     |████████████████████████████████| 59 kB 602 kB/s eta 0:00:011\n",
      "\u001b[?25hRequirement already satisfied: six>=1.10 in /home/yzx/miniconda3/envs/py3.6/lib/python3.6/site-packages (from kaggle) (1.15.0)\n",
      "Requirement already satisfied: certifi in /home/yzx/miniconda3/envs/py3.6/lib/python3.6/site-packages (from kaggle) (2020.6.20)\n",
      "Collecting python-dateutil\n",
      "  Downloading python_dateutil-2.8.1-py2.py3-none-any.whl (227 kB)\n",
      "\u001b[K     |████████████████████████████████| 227 kB 530 kB/s eta 0:00:01\n",
      "\u001b[?25hCollecting requests\n",
      "  Downloading requests-2.25.0-py2.py3-none-any.whl (61 kB)\n",
      "\u001b[K     |████████████████████████████████| 61 kB 362 kB/s eta 0:00:01\n",
      "\u001b[?25hCollecting tqdm\n",
      "  Downloading tqdm-4.54.1-py2.py3-none-any.whl (69 kB)\n",
      "\u001b[K     |████████████████████████████████| 69 kB 396 kB/s eta 0:00:01\n",
      "\u001b[?25hCollecting python-slugify\n",
      "  Downloading python-slugify-4.0.1.tar.gz (11 kB)\n",
      "Requirement already satisfied: urllib3 in /home/yzx/miniconda3/envs/py3.6/lib/python3.6/site-packages (from kaggle) (1.26.2)\n",
      "Collecting idna<3,>=2.5\n",
      "  Downloading idna-2.10-py2.py3-none-any.whl (58 kB)\n",
      "\u001b[K     |████████████████████████████████| 58 kB 361 kB/s eta 0:00:01\n",
      "\u001b[?25hCollecting chardet<4,>=3.0.2\n",
      "  Downloading chardet-3.0.4-py2.py3-none-any.whl (133 kB)\n",
      "\u001b[K     |████████████████████████████████| 133 kB 233 kB/s eta 0:00:01\n",
      "\u001b[?25hCollecting text-unidecode>=1.3\n",
      "  Downloading text_unidecode-1.3-py2.py3-none-any.whl (78 kB)\n",
      "\u001b[K     |████████████████████████████████| 78 kB 208 kB/s eta 0:00:01\n",
      "\u001b[?25hBuilding wheels for collected packages: kaggle, python-slugify\n",
      "  Building wheel for kaggle (setup.py) ... \u001b[?25ldone\n",
      "\u001b[?25h  Created wheel for kaggle: filename=kaggle-1.5.10-py3-none-any.whl size=73269 sha256=1e97ceb2df39fae5be96b2dec66385913311a03d32ecefb6b680bfd2a8690ff2\n",
      "  Stored in directory: /home/yzx/.cache/pip/wheels/1c/dd/dd/c493e6f981182c1411e288c553310f76e212bac3afbdac1294\n",
      "  Building wheel for python-slugify (setup.py) ... \u001b[?25ldone\n",
      "\u001b[?25h  Created wheel for python-slugify: filename=python_slugify-4.0.1-py2.py3-none-any.whl size=6769 sha256=4f679147e781e33267c9cf8277fd14c7438f8f23aee24b1b68afa0e232fabe7b\n",
      "  Stored in directory: /home/yzx/.cache/pip/wheels/72/e6/db/122611605e60148f54ee2abaca98b2bbeafc6e22486a867bad\n",
      "Successfully built kaggle python-slugify\n",
      "Installing collected packages: python-dateutil, idna, chardet, requests, tqdm, text-unidecode, python-slugify, kaggle\n",
      "Successfully installed chardet-3.0.4 idna-2.10 kaggle-1.5.10 python-dateutil-2.8.1 python-slugify-4.0.1 requests-2.25.0 text-unidecode-1.3 tqdm-4.54.1\n"
     ]
    }
   ],
   "source": [
    "!pip3 install kaggle # download kaggle tool\n",
    "!mkdir ~/.kaggle     # make dir ~/.kaggle"
   ]
  },
  {
   "cell_type": "code",
   "execution_count": 2,
   "metadata": {},
   "outputs": [
    {
     "name": "stdout",
     "output_type": "stream",
     "text": [
      "Downloading riiid-train-data-multiple-formats.zip to /home/yzx/Riiid_Answer_Correctness_Prediction/working\n",
      "100%|█████████████████████████████████████▉| 4.17G/4.17G [07:34<00:00, 11.2MB/s]\n",
      "100%|██████████████████████████████████████| 4.17G/4.17G [07:34<00:00, 9.84MB/s]\n",
      "Downloading riiid-test-answer-prediction.zip to /home/yzx/Riiid_Answer_Correctness_Prediction/working\n",
      "100%|██████████████████████████████████████| 1.29G/1.29G [04:43<00:00, 11.0MB/s]\n",
      "100%|██████████████████████████████████████| 1.29G/1.29G [04:43<00:00, 4.89MB/s]\n"
     ]
    }
   ],
   "source": [
    "#***put kaggle.json into ~/.kaggle***\n",
    "!chmod 600 ~/.kaggle/kaggle.json\n",
    "# make input dir\n",
    "!mkdir ../input\n",
    "# download data zip\n",
    "!kaggle datasets download -d rohanrao/riiid-train-data-multiple-formats\n",
    "!kaggle competitions download -c riiid-test-answer-prediction"
   ]
  },
  {
   "cell_type": "code",
   "execution_count": null,
   "metadata": {},
   "outputs": [
    {
     "name": "stdout",
     "output_type": "stream",
     "text": [
      "Archive:  ../input/riiid-train-data-multiple-formats.zip\n",
      "  inflating: ../input/riiid-train-data-multiple-formats/riiid_train.feather  \n",
      "  inflating: ../input/riiid-train-data-multiple-formats/riiid_train.h5  \n",
      "  inflating: ../input/riiid-train-data-multiple-formats/riiid_train.jay  \n",
      "  inflating: ../input/riiid-train-data-multiple-formats/riiid_train.parquet  \n",
      "  inflating: ../input/riiid-train-data-multiple-formats/riiid_train.pkl.gzip  \n",
      "Archive:  ../input/riiid-test-answer-prediction.zip\n",
      "  inflating: ../input/riiid-test-answer-prediction/example_sample_submission.csv  \n",
      "  inflating: ../input/riiid-test-answer-prediction/example_test.csv  \n",
      "  inflating: ../input/riiid-test-answer-prediction/lectures.csv  \n",
      "  inflating: ../input/riiid-test-answer-prediction/questions.csv  \n",
      "  inflating: ../input/riiid-test-answer-prediction/riiideducation/__init__.py  \n",
      "  inflating: ../input/riiid-test-answer-prediction/riiideducation/competition.cpython-37m-x86_64-linux-gnu.so  \n",
      "  inflating: ../input/riiid-test-answer-prediction/train.csv  "
     ]
    }
   ],
   "source": [
    "# move and unzip\n",
    "!mv riiid-train-data-multiple-formats.zip ../input/riiid-train-data-multiple-formats.zip\n",
    "!mkdir ../input/riiid-train-data-multiple-formats\n",
    "!unzip ../input/riiid-train-data-multiple-formats.zip -d ../input/riiid-train-data-multiple-formats\n",
    "!mv riiid-test-answer-prediction.zip ../input/riiid-test-answer-prediction.zip\n",
    "!mkdir ../input/riiid-test-answer-prediction\n",
    "!unzip ../input/riiid-test-answer-prediction.zip -d ../input/riiid-test-answer-prediction"
   ]
  },
  {
   "cell_type": "code",
   "execution_count": null,
   "metadata": {},
   "outputs": [],
   "source": [
    "!git add ../working\n",
    "!git commit -m \"change import_riiid_raw_data\"\n",
    "!git push"
   ]
  }
 ],
 "metadata": {
  "kernelspec": {
   "display_name": "Python 3",
   "language": "python",
   "name": "python3"
  },
  "language_info": {
   "codemirror_mode": {
    "name": "ipython",
    "version": 3
   },
   "file_extension": ".py",
   "mimetype": "text/x-python",
   "name": "python",
   "nbconvert_exporter": "python",
   "pygments_lexer": "ipython3",
   "version": "3.8.6"
  }
 },
 "nbformat": 4,
 "nbformat_minor": 4
}
