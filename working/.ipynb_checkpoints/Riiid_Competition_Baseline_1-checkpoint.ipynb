{
 "cells": [
  {
   "cell_type": "code",
   "execution_count": 1,
   "metadata": {},
   "outputs": [],
   "source": [
    "# !pip3 install kaggle # download kaggle tool\n",
    "# !mkdir ~/.kaggle     # make dir ~/.kaggle\n",
    "# #***put kaggle.json into ~/.kaggle***\n",
    "# !chmod 600 ~/.kaggle/kaggle.json\n",
    "# # download data zip\n",
    "# !kaggle datasets download -d rohanrao/riiid-train-data-multiple-formats\n",
    "# !kaggle competitions download -c riiid-test-answer-prediction\n",
    "# # make input dir\n",
    "# !mkdir input\n",
    "# # move and unzip\n",
    "# !mv riiid-train-data-multiple-formats.zip input/riiid-train-data-multiple-formats.zip\n",
    "# !mkdir input/riiid-train-data-multiple-formats\n",
    "# !unzip input/riiid-train-data-multiple-formats.zip -d input/riiid-train-data-multiple-formats\n",
    "# !mv riiid-test-answer-prediction.zip input/riiid-test-answer-prediction.zip\n",
    "# !mkdir input/riiid-test-answer-prediction\n",
    "# !unzip input/riiid-test-answer-prediction.zip -d input/riiid-test-answer-prediction"
   ]
  },
  {
   "cell_type": "code",
   "execution_count": 2,
   "metadata": {},
   "outputs": [],
   "source": [
    "%reset -f\n",
    "import numpy as np\n",
    "import pandas as pd\n",
    "\n",
    "import lightgbm as lgb\n",
    "import matplotlib.pyplot as plt\n",
    "import seaborn as sns\n",
    "\n",
    "from sklearn.metrics import roc_auc_score\n",
    "from sklearn.model_selection import train_test_split\n",
    "\n",
    "from multiprocessing import cpu_count\n",
    "from tqdm.notebook import tqdm\n",
    "\n",
    "import gc\n",
    "import sys\n",
    "import os\n",
    "for dirname, _, filenames in os.walk('/kaggle/input'):\n",
    "    for filename in filenames:\n",
    "        os.path.join(dirname, filename)"
   ]
  },
  {
   "cell_type": "code",
   "execution_count": 3,
   "metadata": {
    "scrolled": false
   },
   "outputs": [
    {
     "name": "stdout",
     "output_type": "stream",
     "text": [
      "CPU times: user 9.8 s, sys: 4.04 s, total: 13.8 s\n",
      "Wall time: 16.6 s\n"
     ]
    }
   ],
   "source": [
    "%%time\n",
    "cols_to_load = ['user_id', 'answered_correctly', 'content_id', 'prior_question_had_explanation', 'prior_question_elapsed_time']\n",
    "FEATURES = pd.read_pickle('../input/riiid-train-data-multiple-formats/riiid_train.pkl.gzip')[cols_to_load]\n",
    "FEATURES['prior_question_had_explanation'] = FEATURES['prior_question_had_explanation'].astype('boolean')\n",
    "questions = pd.read_csv('../input/riiid-test-answer-prediction/questions.csv')\n",
    "lectures = pd.read_csv('../input/riiid-test-answer-prediction/lectures.csv')"
   ]
  },
  {
   "cell_type": "code",
   "execution_count": 4,
   "metadata": {},
   "outputs": [
    {
     "name": "stdout",
     "output_type": "stream",
     "text": [
      "CPU times: user 9.33 s, sys: 1.85 s, total: 11.2 s\n",
      "Wall time: 11.2 s\n"
     ]
    },
    {
     "data": {
      "text/html": [
       "<div>\n",
       "<style scoped>\n",
       "    .dataframe tbody tr th:only-of-type {\n",
       "        vertical-align: middle;\n",
       "    }\n",
       "\n",
       "    .dataframe tbody tr th {\n",
       "        vertical-align: top;\n",
       "    }\n",
       "\n",
       "    .dataframe thead th {\n",
       "        text-align: right;\n",
       "    }\n",
       "</style>\n",
       "<table border=\"1\" class=\"dataframe\">\n",
       "  <thead>\n",
       "    <tr style=\"text-align: right;\">\n",
       "      <th></th>\n",
       "      <th>user_id</th>\n",
       "      <th>num_user_answered_questions</th>\n",
       "      <th>num_user_correctly_questions</th>\n",
       "      <th>mean_user_accuracy</th>\n",
       "      <th>watches_lecture</th>\n",
       "    </tr>\n",
       "  </thead>\n",
       "  <tbody>\n",
       "    <tr>\n",
       "      <th>0</th>\n",
       "      <td>115</td>\n",
       "      <td>46</td>\n",
       "      <td>32</td>\n",
       "      <td>0.695652</td>\n",
       "      <td>False</td>\n",
       "    </tr>\n",
       "    <tr>\n",
       "      <th>1</th>\n",
       "      <td>124</td>\n",
       "      <td>30</td>\n",
       "      <td>7</td>\n",
       "      <td>0.233333</td>\n",
       "      <td>False</td>\n",
       "    </tr>\n",
       "    <tr>\n",
       "      <th>2</th>\n",
       "      <td>2746</td>\n",
       "      <td>19</td>\n",
       "      <td>11</td>\n",
       "      <td>0.578947</td>\n",
       "      <td>True</td>\n",
       "    </tr>\n",
       "    <tr>\n",
       "      <th>3</th>\n",
       "      <td>5382</td>\n",
       "      <td>125</td>\n",
       "      <td>84</td>\n",
       "      <td>0.672000</td>\n",
       "      <td>True</td>\n",
       "    </tr>\n",
       "    <tr>\n",
       "      <th>4</th>\n",
       "      <td>8623</td>\n",
       "      <td>109</td>\n",
       "      <td>70</td>\n",
       "      <td>0.642202</td>\n",
       "      <td>True</td>\n",
       "    </tr>\n",
       "  </tbody>\n",
       "</table>\n",
       "</div>"
      ],
      "text/plain": [
       "   user_id  num_user_answered_questions  num_user_correctly_questions  \\\n",
       "0      115                           46                            32   \n",
       "1      124                           30                             7   \n",
       "2     2746                           19                            11   \n",
       "3     5382                          125                            84   \n",
       "4     8623                          109                            70   \n",
       "\n",
       "   mean_user_accuracy  watches_lecture  \n",
       "0            0.695652            False  \n",
       "1            0.233333            False  \n",
       "2            0.578947             True  \n",
       "3            0.672000             True  \n",
       "4            0.642202             True  "
      ]
     },
     "execution_count": 4,
     "metadata": {},
     "output_type": "execute_result"
    }
   ],
   "source": [
    "%%time\n",
    "#adding user features\n",
    "user_df = FEATURES[FEATURES.answered_correctly != -1].groupby('user_id').agg({'answered_correctly': ['count', 'sum', 'mean']}).reset_index()\n",
    "user_df.columns = ['user_id', 'num_user_answered_questions', 'num_user_correctly_questions', 'mean_user_accuracy']\n",
    "user_df['num_user_answered_questions'] = user_df['num_user_answered_questions'].astype('int16')\n",
    "user_df['num_user_correctly_questions'] = user_df['num_user_correctly_questions'].astype('int16')\n",
    "user_df['mean_user_accuracy'] = user_df['mean_user_accuracy'].astype('float32')\n",
    "\n",
    "user_lect = FEATURES.groupby([\"user_id\", \"answered_correctly\"]).size().unstack()\n",
    "user_lect.columns = ['Lecture', 'Wrong', 'Right']\n",
    "user_lect['Lecture'] = user_lect['Lecture'].fillna(0)\n",
    "user_lect = user_lect.astype('Int64')\n",
    "user_lect['watches_lecture'] = np.where(user_lect.Lecture > 0, 1, 0)\n",
    "user_lect['watches_lecture'] = user_lect['watches_lecture'].astype('boolean')\n",
    "user_lect = user_lect.reset_index()\n",
    "user_lect = user_lect[['user_id', 'watches_lecture']]\n",
    "user_df = user_df.merge(user_lect, on = \"user_id\", how = \"left\")\n",
    "del user_lect\n",
    "_ = gc.collect()\n",
    "\n",
    "user_df.head()"
   ]
  },
  {
   "cell_type": "code",
   "execution_count": null,
   "metadata": {},
   "outputs": [],
   "source": [
    "# user_df.to_csv('../input/data_io/user_df.csv')"
   ]
  },
  {
   "cell_type": "code",
   "execution_count": 5,
   "metadata": {},
   "outputs": [
    {
     "name": "stdout",
     "output_type": "stream",
     "text": [
      "CPU times: user 33.2 s, sys: 4.08 s, total: 37.3 s\n",
      "Wall time: 37.2 s\n"
     ]
    },
    {
     "data": {
      "text/html": [
       "<div>\n",
       "<style scoped>\n",
       "    .dataframe tbody tr th:only-of-type {\n",
       "        vertical-align: middle;\n",
       "    }\n",
       "\n",
       "    .dataframe tbody tr th {\n",
       "        vertical-align: top;\n",
       "    }\n",
       "\n",
       "    .dataframe thead th {\n",
       "        text-align: right;\n",
       "    }\n",
       "</style>\n",
       "<table border=\"1\" class=\"dataframe\">\n",
       "  <thead>\n",
       "    <tr style=\"text-align: right;\">\n",
       "      <th></th>\n",
       "      <th>content_id</th>\n",
       "      <th>part</th>\n",
       "      <th>content_questions</th>\n",
       "      <th>mean_content_accuracy</th>\n",
       "      <th>mean_prior_question_had_explanation</th>\n",
       "      <th>mean_prior_question_elapsed_time</th>\n",
       "    </tr>\n",
       "  </thead>\n",
       "  <tbody>\n",
       "    <tr>\n",
       "      <th>0</th>\n",
       "      <td>0</td>\n",
       "      <td>1</td>\n",
       "      <td>6903</td>\n",
       "      <td>0.907721</td>\n",
       "      <td>0.951326</td>\n",
       "      <td>19693.703125</td>\n",
       "    </tr>\n",
       "    <tr>\n",
       "      <th>1</th>\n",
       "      <td>1</td>\n",
       "      <td>1</td>\n",
       "      <td>7398</td>\n",
       "      <td>0.890646</td>\n",
       "      <td>0.979454</td>\n",
       "      <td>19320.742188</td>\n",
       "    </tr>\n",
       "    <tr>\n",
       "      <th>2</th>\n",
       "      <td>2</td>\n",
       "      <td>1</td>\n",
       "      <td>44905</td>\n",
       "      <td>0.554281</td>\n",
       "      <td>0.900145</td>\n",
       "      <td>24574.910156</td>\n",
       "    </tr>\n",
       "    <tr>\n",
       "      <th>3</th>\n",
       "      <td>3</td>\n",
       "      <td>1</td>\n",
       "      <td>22973</td>\n",
       "      <td>0.779437</td>\n",
       "      <td>0.966744</td>\n",
       "      <td>21628.972656</td>\n",
       "    </tr>\n",
       "    <tr>\n",
       "      <th>4</th>\n",
       "      <td>4</td>\n",
       "      <td>1</td>\n",
       "      <td>31736</td>\n",
       "      <td>0.613215</td>\n",
       "      <td>0.532298</td>\n",
       "      <td>22046.859375</td>\n",
       "    </tr>\n",
       "  </tbody>\n",
       "</table>\n",
       "</div>"
      ],
      "text/plain": [
       "   content_id  part  content_questions  mean_content_accuracy  \\\n",
       "0           0     1               6903               0.907721   \n",
       "1           1     1               7398               0.890646   \n",
       "2           2     1              44905               0.554281   \n",
       "3           3     1              22973               0.779437   \n",
       "4           4     1              31736               0.613215   \n",
       "\n",
       "   mean_prior_question_had_explanation  mean_prior_question_elapsed_time  \n",
       "0                             0.951326                      19693.703125  \n",
       "1                             0.979454                      19320.742188  \n",
       "2                             0.900145                      24574.910156  \n",
       "3                             0.966744                      21628.972656  \n",
       "4                             0.532298                      22046.859375  "
      ]
     },
     "execution_count": 5,
     "metadata": {},
     "output_type": "execute_result"
    }
   ],
   "source": [
    "%%time\n",
    "content_df = FEATURES[['content_id','answered_correctly']].loc[FEATURES['answered_correctly'] != -1].groupby('content_id').agg({'answered_correctly': ['count', 'mean']}).reset_index()\n",
    "content_df.columns = ['content_id', 'content_questions', 'mean_content_accuracy']\n",
    "content_df.head()\n",
    "questions.rename(columns={'question_id': 'content_id'}, inplace=True)\n",
    "questions = questions.merge(content_df, on = \"content_id\", how = \"left\")\n",
    "questions = questions[['content_id','part','content_questions','mean_content_accuracy']]\n",
    "\n",
    "questions['part'] = questions['part'].astype('int8')\n",
    "questions['content_questions'] = questions['content_questions'].astype('int32')\n",
    "questions['mean_content_accuracy'] = questions['mean_content_accuracy'].astype('float32')\n",
    "\n",
    "del content_df\n",
    "_ = gc.collect()\n",
    "\n",
    "FEATURES = FEATURES[FEATURES['answered_correctly'] != -1]\n",
    "FEATURES['prior_question_had_explanation'] = FEATURES['prior_question_had_explanation'].shift(-1)\n",
    "FEATURES['prior_question_elapsed_time'] = FEATURES['prior_question_elapsed_time'].shift(-1)\n",
    "FEATURES['prior_question_had_explanation'] = FEATURES['prior_question_had_explanation'].replace({True: 1, False: 0})\n",
    "FEATURES['prior_question_had_explanation'].fillna(0, inplace=True)\n",
    "\n",
    "content_df_prior = FEATURES[['content_id','prior_question_had_explanation']].groupby('content_id').mean()\n",
    "content_df_prior.columns = ['mean_prior_question_had_explanation']\n",
    "content_df_prior['mean_prior_question_had_explanation'] = content_df_prior['mean_prior_question_had_explanation'].astype('float32')\n",
    "questions = questions.merge(content_df_prior, on = \"content_id\", how = \"left\")\n",
    "del content_df_prior\n",
    "_ = gc.collect()\n",
    "\n",
    "content_df_prior = FEATURES[['content_id','prior_question_elapsed_time']].groupby('content_id').mean()\n",
    "content_df_prior.columns = ['mean_prior_question_elapsed_time']\n",
    "content_df_prior['mean_prior_question_elapsed_time'] = content_df_prior['mean_prior_question_elapsed_time'].astype('float32')\n",
    "questions = questions.merge(content_df_prior, on = \"content_id\", how = \"left\")\n",
    "del content_df_prior\n",
    "_ = gc.collect()\n",
    "\n",
    "content_df = questions"
   ]
  },
  {
   "cell_type": "code",
   "execution_count": null,
   "metadata": {},
   "outputs": [],
   "source": [
    "# content_df.to_csv('../input/data_io/content_df.csv')"
   ]
  },
  {
   "cell_type": "code",
   "execution_count": 6,
   "metadata": {},
   "outputs": [],
   "source": [
    "def make_features(FEATURES):\n",
    "    # merge with all features\n",
    "    FEATURES = FEATURES.merge(user_df, how=\"left\", on=\"user_id\")\n",
    "    FEATURES = FEATURES.merge(content_df, how='left', on='content_id')\n",
    "    # add harmonic mean\n",
    "    FEATURES['hmean_user_content_accuracy'] = 2 * (\n",
    "        (FEATURES['mean_user_accuracy'] * FEATURES['mean_content_accuracy']) /\n",
    "        (FEATURES['mean_user_accuracy'] + FEATURES['mean_content_accuracy'])\n",
    "    )\n",
    "    for c in categorical_feature:\n",
    "    FEATURES[c] = FEATURES[c].astype('category')\n",
    "    return FEATURES"
   ]
  },
  {
   "cell_type": "code",
   "execution_count": 7,
   "metadata": {},
   "outputs": [
    {
     "name": "stdout",
     "output_type": "stream",
     "text": [
      "CPU times: user 15.3 s, sys: 2.78 s, total: 18.1 s\n",
      "Wall time: 18.1 s\n"
     ]
    }
   ],
   "source": [
    "%%time\n",
    "FEATURES = make_features(FEATURES)"
   ]
  },
  {
   "cell_type": "code",
   "execution_count": 8,
   "metadata": {},
   "outputs": [
    {
     "data": {
      "text/html": [
       "<div>\n",
       "<style scoped>\n",
       "    .dataframe tbody tr th:only-of-type {\n",
       "        vertical-align: middle;\n",
       "    }\n",
       "\n",
       "    .dataframe tbody tr th {\n",
       "        vertical-align: top;\n",
       "    }\n",
       "\n",
       "    .dataframe thead th {\n",
       "        text-align: right;\n",
       "    }\n",
       "</style>\n",
       "<table border=\"1\" class=\"dataframe\">\n",
       "  <thead>\n",
       "    <tr style=\"text-align: right;\">\n",
       "      <th></th>\n",
       "      <th>user_id</th>\n",
       "      <th>answered_correctly</th>\n",
       "      <th>content_id</th>\n",
       "      <th>prior_question_had_explanation</th>\n",
       "      <th>prior_question_elapsed_time</th>\n",
       "      <th>num_user_answered_questions</th>\n",
       "      <th>num_user_correctly_questions</th>\n",
       "      <th>mean_user_accuracy</th>\n",
       "      <th>watches_lecture</th>\n",
       "      <th>part</th>\n",
       "      <th>content_questions</th>\n",
       "      <th>mean_content_accuracy</th>\n",
       "      <th>mean_prior_question_had_explanation</th>\n",
       "      <th>mean_prior_question_elapsed_time</th>\n",
       "      <th>hmean_user_content_accuracy</th>\n",
       "    </tr>\n",
       "  </thead>\n",
       "  <tbody>\n",
       "    <tr>\n",
       "      <th>0</th>\n",
       "      <td>115</td>\n",
       "      <td>1</td>\n",
       "      <td>5692</td>\n",
       "      <td>0</td>\n",
       "      <td>37000.0</td>\n",
       "      <td>46</td>\n",
       "      <td>32</td>\n",
       "      <td>0.695652</td>\n",
       "      <td>False</td>\n",
       "      <td>5</td>\n",
       "      <td>36514</td>\n",
       "      <td>0.745495</td>\n",
       "      <td>0.678836</td>\n",
       "      <td>16763.898438</td>\n",
       "      <td>0.719712</td>\n",
       "    </tr>\n",
       "    <tr>\n",
       "      <th>1</th>\n",
       "      <td>115</td>\n",
       "      <td>1</td>\n",
       "      <td>5716</td>\n",
       "      <td>0</td>\n",
       "      <td>55000.0</td>\n",
       "      <td>46</td>\n",
       "      <td>32</td>\n",
       "      <td>0.695652</td>\n",
       "      <td>False</td>\n",
       "      <td>5</td>\n",
       "      <td>23991</td>\n",
       "      <td>0.734901</td>\n",
       "      <td>0.521779</td>\n",
       "      <td>16471.677734</td>\n",
       "      <td>0.714738</td>\n",
       "    </tr>\n",
       "    <tr>\n",
       "      <th>2</th>\n",
       "      <td>115</td>\n",
       "      <td>1</td>\n",
       "      <td>128</td>\n",
       "      <td>0</td>\n",
       "      <td>19000.0</td>\n",
       "      <td>46</td>\n",
       "      <td>32</td>\n",
       "      <td>0.695652</td>\n",
       "      <td>False</td>\n",
       "      <td>1</td>\n",
       "      <td>19619</td>\n",
       "      <td>0.966869</td>\n",
       "      <td>0.200622</td>\n",
       "      <td>18213.578125</td>\n",
       "      <td>0.809138</td>\n",
       "    </tr>\n",
       "    <tr>\n",
       "      <th>3</th>\n",
       "      <td>115</td>\n",
       "      <td>1</td>\n",
       "      <td>7860</td>\n",
       "      <td>0</td>\n",
       "      <td>11000.0</td>\n",
       "      <td>46</td>\n",
       "      <td>32</td>\n",
       "      <td>0.695652</td>\n",
       "      <td>False</td>\n",
       "      <td>1</td>\n",
       "      <td>21733</td>\n",
       "      <td>0.954815</td>\n",
       "      <td>0.281139</td>\n",
       "      <td>20079.855469</td>\n",
       "      <td>0.804886</td>\n",
       "    </tr>\n",
       "    <tr>\n",
       "      <th>4</th>\n",
       "      <td>115</td>\n",
       "      <td>1</td>\n",
       "      <td>7922</td>\n",
       "      <td>0</td>\n",
       "      <td>5000.0</td>\n",
       "      <td>46</td>\n",
       "      <td>32</td>\n",
       "      <td>0.695652</td>\n",
       "      <td>False</td>\n",
       "      <td>1</td>\n",
       "      <td>19409</td>\n",
       "      <td>0.953218</td>\n",
       "      <td>0.200938</td>\n",
       "      <td>17286.613281</td>\n",
       "      <td>0.804318</td>\n",
       "    </tr>\n",
       "  </tbody>\n",
       "</table>\n",
       "</div>"
      ],
      "text/plain": [
       "   user_id  answered_correctly  content_id  prior_question_had_explanation  \\\n",
       "0      115                   1        5692                               0   \n",
       "1      115                   1        5716                               0   \n",
       "2      115                   1         128                               0   \n",
       "3      115                   1        7860                               0   \n",
       "4      115                   1        7922                               0   \n",
       "\n",
       "   prior_question_elapsed_time  num_user_answered_questions  \\\n",
       "0                      37000.0                           46   \n",
       "1                      55000.0                           46   \n",
       "2                      19000.0                           46   \n",
       "3                      11000.0                           46   \n",
       "4                       5000.0                           46   \n",
       "\n",
       "   num_user_correctly_questions  mean_user_accuracy  watches_lecture  part  \\\n",
       "0                            32            0.695652            False     5   \n",
       "1                            32            0.695652            False     5   \n",
       "2                            32            0.695652            False     1   \n",
       "3                            32            0.695652            False     1   \n",
       "4                            32            0.695652            False     1   \n",
       "\n",
       "   content_questions  mean_content_accuracy  \\\n",
       "0              36514               0.745495   \n",
       "1              23991               0.734901   \n",
       "2              19619               0.966869   \n",
       "3              21733               0.954815   \n",
       "4              19409               0.953218   \n",
       "\n",
       "   mean_prior_question_had_explanation  mean_prior_question_elapsed_time  \\\n",
       "0                             0.678836                      16763.898438   \n",
       "1                             0.521779                      16471.677734   \n",
       "2                             0.200622                      18213.578125   \n",
       "3                             0.281139                      20079.855469   \n",
       "4                             0.200938                      17286.613281   \n",
       "\n",
       "   hmean_user_content_accuracy  \n",
       "0                     0.719712  \n",
       "1                     0.714738  \n",
       "2                     0.809138  \n",
       "3                     0.804886  \n",
       "4                     0.804318  "
      ]
     },
     "execution_count": 8,
     "metadata": {},
     "output_type": "execute_result"
    }
   ],
   "source": [
    "FEATURES.head()"
   ]
  },
  {
   "cell_type": "code",
   "execution_count": 10,
   "metadata": {},
   "outputs": [
    {
     "data": {
      "text/plain": [
       "0"
      ]
     },
     "execution_count": 10,
     "metadata": {},
     "output_type": "execute_result"
    }
   ],
   "source": [
    "categorical_feature = ['content_id',\n",
    "                     'part',\n",
    "                     'watches_lecture']\n",
    "features = ['content_id',\n",
    "            'mean_prior_question_had_explanation',\n",
    "            'mean_prior_question_elapsed_time',\n",
    "            'num_user_answered_questions',\n",
    "            'num_user_correctly_questions',\n",
    "            'mean_user_accuracy',\n",
    "            'part',\n",
    "            'watches_lecture',\n",
    "            'content_questions',\n",
    "            'mean_content_accuracy',\n",
    "            'hmean_user_content_accuracy']\n",
    "target = 'answered_correctly'\n",
    "X_train, X_valid, y_train, y_valid = train_test_split(FEATURES[features], FEATURES[target], test_size=0.2, random_state=1)\n",
    "del FEATURES\n",
    "gc.collect()\n",
    "lgb_train = lgb.Dataset(X_train, y_train, categorical_feature = categorical_feature)\n",
    "lgb_eval = lgb.Dataset(X_valid, y_valid, categorical_feature = categorical_feature)\n",
    "del X_train, y_train, X_valid, y_valid\n",
    "gc.collect()"
   ]
  },
  {
   "cell_type": "code",
   "execution_count": 11,
   "metadata": {},
   "outputs": [],
   "source": [
    "params = {'objective': 'binary',\n",
    "          'metric': 'auc',\n",
    "          'seed': 1,\n",
    "          'learning_rate': 0.1, #default\n",
    "          \"boosting_type\": \"gbdt\" #default\n",
    "         }"
   ]
  },
  {
   "cell_type": "code",
   "execution_count": 12,
   "metadata": {
    "scrolled": false
   },
   "outputs": [
    {
     "name": "stderr",
     "output_type": "stream",
     "text": [
      "/home/yzx/.local/lib/python3.8/site-packages/lightgbm/basic.py:1551: UserWarning: Using categorical_feature in Dataset.\n",
      "  warnings.warn('Using categorical_feature in Dataset.')\n"
     ]
    },
    {
     "name": "stdout",
     "output_type": "stream",
     "text": [
      "[LightGBM] [Info] Number of positive: 52192274, number of negative: 27224766\n",
      "[LightGBM] [Warning] Auto-choosing row-wise multi-threading, the overhead of testing was 0.461239 seconds.\n",
      "You can set `force_row_wise=true` to remove the overhead.\n",
      "And if memory is not enough, you can set `force_col_wise=true`.\n",
      "[LightGBM] [Info] Total Bins 12840\n",
      "[LightGBM] [Info] Number of data points in the train set: 79417040, number of used features: 11\n"
     ]
    },
    {
     "name": "stderr",
     "output_type": "stream",
     "text": [
      "/home/yzx/.local/lib/python3.8/site-packages/lightgbm/basic.py:1286: UserWarning: Overriding the parameters from Reference Dataset.\n",
      "  warnings.warn('Overriding the parameters from Reference Dataset.')\n",
      "/home/yzx/.local/lib/python3.8/site-packages/lightgbm/basic.py:1098: UserWarning: categorical_column in param dict is overridden.\n",
      "  warnings.warn('{} in param dict is overridden.'.format(cat_alias))\n"
     ]
    },
    {
     "name": "stdout",
     "output_type": "stream",
     "text": [
      "[LightGBM] [Info] [binary:BoostFromScore]: pavg=0.657192 -> initscore=0.650807\n",
      "[LightGBM] [Info] Start training from score 0.650807\n",
      "Training until validation scores don't improve for 10 rounds\n",
      "[100]\ttraining's auc: 0.759088\tvalid_1's auc: 0.758836\n",
      "[200]\ttraining's auc: 0.759994\tvalid_1's auc: 0.759501\n",
      "[300]\ttraining's auc: 0.760459\tvalid_1's auc: 0.759804\n",
      "[400]\ttraining's auc: 0.760783\tvalid_1's auc: 0.759982\n",
      "[500]\ttraining's auc: 0.760992\tvalid_1's auc: 0.760095\n",
      "[600]\ttraining's auc: 0.761163\tvalid_1's auc: 0.76018\n",
      "[700]\ttraining's auc: 0.761344\tvalid_1's auc: 0.760257\n",
      "[800]\ttraining's auc: 0.761547\tvalid_1's auc: 0.760363\n",
      "[900]\ttraining's auc: 0.761636\tvalid_1's auc: 0.760406\n",
      "[1000]\ttraining's auc: 0.761739\tvalid_1's auc: 0.760459\n",
      "[1100]\ttraining's auc: 0.761892\tvalid_1's auc: 0.760507\n",
      "[1200]\ttraining's auc: 0.761977\tvalid_1's auc: 0.76054\n",
      "Early stopping, best iteration is:\n",
      "[1250]\ttraining's auc: 0.762059\tvalid_1's auc: 0.760564\n",
      "CPU times: user 1d 36min 34s, sys: 6min 47s, total: 1d 43min 22s\n",
      "Wall time: 4h 12min 4s\n"
     ]
    }
   ],
   "source": [
    "%%time\n",
    "model = lgb.train(\n",
    "    params, lgb_train,\n",
    "    valid_sets=[lgb_train, lgb_eval],\n",
    "    verbose_eval=100,\n",
    "    num_boost_round=10000,\n",
    "    early_stopping_rounds=10\n",
    ")"
   ]
  },
  {
   "cell_type": "code",
   "execution_count": 13,
   "metadata": {},
   "outputs": [
    {
     "data": {
      "image/png": "[encoded data removed]",
      "text/plain": [
       "<Figure size 432x288 with 1 Axes>"
      ]
     },
     "metadata": {
      "needs_background": "light"
     },
     "output_type": "display_data"
    }
   ],
   "source": [
    "lgb.plot_importance(model)\n",
    "plt.show()"
   ]
  },
  {
   "cell_type": "code",
   "execution_count": 17,
   "metadata": {},
   "outputs": [
    {
     "data": {
      "text/plain": [
       "<lightgbm.basic.Booster at 0x7f59ae276970>"
      ]
     },
     "execution_count": 17,
     "metadata": {},
     "output_type": "execute_result"
    }
   ],
   "source": [
    "model.save_model('../input/data_io/model_Riiid_Competition_Baseline_1.txt')"
   ]
  },
  {
   "cell_type": "code",
   "execution_count": 15,
   "metadata": {},
   "outputs": [],
   "source": [
    "# import riiideducation\n",
    "# env = riiideducation.make_env()\n",
    "# iter_test = env.iter_test()\n",
    "# for (test_df, sample_prediction_df) in iter_test:\n",
    "#     test_df = make_features(test_df)\n",
    "#     test_df['answered_correctly'] =  model.predict(test_df[features])\n",
    "#     env.predict(test_df.loc[test_df['content_type_id'] == 0, ['row_id', 'answered_correctly']])"
   ]
  }
 ],
 "metadata": {
  "kernelspec": {
   "display_name": "Python 3",
   "language": "python",
   "name": "python3"
  },
  "language_info": {
   "codemirror_mode": {
    "name": "ipython",
    "version": 3
   },
   "file_extension": ".py",
   "mimetype": "text/x-python",
   "name": "python",
   "nbconvert_exporter": "python",
   "pygments_lexer": "ipython3",
   "version": "3.8.5"
  }
 },
 "nbformat": 4,
 "nbformat_minor": 4
}
