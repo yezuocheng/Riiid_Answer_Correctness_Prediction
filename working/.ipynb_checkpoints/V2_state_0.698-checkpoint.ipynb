{
 "cells": [
  {
   "cell_type": "code",
   "execution_count": 19,
   "metadata": {},
   "outputs": [],
   "source": [
    "import numpy as np\n",
    "import pandas as pd\n",
    "import lightgbm as lgb\n",
    "import matplotlib.pyplot as plt\n",
    "import seaborn as sns\n",
    "from sklearn.metrics import roc_auc_score\n",
    "from sklearn.model_selection import train_test_split\n",
    "from multiprocessing import cpu_count\n",
    "from tqdm.notebook import tqdm\n",
    "import gc\n",
    "import os\n",
    "import sys\n",
    "import joblib"
   ]
  },
  {
   "cell_type": "code",
   "execution_count": 20,
   "metadata": {
    "scrolled": false
   },
   "outputs": [
    {
     "name": "stdout",
     "output_type": "stream",
     "text": [
      "CPU times: user 10.9 s, sys: 2.06 s, total: 13 s\n",
      "Wall time: 13 s\n"
     ]
    }
   ],
   "source": [
    "%%time\n",
    "cols_to_load = ['user_id', 'answered_correctly', 'content_id', 'prior_question_had_explanation', 'prior_question_elapsed_time']\n",
    "FEATURES = pd.read_pickle('../input/riiid-train-data-multiple-formats/riiid_train.pkl.gzip')[cols_to_load]\n",
    "FEATURES['prior_question_had_explanation'] = FEATURES['prior_question_had_explanation'].astype('boolean')\n",
    "\n",
    "# questions = pd.read_csv('../input/riiid-test-answer-prediction/questions.csv')\n",
    "# lectures = pd.read_csv('../input/riiid-test-answer-prediction/lectures.csv')\n",
    "dtype={'num_user_answered_questions':np.int16, \n",
    "       'num_user_correctly_questions':np.int16, \n",
    "       'mean_user_accuracy':np.float32,\n",
    "       'watches_lecture':'boolean',\n",
    "       'part':np.int8,\n",
    "       'content_questions':np.int32,\n",
    "       'mean_content_accuracy':np.float32,\n",
    "       'mean_prior_question_had_explanation':np.float32,\n",
    "       'mean_prior_question_elapsed_time':np.float32,\n",
    "      }\n",
    "user_df = pd.read_csv('../input/data_io/user_df.csv', index_col=0,dtype=dtype)\n",
    "content_df = pd.read_csv('../input/data_io/content_df.csv', index_col=0,dtype=dtype)"
   ]
  },
  {
   "cell_type": "code",
   "execution_count": 21,
   "metadata": {},
   "outputs": [],
   "source": [
    "# %%time\n",
    "# #adding user features\n",
    "# user_df = FEATURES[FEATURES.answered_correctly != -1].groupby('user_id').agg({'answered_correctly': ['count', 'sum', 'mean']}).reset_index()\n",
    "# user_df.columns = ['user_id', 'num_user_answered_questions', 'num_user_correctly_questions', 'mean_user_accuracy']\n",
    "# user_df['num_user_answered_questions'] = user_df['num_user_answered_questions'].astype('int16')\n",
    "# user_df['num_user_correctly_questions'] = user_df['num_user_correctly_questions'].astype('int16')\n",
    "# user_df['mean_user_accuracy'] = user_df['mean_user_accuracy'].astype('float32')\n",
    "\n",
    "# user_lect = FEATURES.groupby([\"user_id\", \"answered_correctly\"]).size().unstack()\n",
    "# user_lect.columns = ['Lecture', 'Wrong', 'Right']\n",
    "# user_lect['Lecture'] = user_lect['Lecture'].fillna(0)\n",
    "# user_lect = user_lect.astype('Int64')\n",
    "# user_lect['watches_lecture'] = np.where(user_lect.Lecture > 0, 1, 0)\n",
    "# user_lect['watches_lecture'] = user_lect['watches_lecture'].astype('boolean')\n",
    "# user_lect = user_lect.reset_index()\n",
    "# user_lect = user_lect[['user_id', 'watches_lecture']]\n",
    "# user_df = user_df.merge(user_lect, on = \"user_id\", how = \"left\")\n",
    "# del user_lect\n",
    "# _ = gc.collect()\n",
    "\n",
    "# user_df.head()"
   ]
  },
  {
   "cell_type": "code",
   "execution_count": 22,
   "metadata": {},
   "outputs": [],
   "source": [
    "# %%time\n",
    "# content_df = FEATURES[['content_id','answered_correctly']].loc[FEATURES['answered_correctly'] != -1].groupby('content_id').agg({'answered_correctly': ['count', 'mean']}).reset_index()\n",
    "# content_df.columns = ['content_id', 'content_questions', 'mean_content_accuracy']\n",
    "# content_df.head()\n",
    "# questions.rename(columns={'question_id': 'content_id'}, inplace=True)\n",
    "# questions = questions.merge(content_df, on = \"content_id\", how = \"left\")\n",
    "# questions = questions[['content_id','part','content_questions','mean_content_accuracy']]\n",
    "\n",
    "# questions['part'] = questions['part'].astype('int8')\n",
    "# questions['content_questions'] = questions['content_questions'].astype('int32')\n",
    "# questions['mean_content_accuracy'] = questions['mean_content_accuracy'].astype('float32')\n",
    "\n",
    "# del content_df\n",
    "# _ = gc.collect()\n",
    "\n",
    "# FEATURES = FEATURES[FEATURES['answered_correctly'] != -1]\n",
    "# FEATURES['prior_question_had_explanation'] = FEATURES['prior_question_had_explanation'].shift(-1)\n",
    "# FEATURES['prior_question_elapsed_time'] = FEATURES['prior_question_elapsed_time'].shift(-1)\n",
    "# FEATURES['prior_question_had_explanation'] = FEATURES['prior_question_had_explanation'].replace({True: 1, False: 0})\n",
    "# FEATURES['prior_question_had_explanation'].fillna(0, inplace=True)\n",
    "\n",
    "# content_df_prior = FEATURES[['content_id','prior_question_had_explanation']].groupby('content_id').mean()\n",
    "# content_df_prior.columns = ['mean_prior_question_had_explanation']\n",
    "# content_df_prior['mean_prior_question_had_explanation'] = content_df_prior['mean_prior_question_had_explanation'].astype('float32')\n",
    "# questions = questions.merge(content_df_prior, on = \"content_id\", how = \"left\")\n",
    "# del content_df_prior\n",
    "# _ = gc.collect()\n",
    "\n",
    "# content_df_prior = FEATURES[['content_id','prior_question_elapsed_time']].groupby('content_id').mean()\n",
    "# content_df_prior.columns = ['mean_prior_question_elapsed_time']\n",
    "# content_df_prior['mean_prior_question_elapsed_time'] = content_df_prior['mean_prior_question_elapsed_time'].astype('float32')\n",
    "# questions = questions.merge(content_df_prior, on = \"content_id\", how = \"left\")\n",
    "# del content_df_prior\n",
    "# _ = gc.collect()\n",
    "\n",
    "\n",
    "# content_df = questions\n",
    "# cocontent_df.head()"
   ]
  },
  {
   "cell_type": "code",
   "execution_count": 23,
   "metadata": {},
   "outputs": [],
   "source": [
    "FEATURES = FEATURES[FEATURES['answered_correctly'] != -1]\n",
    "FEATURES['answered_user'] = FEATURES.groupby(['user_id']).content_id.transform('cumcount').astype(np.uint16)\n",
    "FEATURES['answered_correctly_user'] = FEATURES.groupby(['user_id']).answered_correctly.transform('cumsum').astype(np.uint16)"
   ]
  },
  {
   "cell_type": "code",
   "execution_count": 24,
   "metadata": {
    "scrolled": false
   },
   "outputs": [
    {
     "name": "stdout",
     "output_type": "stream",
     "text": [
      "CPU times: user 15.4 s, sys: 1.51 s, total: 16.9 s\n",
      "Wall time: 16.9 s\n"
     ]
    },
    {
     "data": {
      "text/plain": [
       "3275"
      ]
     },
     "execution_count": 24,
     "metadata": {},
     "output_type": "execute_result"
    }
   ],
   "source": [
    "%%time\n",
    "# # Creating attemps features\n",
    "# df_attempt = FEATURES[['user_id','content_id']]\n",
    "# df_attempt['attempts'] = 0\n",
    "# duplicated = 1\n",
    "# n = df_attempt[df_attempt.duplicated()].shape[0]\n",
    "# while n != 0 and duplicated < 6:\n",
    "#     print(f'Searching for {duplicated} duplicated!')\n",
    "#     df_attempt.loc[:,'attempts'].loc[df_attempt.duplicated()==True] += 1\n",
    "#     print(f'Finished {duplicated} attempts!')\n",
    "#     n = df_attempt[df_attempt.duplicated()].shape[0]\n",
    "#     print(f'Still remaining {n} duplicated.')\n",
    "#     duplicated += 1\n",
    "\n",
    "# df_attempt.to_csv('../input/data_io/df_attempt.csv')\n",
    "\n",
    "df_attempt = pd.read_csv('../input/data_io/df_attempt.csv')\n",
    "FEATURES['attempts'] = df_attempt['attempts'].astype('int8')\n",
    "del df_attempt\n",
    "gc.collect()"
   ]
  },
  {
   "cell_type": "code",
   "execution_count": 25,
   "metadata": {},
   "outputs": [],
   "source": [
    "def make_features(FEATURES):\n",
    "    # merge with all features\n",
    "    FEATURES = FEATURES.merge(user_df, how=\"left\", on=\"user_id\")\n",
    "    FEATURES = FEATURES.merge(content_df, how='left', on='content_id')\n",
    "    # add harmonic mean\n",
    "    FEATURES['hmean_user_content_accuracy'] = 2 * (\n",
    "        (FEATURES['mean_user_accuracy'] * FEATURES['mean_content_accuracy']) /\n",
    "        (FEATURES['mean_user_accuracy'] + FEATURES['mean_content_accuracy'])\n",
    "    )\n",
    "    for c in categorical_feature:\n",
    "        FEATURES[c] = FEATURES[c].astype('category')\n",
    "    return FEATURES"
   ]
  },
  {
   "cell_type": "code",
   "execution_count": 26,
   "metadata": {},
   "outputs": [],
   "source": [
    "categorical_feature = [\n",
    "                     'part',\n",
    "                     ]\n",
    "features =['prior_question_elapsed_time',\n",
    " 'mean_user_accuracy',\n",
    " 'answered_correctly_user',\n",
    " 'answered_user',\n",
    " 'mean_content_accuracy',\n",
    " 'part',\n",
    " 'hmean_user_content_accuracy',\n",
    " 'attempts']\n",
    "target = 'answered_correctly'"
   ]
  },
  {
   "cell_type": "code",
   "execution_count": 27,
   "metadata": {},
   "outputs": [],
   "source": [
    "FEATURES = make_features(FEATURES)"
   ]
  },
  {
   "cell_type": "code",
   "execution_count": 28,
   "metadata": {},
   "outputs": [],
   "source": [
    "col = features + [target]\n",
    "FEATURES = FEATURES[col]"
   ]
  },
  {
   "cell_type": "code",
   "execution_count": 29,
   "metadata": {},
   "outputs": [
    {
     "data": {
      "text/plain": [
       "Index                          794170400\n",
       "prior_question_elapsed_time    397085200\n",
       "mean_user_accuracy             397085200\n",
       "answered_correctly_user        198542600\n",
       "answered_user                  198542600\n",
       "mean_content_accuracy          397085200\n",
       "part                            99271676\n",
       "hmean_user_content_accuracy    397085200\n",
       "attempts                        99271300\n",
       "answered_correctly              99271300\n",
       "dtype: int64"
      ]
     },
     "execution_count": 29,
     "metadata": {},
     "output_type": "execute_result"
    }
   ],
   "source": [
    "FEATURES.memory_usage()"
   ]
  },
  {
   "cell_type": "code",
   "execution_count": 30,
   "metadata": {},
   "outputs": [
    {
     "data": {
      "text/plain": [
       "0"
      ]
     },
     "execution_count": 30,
     "metadata": {},
     "output_type": "execute_result"
    }
   ],
   "source": [
    "\n",
    "X_train, X_valid, y_train, y_valid = train_test_split(FEATURES[features], FEATURES[target], test_size=0.2, random_state=1)\n",
    "del FEATURES\n",
    "gc.collect()\n",
    "lgb_train = lgb.Dataset(X_train, y_train, categorical_feature = categorical_feature)\n",
    "lgb_eval = lgb.Dataset(X_valid, y_valid, categorical_feature = categorical_feature)\n",
    "del X_train, y_train, X_valid, y_valid\n",
    "gc.collect()"
   ]
  },
  {
   "cell_type": "code",
   "execution_count": 31,
   "metadata": {},
   "outputs": [],
   "source": [
    "params = {'objective': 'binary',\n",
    "          'metric': 'auc',\n",
    "          'seed': 1,\n",
    "          'learning_rate': 0.1, #default\n",
    "          \"boosting_type\": \"gbdt\" #default\n",
    "         }"
   ]
  },
  {
   "cell_type": "code",
   "execution_count": 32,
   "metadata": {},
   "outputs": [
    {
     "name": "stderr",
     "output_type": "stream",
     "text": [
      "/home/yzx/.local/lib/python3.8/site-packages/lightgbm/basic.py:1551: UserWarning: Using categorical_feature in Dataset.\n",
      "  warnings.warn('Using categorical_feature in Dataset.')\n"
     ]
    },
    {
     "name": "stdout",
     "output_type": "stream",
     "text": [
      "[LightGBM] [Info] Number of positive: 52192274, number of negative: 27224766\n",
      "[LightGBM] [Warning] Auto-choosing row-wise multi-threading, the overhead of testing was 0.347354 seconds.\n",
      "You can set `force_row_wise=true` to remove the overhead.\n",
      "And if memory is not enough, you can set `force_col_wise=true`.\n",
      "[LightGBM] [Info] Total Bins 1542\n",
      "[LightGBM] [Info] Number of data points in the train set: 79417040, number of used features: 8\n"
     ]
    },
    {
     "name": "stderr",
     "output_type": "stream",
     "text": [
      "/home/yzx/.local/lib/python3.8/site-packages/lightgbm/basic.py:1286: UserWarning: Overriding the parameters from Reference Dataset.\n",
      "  warnings.warn('Overriding the parameters from Reference Dataset.')\n",
      "/home/yzx/.local/lib/python3.8/site-packages/lightgbm/basic.py:1098: UserWarning: categorical_column in param dict is overridden.\n",
      "  warnings.warn('{} in param dict is overridden.'.format(cat_alias))\n"
     ]
    },
    {
     "name": "stdout",
     "output_type": "stream",
     "text": [
      "[LightGBM] [Info] [binary:BoostFromScore]: pavg=0.657192 -> initscore=0.650807\n",
      "[LightGBM] [Info] Start training from score 0.650807\n",
      "Training until validation scores don't improve for 10 rounds\n",
      "[100]\ttraining's auc: 0.772609\tvalid_1's auc: 0.772624\n",
      "[200]\ttraining's auc: 0.774087\tvalid_1's auc: 0.774088\n",
      "[300]\ttraining's auc: 0.774678\tvalid_1's auc: 0.774665\n",
      "[400]\ttraining's auc: 0.775092\tvalid_1's auc: 0.775062\n",
      "[500]\ttraining's auc: 0.775357\tvalid_1's auc: 0.775311\n",
      "[600]\ttraining's auc: 0.77555\tvalid_1's auc: 0.77549\n",
      "[700]\ttraining's auc: 0.77573\tvalid_1's auc: 0.775654\n",
      "[800]\ttraining's auc: 0.775889\tvalid_1's auc: 0.775795\n",
      "[900]\ttraining's auc: 0.776021\tvalid_1's auc: 0.775911\n",
      "[1000]\ttraining's auc: 0.776124\tvalid_1's auc: 0.775997\n",
      "[1100]\ttraining's auc: 0.776215\tvalid_1's auc: 0.77607\n",
      "[1200]\ttraining's auc: 0.776295\tvalid_1's auc: 0.776133\n",
      "[1300]\ttraining's auc: 0.776373\tvalid_1's auc: 0.776193\n",
      "[1400]\ttraining's auc: 0.776452\tvalid_1's auc: 0.776254\n",
      "[1500]\ttraining's auc: 0.776518\tvalid_1's auc: 0.776302\n",
      "[1600]\ttraining's auc: 0.776582\tvalid_1's auc: 0.776349\n",
      "[1700]\ttraining's auc: 0.776653\tvalid_1's auc: 0.776399\n",
      "[1800]\ttraining's auc: 0.77672\tvalid_1's auc: 0.776446\n",
      "[1900]\ttraining's auc: 0.776775\tvalid_1's auc: 0.776482\n",
      "[2000]\ttraining's auc: 0.77683\tvalid_1's auc: 0.776517\n",
      "[2100]\ttraining's auc: 0.776882\tvalid_1's auc: 0.77655\n",
      "[2200]\ttraining's auc: 0.776937\tvalid_1's auc: 0.776585\n",
      "[2300]\ttraining's auc: 0.776984\tvalid_1's auc: 0.776613\n",
      "[2400]\ttraining's auc: 0.777038\tvalid_1's auc: 0.776648\n",
      "[2500]\ttraining's auc: 0.777086\tvalid_1's auc: 0.776678\n",
      "Did not meet early stopping. Best iteration is:\n",
      "[2500]\ttraining's auc: 0.777086\tvalid_1's auc: 0.776678\n",
      "CPU times: user 1d 20h 35min 10s, sys: 12min 23s, total: 1d 20h 47min 33s\n",
      "Wall time: 7h 39min 7s\n"
     ]
    }
   ],
   "source": [
    "%%time\n",
    "model = lgb.train(\n",
    "    params, lgb_train,\n",
    "    valid_sets=[lgb_train, lgb_eval],\n",
    "    verbose_eval=100,\n",
    "    num_boost_round=2500,\n",
    "    early_stopping_rounds=10\n",
    ")"
   ]
  },
  {
   "cell_type": "code",
   "execution_count": 42,
   "metadata": {},
   "outputs": [
    {
     "data": {
      "image/png": "[encoded data removed]",
      "text/plain": [
       "<Figure size 432x288 with 1 Axes>"
      ]
     },
     "metadata": {
      "needs_background": "light"
     },
     "output_type": "display_data"
    }
   ],
   "source": [
    "lgb.plot_importance(model)\n",
    "plt.show()"
   ]
  },
  {
   "cell_type": "code",
   "execution_count": 34,
   "metadata": {},
   "outputs": [
    {
     "data": {
      "text/plain": [
       "['../input/data_io/Riiid_training_and_prediction_using_a_state1.pkl']"
      ]
     },
     "execution_count": 34,
     "metadata": {},
     "output_type": "execute_result"
    }
   ],
   "source": [
    "joblib.dump(model, '../input/data_io/Riiid_training_and_prediction_using_a_state1.pkl')"
   ]
  },
  {
   "cell_type": "markdown",
   "metadata": {},
   "source": [
    "---"
   ]
  },
  {
   "cell_type": "markdown",
   "metadata": {},
   "source": [
    "# Predict"
   ]
  },
  {
   "cell_type": "code",
   "execution_count": 35,
   "metadata": {},
   "outputs": [],
   "source": [
    "# model = joblib.load('../input/data_io/model_Riiid_Competition_Baseline_1.pkl')"
   ]
  },
  {
   "cell_type": "code",
   "execution_count": 36,
   "metadata": {},
   "outputs": [],
   "source": [
    "# %%time\n",
    "# #Creating state\n",
    "# features_df = FEATURES[['user_id', 'content_id', 'answered_correctly']]\n",
    "# # compute user features over all train data\n",
    "# mean_user_accuracy = features_df.groupby('user_id')['answered_correctly'].mean().values\n",
    "# answered_correctly_user = features_df.groupby('user_id')['answered_correctly'].sum().values\n",
    "# answered_user = features_df.groupby('user_id')['answered_correctly'].count().values  \n",
    "\n",
    "# # fill dictionary with default values\n",
    "# state = dict()\n",
    "# for user_id in tqdm(features_df['user_id'].unique()):\n",
    "#     state[user_id] = {}\n",
    "# total = len(state.keys())\n",
    "\n",
    "# # add user content attempts\n",
    "# user_content = features_df.groupby('user_id')['content_id'].apply(np.array).apply(np.sort).apply(np.unique)\n",
    "# user_attempts = features_df.groupby(['user_id', 'content_id'])['content_id'].count().astype(np.uint8).groupby('user_id').apply(np.array).values\n",
    "# user_attempts -= 1\n",
    "\n",
    "# for user_id, content, attempt in tqdm(zip(state.keys(), user_content, user_attempts),total=total):\n",
    "#     state[user_id]['user_content_attempts'] = dict(zip(content, attempt))\n",
    "\n",
    "# del user_content, user_attempts\n",
    "# gc.collect()\n",
    "\n",
    "# for idx, user_id in tqdm(enumerate(state.keys())):\n",
    "#     state[user_id]['mean_user_accuracy'] = mean_user_accuracy[idx]\n",
    "#     state[user_id]['answered_correctly_user'] = answered_correctly_user[idx]\n",
    "#     state[user_id]['answered_user'] = answered_user[idx]\n",
    "# del features_df\n",
    "# gc.collect()"
   ]
  },
  {
   "cell_type": "code",
   "execution_count": 37,
   "metadata": {},
   "outputs": [],
   "source": [
    "# def get_user_data(state, test_df):\n",
    "#     # updated data\n",
    "#     attempt, mean_user_accuracy, answered_correctly_user, answered_user = [], [], [], []\n",
    "    \n",
    "#     for idx, (user_id, content_id) in test_df[['user_id', 'content_id']].iterrows():\n",
    "#         # check if user exists\n",
    "#         if user_id in state:\n",
    "#             # check if user already answered the question, if so update it to a maximum of 4\n",
    "#             if content_id in state[user_id]['user_content_attempts']:\n",
    "#                 state[user_id]['user_content_attempts'][content_id] = min(4, state[user_id]['user_content_attempts'][content_id] + 1)\n",
    "#             # if user did not answered the question already, set the number of attempts to 0\n",
    "#             else:\n",
    "#                 state[user_id]['user_content_attempts'][content_id] = 0\n",
    "        \n",
    "#         # else create user with default values\n",
    "#         else:\n",
    "#             dict_keys = ['mean_user_accuracy', 'answered_correctly_user', 'answered_user', 'user_content_attempts']\n",
    "#             dict_default_vals = [0.680, 0, 0, dict(zip([content_id],[0]))]\n",
    "#             state[user_id] = dict(zip(dict_keys, dict_default_vals))\n",
    "\n",
    "#         # add user data to lists\n",
    "#         attempt.append(state[user_id]['user_content_attempts'][content_id])\n",
    "#         mean_user_accuracy.append(state[user_id]['mean_user_accuracy'])\n",
    "#         answered_correctly_user.append(state[user_id]['answered_correctly_user'])\n",
    "#         answered_user.append(state[user_id]['answered_user'])\n",
    "    \n",
    "#     return attempt, mean_user_accuracy, answered_correctly_user, answered_user"
   ]
  },
  {
   "cell_type": "code",
   "execution_count": 38,
   "metadata": {},
   "outputs": [],
   "source": [
    "# # updates the user data\n",
    "# def update_user_data(state, features_questions_df, prev_test_df):\n",
    "#     for user_id, content_id, answered_correctly in prev_test_df[['user_id', 'content_id', 'answered_correctly']].values:\n",
    "#         # update user features\n",
    "#         state[user_id]['answered_correctly_user'] += answered_correctly\n",
    "#         state[user_id]['answered_user'] += 1\n",
    "#         state[user_id]['mean_user_accuracy'] = state[user_id]['answered_correctly_user'] / state[user_id]['answered_user']"
   ]
  },
  {
   "cell_type": "code",
   "execution_count": 39,
   "metadata": {},
   "outputs": [],
   "source": [
    "# import riiideducation\n",
    "# env = riiideducation.make_env()\n",
    "# iter_test = env.iter_test()"
   ]
  },
  {
   "cell_type": "code",
   "execution_count": 40,
   "metadata": {},
   "outputs": [],
   "source": [
    "# prev_test_df = None\n",
    "# mean_attempt_acc_factor = FEATURES['mean_attempt_acc_factor']\n",
    "\n",
    "# for idx, (test_df, _) in tqdm(enumerate(iter_test)):\n",
    "#     # from 2nd iteration, update user data\n",
    "#     if prev_test_df is not None:\n",
    "#         prev_test_df['answered_correctly'] = eval(test_df['prior_group_answers_correct'].iloc[0])\n",
    "#         update_user_data(state, features_questions_df, prev_test_df.loc[prev_test_df['content_type_id'] == 0])\n",
    "#         if idx is 1:\n",
    "#             display(test_df)\n",
    "#             display(prev_test_df)\n",
    "    \n",
    "#     # get user data from state and update attempt\n",
    "#     attempt, mean_user_accuracy, answered_correctly_user, answered_user = get_user_data(state, test_df)\n",
    "\n",
    "#     # set updated user data\n",
    "#     test_df['attempt'] = attempt\n",
    "#     test_df['mean_user_accuracy'] = mean_user_accuracy\n",
    "#     test_df['answered_correctly_user'] = answered_correctly_user\n",
    "#     test_df['answered_user'] = answered_user\n",
    "\n",
    "#     # merge with all features\n",
    "#     test_df = features_questions_df.merge(test_df, how='right', on='content_id')\n",
    "\n",
    "#     # fill prior question had explenation\n",
    "#     test_df['prior_question_elapsed_time'].fillna(23916, inplace=True)\n",
    "\n",
    "#     # add harmonic mean\n",
    "#     test_df['hmean_user_content_accuracy'] = 2 * (\n",
    "#         (test_df['mean_user_accuracy'] * test_df['mean_content_accuracy']) /\n",
    "#         (test_df['mean_user_accuracy'] + test_df['mean_content_accuracy'])\n",
    "#     )\n",
    "\n",
    "#     test_df['answered_correctly'] = model.predict(test_df[features])\n",
    "\n",
    "#     env.predict(test_df.loc[test_df['content_type_id'] == 0, ['row_id', 'answered_correctly']])\n",
    "\n",
    "#     # set previour test_df\n",
    "#     prev_test_df = test_df.copy()"
   ]
  },
  {
   "cell_type": "code",
   "execution_count": 41,
   "metadata": {},
   "outputs": [],
   "source": [
    "# submission = pd.read_csv('./submission.csv')"
   ]
  }
 ],
 "metadata": {
  "kernelspec": {
   "display_name": "Python 3",
   "language": "python",
   "name": "python3"
  },
  "language_info": {
   "codemirror_mode": {
    "name": "ipython",
    "version": 3
   },
   "file_extension": ".py",
   "mimetype": "text/x-python",
   "name": "python",
   "nbconvert_exporter": "python",
   "pygments_lexer": "ipython3",
   "version": "3.8.5"
  }
 },
 "nbformat": 4,
 "nbformat_minor": 4
}
