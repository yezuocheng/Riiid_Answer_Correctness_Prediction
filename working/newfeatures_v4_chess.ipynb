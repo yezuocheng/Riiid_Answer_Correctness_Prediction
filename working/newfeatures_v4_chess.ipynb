{
 "cells": [
  {
   "cell_type": "markdown",
   "metadata": {},
   "source": [
    "# Newfeatures_v4_chess\n",
    "## Reference:\n",
    "- https://www.kaggle.com/yezuocheng/0-780-lgbm-0-780/edit?rvi=1\n",
    "- https://www.icode9.com/content-1-376184.html\n",
    "- https://zhuanlan.zhihu.com/p/41422048\n",
    "- http://www.huaxiaozhuan.com/%E5%B7%A5%E5%85%B7/lightgbm/chapters/lightgbm_usage.html\n",
    "- https://lightgbm.readthedocs.io/en/latest/Parameters.html"
   ]
  },
  {
   "cell_type": "code",
   "execution_count": 10,
   "metadata": {
    "_cell_guid": "79c7e3d0-c299-4dcb-8224-4455121ee9b0",
    "_uuid": "d629ff2d2480ee46fbb7e2d37f6b5fab8052498a",
    "execution": {
     "iopub.execute_input": "2021-01-04T15:19:05.19097Z",
     "iopub.status.busy": "2021-01-04T15:19:05.190129Z",
     "iopub.status.idle": "2021-01-04T15:19:06.431922Z",
     "shell.execute_reply": "2021-01-04T15:19:06.431198Z"
    },
    "papermill": {
     "duration": 1.315768,
     "end_time": "2021-01-04T15:19:06.432066",
     "exception": false,
     "start_time": "2021-01-04T15:19:05.116298",
     "status": "completed"
    },
    "tags": []
   },
   "outputs": [],
   "source": [
    "import pickle\n",
    "import trueskill\n",
    "import math\n",
    "import time\n",
    "import numpy as np\n",
    "import random\n",
    "import pandas as pd\n",
    "import joblib\n",
    "from collections import defaultdict\n",
    "import datatable as dt\n",
    "import lightgbm as lgb\n",
    "from matplotlib import pyplot as plt\n",
    "# import riiideducation\n",
    "from sklearn.metrics import roc_auc_score\n",
    "import gc\n",
    "\n",
    "_ = np.seterr(divide='ignore', invalid='ignore')"
   ]
  },
  {
   "cell_type": "markdown",
   "metadata": {
    "papermill": {
     "duration": 0.069311,
     "end_time": "2021-01-04T15:19:06.57108",
     "exception": false,
     "start_time": "2021-01-04T15:19:06.501769",
     "status": "completed"
    },
    "tags": []
   },
   "source": [
    "# Preprocess"
   ]
  },
  {
   "cell_type": "code",
   "execution_count": 11,
   "metadata": {
    "execution": {
     "iopub.execute_input": "2021-01-04T15:19:06.72418Z",
     "iopub.status.busy": "2021-01-04T15:19:06.723023Z",
     "iopub.status.idle": "2021-01-04T15:19:06.725894Z",
     "shell.execute_reply": "2021-01-04T15:19:06.726535Z"
    },
    "papermill": {
     "duration": 0.085983,
     "end_time": "2021-01-04T15:19:06.726729",
     "exception": false,
     "start_time": "2021-01-04T15:19:06.640746",
     "status": "completed"
    },
    "tags": []
   },
   "outputs": [],
   "source": [
    "data_types_dict = {\n",
    "    'timestamp': 'int64',\n",
    "    'user_id': 'int32', \n",
    "    'content_id': 'int16', \n",
    "    'content_type_id':'int8', \n",
    "    'task_container_id': 'int16',\n",
    "    #'user_answer': 'int8',\n",
    "    'answered_correctly': 'int8', \n",
    "    'prior_question_elapsed_time': 'float32', \n",
    "    'prior_question_had_explanation': 'bool'\n",
    "}\n",
    "target = 'answered_correctly'"
   ]
  },
  {
   "cell_type": "code",
   "execution_count": 12,
   "metadata": {
    "execution": {
     "iopub.execute_input": "2021-01-04T15:19:06.87638Z",
     "iopub.status.busy": "2021-01-04T15:19:06.875092Z",
     "iopub.status.idle": "2021-01-04T15:20:53.927963Z",
     "shell.execute_reply": "2021-01-04T15:20:53.92728Z"
    },
    "papermill": {
     "duration": 107.12712,
     "end_time": "2021-01-04T15:20:53.928113",
     "exception": false,
     "start_time": "2021-01-04T15:19:06.800993",
     "status": "completed"
    },
    "tags": []
   },
   "outputs": [
    {
     "name": "stdout",
     "output_type": "stream",
     "text": [
      "start read train data...\n"
     ]
    }
   ],
   "source": [
    "print('start read train data...')\n",
    "train_df = dt.fread('../input/riiid-test-answer-prediction/train.csv', columns=set(data_types_dict.keys())).to_pandas()"
   ]
  },
  {
   "cell_type": "code",
   "execution_count": 13,
   "metadata": {
    "execution": {
     "iopub.execute_input": "2021-01-04T15:20:54.207005Z",
     "iopub.status.busy": "2021-01-04T15:20:54.20626Z",
     "iopub.status.idle": "2021-01-04T15:20:54.211223Z",
     "shell.execute_reply": "2021-01-04T15:20:54.21184Z"
    },
    "papermill": {
     "duration": 0.075971,
     "end_time": "2021-01-04T15:20:54.21198",
     "exception": false,
     "start_time": "2021-01-04T15:20:54.136009",
     "status": "completed"
    },
    "tags": []
   },
   "outputs": [
    {
     "name": "stdout",
     "output_type": "stream",
     "text": [
      "start handle lecture data...\n"
     ]
    }
   ],
   "source": [
    "print('start handle lecture data...')"
   ]
  },
  {
   "cell_type": "code",
   "execution_count": 14,
   "metadata": {
    "execution": {
     "iopub.execute_input": "2021-01-04T15:20:54.348986Z",
     "iopub.status.busy": "2021-01-04T15:20:54.348279Z",
     "iopub.status.idle": "2021-01-04T15:20:54.368119Z",
     "shell.execute_reply": "2021-01-04T15:20:54.368701Z"
    },
    "papermill": {
     "duration": 0.090541,
     "end_time": "2021-01-04T15:20:54.36886",
     "exception": false,
     "start_time": "2021-01-04T15:20:54.278319",
     "status": "completed"
    },
    "tags": []
   },
   "outputs": [],
   "source": [
    "#reading in lecture df\n",
    "lectures_df = pd.read_csv('../input/riiid-test-answer-prediction/lectures.csv')"
   ]
  },
  {
   "cell_type": "code",
   "execution_count": 15,
   "metadata": {
    "execution": {
     "iopub.execute_input": "2021-01-04T15:20:54.507704Z",
     "iopub.status.busy": "2021-01-04T15:20:54.507036Z",
     "iopub.status.idle": "2021-01-04T15:20:54.542992Z",
     "shell.execute_reply": "2021-01-04T15:20:54.543493Z"
    },
    "papermill": {
     "duration": 0.106998,
     "end_time": "2021-01-04T15:20:54.543674",
     "exception": false,
     "start_time": "2021-01-04T15:20:54.436676",
     "status": "completed"
    },
    "tags": []
   },
   "outputs": [],
   "source": [
    "lectures_df['type_of'] = lectures_df['type_of'].replace('solving question', 'solving_question')\n",
    "\n",
    "lectures_df = pd.get_dummies(lectures_df, columns=['part', 'type_of'])\n",
    "\n",
    "part_lectures_columns = [column for column in lectures_df.columns if column.startswith('part')]\n",
    "\n",
    "types_of_lectures_columns = [column for column in lectures_df.columns if column.startswith('type_of_')]"
   ]
  },
  {
   "cell_type": "code",
   "execution_count": 16,
   "metadata": {
    "execution": {
     "iopub.execute_input": "2021-01-04T15:20:54.68376Z",
     "iopub.status.busy": "2021-01-04T15:20:54.683089Z",
     "iopub.status.idle": "2021-01-04T15:20:56.128981Z",
     "shell.execute_reply": "2021-01-04T15:20:56.128418Z"
    },
    "papermill": {
     "duration": 1.518933,
     "end_time": "2021-01-04T15:20:56.129106",
     "exception": false,
     "start_time": "2021-01-04T15:20:54.610173",
     "status": "completed"
    },
    "tags": []
   },
   "outputs": [],
   "source": [
    "train_lectures = train_df[train_df.content_type_id == True].merge(lectures_df, left_on='content_id', right_on='lecture_id', how='left')"
   ]
  },
  {
   "cell_type": "code",
   "execution_count": 17,
   "metadata": {
    "execution": {
     "iopub.execute_input": "2021-01-04T15:20:56.272454Z",
     "iopub.status.busy": "2021-01-04T15:20:56.271802Z",
     "iopub.status.idle": "2021-01-04T15:20:56.864228Z",
     "shell.execute_reply": "2021-01-04T15:20:56.864801Z"
    },
    "papermill": {
     "duration": 0.668902,
     "end_time": "2021-01-04T15:20:56.864951",
     "exception": false,
     "start_time": "2021-01-04T15:20:56.196049",
     "status": "completed"
    },
    "tags": []
   },
   "outputs": [],
   "source": [
    "user_lecture_stats_part = train_lectures.groupby('user_id',as_index = False)[part_lectures_columns + types_of_lectures_columns].sum()"
   ]
  },
  {
   "cell_type": "code",
   "execution_count": 18,
   "metadata": {
    "execution": {
     "iopub.execute_input": "2021-01-04T15:20:57.00874Z",
     "iopub.status.busy": "2021-01-04T15:20:57.007563Z",
     "iopub.status.idle": "2021-01-04T15:20:57.017799Z",
     "shell.execute_reply": "2021-01-04T15:20:57.018341Z"
    },
    "papermill": {
     "duration": 0.086438,
     "end_time": "2021-01-04T15:20:57.018482",
     "exception": false,
     "start_time": "2021-01-04T15:20:56.932044",
     "status": "completed"
    },
    "tags": []
   },
   "outputs": [],
   "source": [
    "lecturedata_types_dict = {   \n",
    "    'user_id': 'int32', \n",
    "    'part_1': 'int8',\n",
    "    'part_2': 'int8',\n",
    "    'part_3': 'int8',\n",
    "    'part_4': 'int8',\n",
    "    'part_5': 'int8',\n",
    "    'part_6': 'int8',\n",
    "    'part_7': 'int8',\n",
    "    'type_of_concept': 'int8',\n",
    "    'type_of_intention': 'int8',\n",
    "    'type_of_solving_question': 'int8',\n",
    "    'type_of_starter': 'int8'\n",
    "}\n",
    "user_lecture_stats_part = user_lecture_stats_part.astype(lecturedata_types_dict)"
   ]
  },
  {
   "cell_type": "code",
   "execution_count": 19,
   "metadata": {
    "execution": {
     "iopub.execute_input": "2021-01-04T15:20:57.15958Z",
     "iopub.status.busy": "2021-01-04T15:20:57.158517Z",
     "iopub.status.idle": "2021-01-04T15:20:57.17243Z",
     "shell.execute_reply": "2021-01-04T15:20:57.171891Z"
    },
    "papermill": {
     "duration": 0.085339,
     "end_time": "2021-01-04T15:20:57.172557",
     "exception": false,
     "start_time": "2021-01-04T15:20:57.087218",
     "status": "completed"
    },
    "tags": []
   },
   "outputs": [],
   "source": [
    "for column in user_lecture_stats_part.columns:\n",
    "    #bool_column = column + '_boolean'\n",
    "    if(column !='user_id'):\n",
    "        user_lecture_stats_part[column] = (user_lecture_stats_part[column] > 0).astype('int8')"
   ]
  },
  {
   "cell_type": "code",
   "execution_count": 20,
   "metadata": {
    "execution": {
     "iopub.execute_input": "2021-01-04T15:20:57.317776Z",
     "iopub.status.busy": "2021-01-04T15:20:57.31706Z",
     "iopub.status.idle": "2021-01-04T15:20:57.327044Z",
     "shell.execute_reply": "2021-01-04T15:20:57.326429Z"
    },
    "papermill": {
     "duration": 0.082897,
     "end_time": "2021-01-04T15:20:57.327178",
     "exception": false,
     "start_time": "2021-01-04T15:20:57.244281",
     "status": "completed"
    },
    "tags": []
   },
   "outputs": [
    {
     "data": {
      "text/plain": [
       "user_id                     int32\n",
       "part_1                       int8\n",
       "part_2                       int8\n",
       "part_3                       int8\n",
       "part_4                       int8\n",
       "part_5                       int8\n",
       "part_6                       int8\n",
       "part_7                       int8\n",
       "type_of_concept              int8\n",
       "type_of_intention            int8\n",
       "type_of_solving_question     int8\n",
       "type_of_starter              int8\n",
       "dtype: object"
      ]
     },
     "execution_count": 20,
     "metadata": {},
     "output_type": "execute_result"
    }
   ],
   "source": [
    "user_lecture_stats_part.dtypes"
   ]
  },
  {
   "cell_type": "code",
   "execution_count": 21,
   "metadata": {
    "execution": {
     "iopub.execute_input": "2021-01-04T15:20:57.591455Z",
     "iopub.status.busy": "2021-01-04T15:20:57.590535Z",
     "iopub.status.idle": "2021-01-04T15:20:57.596607Z",
     "shell.execute_reply": "2021-01-04T15:20:57.596074Z"
    },
    "papermill": {
     "duration": 0.200352,
     "end_time": "2021-01-04T15:20:57.596742",
     "exception": false,
     "start_time": "2021-01-04T15:20:57.39639",
     "status": "completed"
    },
    "tags": []
   },
   "outputs": [
    {
     "data": {
      "text/plain": [
       "136"
      ]
     },
     "execution_count": 21,
     "metadata": {},
     "output_type": "execute_result"
    }
   ],
   "source": [
    "#clearing memory\n",
    "del(train_lectures)\n",
    "gc.collect()"
   ]
  },
  {
   "cell_type": "code",
   "execution_count": 22,
   "metadata": {
    "execution": {
     "iopub.execute_input": "2021-01-04T15:20:57.742356Z",
     "iopub.status.busy": "2021-01-04T15:20:57.741657Z",
     "iopub.status.idle": "2021-01-04T15:21:02.067399Z",
     "shell.execute_reply": "2021-01-04T15:21:02.066765Z"
    },
    "papermill": {
     "duration": 4.401757,
     "end_time": "2021-01-04T15:21:02.067546",
     "exception": false,
     "start_time": "2021-01-04T15:20:57.665789",
     "status": "completed"
    },
    "tags": []
   },
   "outputs": [],
   "source": [
    "user_lecture_agg = train_df.groupby('user_id')['content_type_id'].agg(['sum', 'count'])\n",
    "user_lecture_agg=user_lecture_agg.astype('int16')"
   ]
  },
  {
   "cell_type": "code",
   "execution_count": 23,
   "metadata": {
    "execution": {
     "iopub.execute_input": "2021-01-04T15:21:02.218468Z",
     "iopub.status.busy": "2021-01-04T15:21:02.217742Z",
     "iopub.status.idle": "2021-01-04T15:21:17.345263Z",
     "shell.execute_reply": "2021-01-04T15:21:17.344583Z"
    },
    "papermill": {
     "duration": 15.207391,
     "end_time": "2021-01-04T15:21:17.345392",
     "exception": false,
     "start_time": "2021-01-04T15:21:02.138001",
     "status": "completed"
    },
    "tags": []
   },
   "outputs": [],
   "source": [
    "\n",
    "#1= if the event was the user watching a lecture.\n",
    "cum = train_df.groupby('user_id')['content_type_id'].agg(['cumsum', 'cumcount'])\n",
    "cum['cumcount']=cum['cumcount']+1\n",
    "train_df['user_interaction_count'] = cum['cumcount'] \n",
    "train_df['user_interaction_timestamp_mean'] = train_df['timestamp']/cum['cumcount'] \n",
    "train_df['user_lecture_sum'] = cum['cumsum'] \n",
    "train_df['user_lecture_lv'] = cum['cumsum'] / cum['cumcount']\n",
    "\n",
    "\n",
    "train_df.user_lecture_lv=train_df.user_lecture_lv.astype('float16')\n",
    "train_df.user_lecture_sum=train_df.user_lecture_sum.astype('int16')\n",
    "train_df.user_interaction_count=train_df.user_interaction_count.astype('int16')\n",
    "train_df['user_interaction_timestamp_mean']=train_df['user_interaction_timestamp_mean']/(1000*3600)\n",
    "train_df.user_interaction_timestamp_mean=train_df.user_interaction_timestamp_mean.astype('float32')\n"
   ]
  },
  {
   "cell_type": "code",
   "execution_count": 24,
   "metadata": {
    "execution": {
     "iopub.execute_input": "2021-01-04T15:21:17.494507Z",
     "iopub.status.busy": "2021-01-04T15:21:17.493658Z",
     "iopub.status.idle": "2021-01-04T15:21:17.497393Z",
     "shell.execute_reply": "2021-01-04T15:21:17.496822Z"
    },
    "papermill": {
     "duration": 0.078511,
     "end_time": "2021-01-04T15:21:17.497524",
     "exception": false,
     "start_time": "2021-01-04T15:21:17.419013",
     "status": "completed"
    },
    "tags": []
   },
   "outputs": [],
   "source": [
    "#pd.options.display.max_rows = 200"
   ]
  },
  {
   "cell_type": "code",
   "execution_count": 25,
   "metadata": {
    "execution": {
     "iopub.execute_input": "2021-01-04T15:21:17.771236Z",
     "iopub.status.busy": "2021-01-04T15:21:17.770503Z",
     "iopub.status.idle": "2021-01-04T15:21:17.776091Z",
     "shell.execute_reply": "2021-01-04T15:21:17.775451Z"
    },
    "papermill": {
     "duration": 0.208423,
     "end_time": "2021-01-04T15:21:17.776201",
     "exception": false,
     "start_time": "2021-01-04T15:21:17.567778",
     "status": "completed"
    },
    "tags": []
   },
   "outputs": [
    {
     "data": {
      "text/plain": [
       "82"
      ]
     },
     "execution_count": 25,
     "metadata": {},
     "output_type": "execute_result"
    }
   ],
   "source": [
    "del cum\n",
    "gc.collect()"
   ]
  },
  {
   "cell_type": "code",
   "execution_count": 26,
   "metadata": {
    "execution": {
     "iopub.execute_input": "2021-01-04T15:21:17.920872Z",
     "iopub.status.busy": "2021-01-04T15:21:17.920004Z",
     "iopub.status.idle": "2021-01-04T15:21:17.9255Z",
     "shell.execute_reply": "2021-01-04T15:21:17.924883Z"
    },
    "papermill": {
     "duration": 0.079913,
     "end_time": "2021-01-04T15:21:17.925636",
     "exception": false,
     "start_time": "2021-01-04T15:21:17.845723",
     "status": "completed"
    },
    "tags": []
   },
   "outputs": [
    {
     "name": "stdout",
     "output_type": "stream",
     "text": [
      "start handle train_df...\n"
     ]
    }
   ],
   "source": [
    "print('start handle train_df...')"
   ]
  },
  {
   "cell_type": "code",
   "execution_count": 27,
   "metadata": {
    "execution": {
     "iopub.execute_input": "2021-01-04T15:21:29.031147Z",
     "iopub.status.busy": "2021-01-04T15:21:29.030102Z",
     "iopub.status.idle": "2021-01-04T15:21:47.103653Z",
     "shell.execute_reply": "2021-01-04T15:21:47.102917Z"
    },
    "papermill": {
     "duration": 29.108104,
     "end_time": "2021-01-04T15:21:47.10381",
     "exception": false,
     "start_time": "2021-01-04T15:21:17.995706",
     "status": "completed"
    },
    "tags": []
   },
   "outputs": [],
   "source": [
    "train_df['prior_question_had_explanation'].fillna(False, inplace=True)\n",
    "train_df = train_df.astype(data_types_dict)\n",
    "train_df = train_df[train_df[target] != -1].reset_index(drop=True)"
   ]
  },
  {
   "cell_type": "code",
   "execution_count": 28,
   "metadata": {
    "execution": {
     "iopub.execute_input": "2021-01-04T15:21:47.77525Z",
     "iopub.status.busy": "2021-01-04T15:21:47.774391Z",
     "iopub.status.idle": "2021-01-04T15:21:53.836707Z",
     "shell.execute_reply": "2021-01-04T15:21:53.837429Z"
    },
    "papermill": {
     "duration": 6.659971,
     "end_time": "2021-01-04T15:21:53.837638",
     "exception": false,
     "start_time": "2021-01-04T15:21:47.177667",
     "status": "completed"
    },
    "tags": []
   },
   "outputs": [],
   "source": [
    "content_explation_agg=train_df[[\"content_id\",\"prior_question_had_explanation\",target]].groupby([\"content_id\",\"prior_question_had_explanation\"])[target].agg(['mean'])"
   ]
  },
  {
   "cell_type": "code",
   "execution_count": 29,
   "metadata": {
    "execution": {
     "iopub.execute_input": "2021-01-04T15:21:53.982931Z",
     "iopub.status.busy": "2021-01-04T15:21:53.981945Z",
     "iopub.status.idle": "2021-01-04T15:21:53.988747Z",
     "shell.execute_reply": "2021-01-04T15:21:53.989202Z"
    },
    "papermill": {
     "duration": 0.080385,
     "end_time": "2021-01-04T15:21:53.989341",
     "exception": false,
     "start_time": "2021-01-04T15:21:53.908956",
     "status": "completed"
    },
    "tags": []
   },
   "outputs": [
    {
     "data": {
      "text/plain": [
       "mean    float64\n",
       "dtype: object"
      ]
     },
     "execution_count": 29,
     "metadata": {},
     "output_type": "execute_result"
    }
   ],
   "source": [
    "content_explation_agg.dtypes"
   ]
  },
  {
   "cell_type": "code",
   "execution_count": 30,
   "metadata": {
    "execution": {
     "iopub.execute_input": "2021-01-04T15:21:54.136478Z",
     "iopub.status.busy": "2021-01-04T15:21:54.135188Z",
     "iopub.status.idle": "2021-01-04T15:21:54.154912Z",
     "shell.execute_reply": "2021-01-04T15:21:54.155575Z"
    },
    "papermill": {
     "duration": 0.094171,
     "end_time": "2021-01-04T15:21:54.155787",
     "exception": false,
     "start_time": "2021-01-04T15:21:54.061616",
     "status": "completed"
    },
    "tags": []
   },
   "outputs": [],
   "source": [
    "content_explation_agg=content_explation_agg.unstack()\n",
    "\n",
    "content_explation_agg=content_explation_agg.reset_index()\n",
    "content_explation_agg.columns = ['content_id', 'content_explation_false_mean','content_explation_true_mean']"
   ]
  },
  {
   "cell_type": "code",
   "execution_count": 31,
   "metadata": {
    "execution": {
     "iopub.execute_input": "2021-01-04T15:21:54.302987Z",
     "iopub.status.busy": "2021-01-04T15:21:54.30234Z",
     "iopub.status.idle": "2021-01-04T15:21:54.31047Z",
     "shell.execute_reply": "2021-01-04T15:21:54.311076Z"
    },
    "papermill": {
     "duration": 0.084051,
     "end_time": "2021-01-04T15:21:54.311238",
     "exception": false,
     "start_time": "2021-01-04T15:21:54.227187",
     "status": "completed"
    },
    "tags": []
   },
   "outputs": [],
   "source": [
    "content_explation_agg.content_id=content_explation_agg.content_id.astype('int16')\n",
    "content_explation_agg.content_explation_false_mean=content_explation_agg.content_explation_false_mean.astype('float16')\n",
    "content_explation_agg.content_explation_true_mean=content_explation_agg.content_explation_true_mean.astype('float16')"
   ]
  },
  {
   "cell_type": "code",
   "execution_count": 32,
   "metadata": {
    "execution": {
     "iopub.execute_input": "2021-01-04T15:21:54.460086Z",
     "iopub.status.busy": "2021-01-04T15:21:54.459179Z",
     "iopub.status.idle": "2021-01-04T15:21:54.463717Z",
     "shell.execute_reply": "2021-01-04T15:21:54.462836Z"
    },
    "papermill": {
     "duration": 0.080091,
     "end_time": "2021-01-04T15:21:54.463866",
     "exception": false,
     "start_time": "2021-01-04T15:21:54.383775",
     "status": "completed"
    },
    "tags": []
   },
   "outputs": [
    {
     "name": "stdout",
     "output_type": "stream",
     "text": [
      "start handle attempt_no...\n"
     ]
    }
   ],
   "source": [
    "print('start handle attempt_no...')"
   ]
  },
  {
   "cell_type": "code",
   "execution_count": 33,
   "metadata": {
    "execution": {
     "iopub.execute_input": "2021-01-04T15:21:54.618737Z",
     "iopub.status.busy": "2021-01-04T15:21:54.617446Z",
     "iopub.status.idle": "2021-01-04T15:23:52.460164Z",
     "shell.execute_reply": "2021-01-04T15:23:52.459459Z"
    },
    "papermill": {
     "duration": 117.922323,
     "end_time": "2021-01-04T15:23:52.460315",
     "exception": false,
     "start_time": "2021-01-04T15:21:54.537992",
     "status": "completed"
    },
    "tags": []
   },
   "outputs": [],
   "source": [
    "train_df[\"attempt_no\"] = 1\n",
    "train_df.attempt_no=train_df.attempt_no.astype('int8')\n",
    "#\n",
    "attempt_no_agg=train_df.groupby([\"user_id\",\"content_id\"])[\"attempt_no\"].agg(['sum']).astype('int8')\n",
    "#attempt_no_agg=attempt_no_agg.astype('int8')\n",
    "train_df[\"attempt_no\"] = train_df[[\"user_id\",\"content_id\",'attempt_no']].groupby([\"user_id\",\"content_id\"])[\"attempt_no\"].cumsum()"
   ]
  },
  {
   "cell_type": "code",
   "execution_count": 34,
   "metadata": {
    "execution": {
     "iopub.execute_input": "2021-01-04T15:23:52.613989Z",
     "iopub.status.busy": "2021-01-04T15:23:52.613239Z",
     "iopub.status.idle": "2021-01-04T15:23:53.019305Z",
     "shell.execute_reply": "2021-01-04T15:23:53.018672Z"
    },
    "papermill": {
     "duration": 0.485223,
     "end_time": "2021-01-04T15:23:53.019437",
     "exception": false,
     "start_time": "2021-01-04T15:23:52.534214",
     "status": "completed"
    },
    "tags": []
   },
   "outputs": [],
   "source": [
    "attempt_no_agg=attempt_no_agg[attempt_no_agg['sum'] >1]"
   ]
  },
  {
   "cell_type": "code",
   "execution_count": 35,
   "metadata": {
    "execution": {
     "iopub.execute_input": "2021-01-04T15:23:53.174293Z",
     "iopub.status.busy": "2021-01-04T15:23:53.173462Z",
     "iopub.status.idle": "2021-01-04T15:23:53.481097Z",
     "shell.execute_reply": "2021-01-04T15:23:53.479547Z"
    },
    "papermill": {
     "duration": 0.389057,
     "end_time": "2021-01-04T15:23:53.481277",
     "exception": false,
     "start_time": "2021-01-04T15:23:53.09222",
     "status": "completed"
    },
    "tags": []
   },
   "outputs": [
    {
     "name": "stdout",
     "output_type": "stream",
     "text": [
      "start handle timestamp...\n"
     ]
    }
   ],
   "source": [
    "print('start handle timestamp...')\n",
    "prior_question_elapsed_time_mean=train_df['prior_question_elapsed_time'].mean()\n",
    "train_df['prior_question_elapsed_time'].fillna(prior_question_elapsed_time_mean, inplace=True)"
   ]
  },
  {
   "cell_type": "code",
   "execution_count": 36,
   "metadata": {
    "execution": {
     "iopub.execute_input": "2021-01-04T15:23:54.858762Z",
     "iopub.status.busy": "2021-01-04T15:23:54.438081Z",
     "iopub.status.idle": "2021-01-04T15:23:56.967934Z",
     "shell.execute_reply": "2021-01-04T15:23:56.967232Z"
    },
    "papermill": {
     "duration": 3.410463,
     "end_time": "2021-01-04T15:23:56.968095",
     "exception": false,
     "start_time": "2021-01-04T15:23:53.557632",
     "status": "completed"
    },
    "tags": []
   },
   "outputs": [],
   "source": [
    "max_timestamp_u = train_df[['user_id','timestamp']].groupby(['user_id']).agg(['max']).reset_index()\n",
    "max_timestamp_u.columns = ['user_id', 'max_time_stamp']\n",
    "max_timestamp_u.user_id=max_timestamp_u.user_id.astype('int32')"
   ]
  },
  {
   "cell_type": "code",
   "execution_count": 37,
   "metadata": {
    "execution": {
     "iopub.execute_input": "2021-01-04T15:23:57.177539Z",
     "iopub.status.busy": "2021-01-04T15:23:57.176395Z",
     "iopub.status.idle": "2021-01-04T15:24:04.825736Z",
     "shell.execute_reply": "2021-01-04T15:24:04.824652Z"
    },
    "papermill": {
     "duration": 7.783142,
     "end_time": "2021-01-04T15:24:04.825884",
     "exception": false,
     "start_time": "2021-01-04T15:23:57.042742",
     "status": "completed"
    },
    "tags": []
   },
   "outputs": [],
   "source": [
    "train_df['lagtime'] = train_df.groupby('user_id')['timestamp'].shift()\n",
    "\n",
    "max_timestamp_u2 = train_df[['user_id','lagtime']].groupby(['user_id']).agg(['max']).reset_index()\n",
    "max_timestamp_u2.columns = ['user_id', 'max_time_stamp2']\n",
    "max_timestamp_u2.user_id=max_timestamp_u2.user_id.astype('int32')"
   ]
  },
  {
   "cell_type": "code",
   "execution_count": 38,
   "metadata": {
    "execution": {
     "iopub.execute_input": "2021-01-04T15:24:04.997268Z",
     "iopub.status.busy": "2021-01-04T15:24:04.9958Z",
     "iopub.status.idle": "2021-01-04T15:24:06.036948Z",
     "shell.execute_reply": "2021-01-04T15:24:06.035629Z"
    },
    "papermill": {
     "duration": 1.137398,
     "end_time": "2021-01-04T15:24:06.037104",
     "exception": false,
     "start_time": "2021-01-04T15:24:04.899706",
     "status": "completed"
    },
    "tags": []
   },
   "outputs": [],
   "source": [
    "train_df['lagtime']=train_df['timestamp']-train_df['lagtime']\n",
    "lagtime_mean=train_df['lagtime'].mean()\n",
    "train_df['lagtime'].fillna(lagtime_mean, inplace=True)"
   ]
  },
  {
   "cell_type": "code",
   "execution_count": 39,
   "metadata": {
    "execution": {
     "iopub.execute_input": "2021-01-04T15:24:06.192903Z",
     "iopub.status.busy": "2021-01-04T15:24:06.191486Z",
     "iopub.status.idle": "2021-01-04T15:24:07.303399Z",
     "shell.execute_reply": "2021-01-04T15:24:07.304357Z"
    },
    "papermill": {
     "duration": 1.193278,
     "end_time": "2021-01-04T15:24:07.304532",
     "exception": false,
     "start_time": "2021-01-04T15:24:06.111254",
     "status": "completed"
    },
    "tags": []
   },
   "outputs": [],
   "source": [
    "train_df['lagtime']=train_df['lagtime']/(1000*3600)\n",
    "train_df.lagtime=train_df.lagtime.astype('float32')"
   ]
  },
  {
   "cell_type": "code",
   "execution_count": 40,
   "metadata": {
    "execution": {
     "iopub.execute_input": "2021-01-04T15:24:07.462002Z",
     "iopub.status.busy": "2021-01-04T15:24:07.460654Z",
     "iopub.status.idle": "2021-01-04T15:24:17.342512Z",
     "shell.execute_reply": "2021-01-04T15:24:17.341623Z"
    },
    "papermill": {
     "duration": 9.963738,
     "end_time": "2021-01-04T15:24:17.342685",
     "exception": false,
     "start_time": "2021-01-04T15:24:07.378947",
     "status": "completed"
    },
    "tags": []
   },
   "outputs": [],
   "source": [
    "train_df['lagtime2'] = train_df.groupby('user_id')['timestamp'].shift(2)\n",
    "\n",
    "max_timestamp_u3 = train_df[['user_id','lagtime2']].groupby(['user_id']).agg(['max']).reset_index()\n",
    "max_timestamp_u3.columns = ['user_id', 'max_time_stamp3']\n",
    "max_timestamp_u3.user_id=max_timestamp_u3.user_id.astype('int32')\n",
    "\n",
    "train_df['lagtime2']=train_df['timestamp']-train_df['lagtime2']\n",
    "lagtime_mean2=train_df['lagtime2'].mean()\n",
    "train_df['lagtime2'].fillna(lagtime_mean2, inplace=True)\n"
   ]
  },
  {
   "cell_type": "code",
   "execution_count": 41,
   "metadata": {
    "execution": {
     "iopub.execute_input": "2021-01-04T15:24:17.510234Z",
     "iopub.status.busy": "2021-01-04T15:24:17.508682Z",
     "iopub.status.idle": "2021-01-04T15:24:18.489706Z",
     "shell.execute_reply": "2021-01-04T15:24:18.488021Z"
    },
    "papermill": {
     "duration": 1.072872,
     "end_time": "2021-01-04T15:24:18.489857",
     "exception": false,
     "start_time": "2021-01-04T15:24:17.416985",
     "status": "completed"
    },
    "tags": []
   },
   "outputs": [],
   "source": [
    "train_df['lagtime2']=train_df['lagtime2']/(1000*3600)\n",
    "train_df.lagtime2=train_df.lagtime2.astype('float32')"
   ]
  },
  {
   "cell_type": "code",
   "execution_count": 42,
   "metadata": {
    "execution": {
     "iopub.execute_input": "2021-01-04T15:24:18.65216Z",
     "iopub.status.busy": "2021-01-04T15:24:18.651366Z",
     "iopub.status.idle": "2021-01-04T15:24:25.038239Z",
     "shell.execute_reply": "2021-01-04T15:24:25.037201Z"
    },
    "papermill": {
     "duration": 6.468516,
     "end_time": "2021-01-04T15:24:25.038381",
     "exception": false,
     "start_time": "2021-01-04T15:24:18.569865",
     "status": "completed"
    },
    "tags": []
   },
   "outputs": [],
   "source": [
    "\n",
    "train_df['lagtime3'] = train_df.groupby('user_id')['timestamp'].shift(3)\n",
    "\n",
    "train_df['lagtime3']=train_df['timestamp']-train_df['lagtime3']\n",
    "lagtime_mean3=train_df['lagtime3'].mean()\n",
    "train_df['lagtime3'].fillna(lagtime_mean3, inplace=True)\n",
    "train_df['lagtime3']=train_df['lagtime3']/(1000*3600)\n",
    "train_df.lagtime3=train_df.lagtime3.astype('float32')"
   ]
  },
  {
   "cell_type": "code",
   "execution_count": 43,
   "metadata": {
    "execution": {
     "iopub.execute_input": "2021-01-04T15:24:25.190758Z",
     "iopub.status.busy": "2021-01-04T15:24:25.19007Z",
     "iopub.status.idle": "2021-01-04T15:24:26.335498Z",
     "shell.execute_reply": "2021-01-04T15:24:26.336053Z"
    },
    "papermill": {
     "duration": 1.223367,
     "end_time": "2021-01-04T15:24:26.336263",
     "exception": false,
     "start_time": "2021-01-04T15:24:25.112896",
     "status": "completed"
    },
    "tags": []
   },
   "outputs": [],
   "source": [
    "train_df['timestamp']=train_df['timestamp']/(1000*3600)\n",
    "#\n",
    "train_df.timestamp=train_df.timestamp.astype('float16')"
   ]
  },
  {
   "cell_type": "code",
   "execution_count": 44,
   "metadata": {
    "execution": {
     "iopub.execute_input": "2021-01-04T15:24:26.490641Z",
     "iopub.status.busy": "2021-01-04T15:24:26.489896Z",
     "iopub.status.idle": "2021-01-04T15:24:34.671844Z",
     "shell.execute_reply": "2021-01-04T15:24:34.671061Z"
    },
    "papermill": {
     "duration": 8.259777,
     "end_time": "2021-01-04T15:24:34.671991",
     "exception": false,
     "start_time": "2021-01-04T15:24:26.412214",
     "status": "completed"
    },
    "tags": []
   },
   "outputs": [],
   "source": [
    "user_prior_question_elapsed_time = train_df[['user_id','prior_question_elapsed_time']].groupby(['user_id']).tail(1)\n",
    "user_prior_question_elapsed_time.columns = ['user_id', 'prior_question_elapsed_time']"
   ]
  },
  {
   "cell_type": "code",
   "execution_count": 45,
   "metadata": {
    "execution": {
     "iopub.execute_input": "2021-01-04T15:24:34.833387Z",
     "iopub.status.busy": "2021-01-04T15:24:34.832655Z",
     "iopub.status.idle": "2021-01-04T15:24:39.857324Z",
     "shell.execute_reply": "2021-01-04T15:24:39.856375Z"
    },
    "papermill": {
     "duration": 5.10962,
     "end_time": "2021-01-04T15:24:39.857484",
     "exception": false,
     "start_time": "2021-01-04T15:24:34.747864",
     "status": "completed"
    },
    "tags": []
   },
   "outputs": [],
   "source": [
    "train_df['question_elapsed_time'] = train_df['prior_question_elapsed_time'].shift(-1)\n",
    "train_df['question_elapsed_time'] = train_df['question_elapsed_time'].astype('float16')\n",
    "train_df['delta_prior_question_elapsed_time'] = train_df.groupby('user_id')['prior_question_elapsed_time'].shift()\n",
    "train_df['delta_prior_question_elapsed_time']=train_df['prior_question_elapsed_time']-train_df['delta_prior_question_elapsed_time']"
   ]
  },
  {
   "cell_type": "code",
   "execution_count": 46,
   "metadata": {
    "execution": {
     "iopub.execute_input": "2021-01-04T15:24:40.014528Z",
     "iopub.status.busy": "2021-01-04T15:24:40.013828Z",
     "iopub.status.idle": "2021-01-04T15:25:20.964132Z",
     "shell.execute_reply": "2021-01-04T15:25:20.964712Z"
    },
    "papermill": {
     "duration": 41.032808,
     "end_time": "2021-01-04T15:25:20.964904",
     "exception": false,
     "start_time": "2021-01-04T15:24:39.932096",
     "status": "completed"
    },
    "tags": []
   },
   "outputs": [
    {
     "data": {
      "text/plain": [
       "40"
      ]
     },
     "execution_count": 46,
     "metadata": {},
     "output_type": "execute_result"
    }
   ],
   "source": [
    "content_elapsed_time_agg=train_df.loc[train_df[target] == 1]\n",
    "content_elapsed_time_agg=content_elapsed_time_agg.groupby('content_id')['question_elapsed_time'].agg(['median','mean','max','min','skew','var'])\n",
    "content_elapsed_time_agg=content_elapsed_time_agg.astype('float16')\n",
    "content_had_explanation_agg=train_df.groupby('content_id')['prior_question_had_explanation'].agg(['mean'])\n",
    "content_had_explanation_agg=content_had_explanation_agg.astype('float16')\n",
    "del train_df['question_elapsed_time']\n",
    "gc.collect()"
   ]
  },
  {
   "cell_type": "code",
   "execution_count": 47,
   "metadata": {
    "execution": {
     "iopub.execute_input": "2021-01-04T15:25:21.122691Z",
     "iopub.status.busy": "2021-01-04T15:25:21.122029Z",
     "iopub.status.idle": "2021-01-04T15:25:22.864446Z",
     "shell.execute_reply": "2021-01-04T15:25:22.863754Z"
    },
    "papermill": {
     "duration": 1.824438,
     "end_time": "2021-01-04T15:25:22.864615",
     "exception": false,
     "start_time": "2021-01-04T15:25:21.040177",
     "status": "completed"
    },
    "tags": []
   },
   "outputs": [],
   "source": [
    "delta_prior_question_elapsed_time_mean=train_df['delta_prior_question_elapsed_time'].mean()\n",
    "train_df['delta_prior_question_elapsed_time'].fillna(delta_prior_question_elapsed_time_mean, inplace=True)\n",
    "train_df.delta_prior_question_elapsed_time=train_df.delta_prior_question_elapsed_time.astype('int32')"
   ]
  },
  {
   "cell_type": "code",
   "execution_count": 48,
   "metadata": {
    "execution": {
     "iopub.execute_input": "2021-01-04T15:25:23.03036Z",
     "iopub.status.busy": "2021-01-04T15:25:23.029544Z",
     "iopub.status.idle": "2021-01-04T15:25:53.582145Z",
     "shell.execute_reply": "2021-01-04T15:25:53.582911Z"
    },
    "papermill": {
     "duration": 30.641742,
     "end_time": "2021-01-04T15:25:53.583106",
     "exception": false,
     "start_time": "2021-01-04T15:25:22.941364",
     "status": "completed"
    },
    "tags": []
   },
   "outputs": [],
   "source": [
    "train_df['lag'] = train_df.groupby('user_id')[target].shift()\n",
    "\n",
    "cum = train_df.groupby('user_id')['lag'].agg(['cumsum', 'cumcount'])\n",
    "##cum['cumcount']=cum['cumcount']+1\n",
    "user_agg = train_df.groupby('user_id')['lag'].agg(['sum', 'count']).astype('int16')\n",
    "cum['cumsum'].fillna(0, inplace=True)\n",
    "\n",
    "train_df['user_correctness'] = cum['cumsum'] / cum['cumcount']\n",
    "train_df['user_correct_count'] = cum['cumsum']\n",
    "train_df['user_uncorrect_count'] = cum['cumcount']-cum['cumsum']\n",
    "#train_df['user_answer_count'] = cum['cumcount']\n",
    "train_df.drop(columns=['lag'], inplace=True)\n",
    "train_df['user_correctness'].fillna(0.67, inplace=True)\n",
    "\n",
    "train_df.user_correctness=train_df.user_correctness.astype('float16')\n",
    "train_df.user_correct_count=train_df.user_correct_count.astype('int16')\n",
    "train_df.user_uncorrect_count=train_df.user_uncorrect_count.astype('int16')\n",
    "train_df['true_user_correctness'] = (train_df['user_correct_count']+1)/(train_df['user_correct_count']/train_df['user_correctness'] + 2) \n",
    "train_df.true_user_correctness=train_df.true_user_correctness.astype('float16')\n",
    "#train_df.user_answer_count=train_df.user_answer_count.astype('int16')"
   ]
  },
  {
   "cell_type": "code",
   "execution_count": 49,
   "metadata": {
    "execution": {
     "iopub.execute_input": "2021-01-04T15:25:53.828099Z",
     "iopub.status.busy": "2021-01-04T15:25:53.827121Z",
     "iopub.status.idle": "2021-01-04T15:25:53.832002Z",
     "shell.execute_reply": "2021-01-04T15:25:53.832468Z"
    },
    "papermill": {
     "duration": 0.174473,
     "end_time": "2021-01-04T15:25:53.832615",
     "exception": false,
     "start_time": "2021-01-04T15:25:53.658142",
     "status": "completed"
    },
    "tags": []
   },
   "outputs": [
    {
     "data": {
      "text/plain": [
       "40"
      ]
     },
     "execution_count": 49,
     "metadata": {},
     "output_type": "execute_result"
    }
   ],
   "source": [
    "del cum\n",
    "gc.collect()"
   ]
  },
  {
   "cell_type": "code",
   "execution_count": 50,
   "metadata": {
    "execution": {
     "iopub.execute_input": "2021-01-04T15:25:53.990328Z",
     "iopub.status.busy": "2021-01-04T15:25:53.989001Z",
     "iopub.status.idle": "2021-01-04T15:25:57.282965Z",
     "shell.execute_reply": "2021-01-04T15:25:57.282269Z"
    },
    "papermill": {
     "duration": 3.375435,
     "end_time": "2021-01-04T15:25:57.283089",
     "exception": false,
     "start_time": "2021-01-04T15:25:53.907654",
     "status": "completed"
    },
    "tags": []
   },
   "outputs": [],
   "source": [
    "train_df.prior_question_had_explanation=train_df.prior_question_had_explanation.astype('int8')\n",
    "explanation_agg = train_df.groupby('user_id')['prior_question_had_explanation'].agg(['sum', 'count'])\n",
    "explanation_agg=explanation_agg.astype('int16')"
   ]
  },
  {
   "cell_type": "code",
   "execution_count": 51,
   "metadata": {
    "execution": {
     "iopub.execute_input": "2021-01-04T15:25:57.462455Z",
     "iopub.status.busy": "2021-01-04T15:25:57.461375Z",
     "iopub.status.idle": "2021-01-04T15:26:10.009092Z",
     "shell.execute_reply": "2021-01-04T15:26:10.008529Z"
    },
    "papermill": {
     "duration": 12.646654,
     "end_time": "2021-01-04T15:26:10.009211",
     "exception": false,
     "start_time": "2021-01-04T15:25:57.362557",
     "status": "completed"
    },
    "tags": []
   },
   "outputs": [],
   "source": [
    "cum = train_df.groupby('user_id')['prior_question_had_explanation'].agg(['cumsum', 'cumcount'])\n",
    "cum['cumcount']=cum['cumcount']+1\n",
    "train_df['explanation_mean'] = cum['cumsum'] / cum['cumcount']\n",
    "train_df['explanation_true_count'] = cum['cumsum'] \n",
    "train_df['explanation_false_count'] =  cum['cumcount']-cum['cumsum']\n",
    "\n",
    "train_df.explanation_mean=train_df.explanation_mean.astype('float16')\n",
    "train_df.explanation_true_count=train_df.explanation_true_count.astype('int16')\n",
    "train_df.explanation_false_count=train_df.explanation_false_count.astype('int16')"
   ]
  },
  {
   "cell_type": "code",
   "execution_count": 52,
   "metadata": {
    "execution": {
     "iopub.execute_input": "2021-01-04T15:26:10.248057Z",
     "iopub.status.busy": "2021-01-04T15:26:10.247087Z",
     "iopub.status.idle": "2021-01-04T15:26:10.251406Z",
     "shell.execute_reply": "2021-01-04T15:26:10.25204Z"
    },
    "papermill": {
     "duration": 0.167857,
     "end_time": "2021-01-04T15:26:10.252179",
     "exception": false,
     "start_time": "2021-01-04T15:26:10.084322",
     "status": "completed"
    },
    "tags": []
   },
   "outputs": [
    {
     "data": {
      "text/plain": [
       "40"
      ]
     },
     "execution_count": 52,
     "metadata": {},
     "output_type": "execute_result"
    }
   ],
   "source": [
    "del cum\n",
    "gc.collect()"
   ]
  },
  {
   "cell_type": "code",
   "execution_count": 53,
   "metadata": {
    "execution": {
     "iopub.execute_input": "2021-01-04T15:26:10.415247Z",
     "iopub.status.busy": "2021-01-04T15:26:10.414237Z",
     "iopub.status.idle": "2021-01-04T15:26:32.454574Z",
     "shell.execute_reply": "2021-01-04T15:26:32.455108Z"
    },
    "papermill": {
     "duration": 22.125909,
     "end_time": "2021-01-04T15:26:32.45529",
     "exception": false,
     "start_time": "2021-01-04T15:26:10.329381",
     "status": "completed"
    },
    "tags": []
   },
   "outputs": [],
   "source": [
    "content_agg = train_df.groupby('content_id')[target].agg(['sum', 'count','var','skew'])\n",
    "task_container_agg = train_df.groupby('task_container_id')[target].agg(['sum', 'count','var'])\n",
    "content_agg=content_agg.astype('float32')\n",
    "task_container_agg=task_container_agg.astype('float32')"
   ]
  },
  {
   "cell_type": "code",
   "execution_count": 54,
   "metadata": {
    "execution": {
     "iopub.execute_input": "2021-01-04T15:26:32.613552Z",
     "iopub.status.busy": "2021-01-04T15:26:32.612853Z",
     "iopub.status.idle": "2021-01-04T15:26:38.537952Z",
     "shell.execute_reply": "2021-01-04T15:26:38.537319Z"
    },
    "papermill": {
     "duration": 6.005745,
     "end_time": "2021-01-04T15:26:38.538117",
     "exception": false,
     "start_time": "2021-01-04T15:26:32.532372",
     "status": "completed"
    },
    "tags": []
   },
   "outputs": [],
   "source": [
    "train_df['task_container_uncor_count'] = train_df['task_container_id'].map(task_container_agg['count']-task_container_agg['sum']).astype('int32')\n",
    "train_df['task_container_cor_count'] = train_df['task_container_id'].map(task_container_agg['sum']).astype('int32')\n",
    "train_df['task_container_std'] = train_df['task_container_id'].map(task_container_agg['var']).astype('float16')\n",
    "train_df['task_container_correctness'] = train_df['task_container_id'].map(task_container_agg['sum'] / task_container_agg['count'])\n",
    "train_df.task_container_correctness=train_df.task_container_correctness.astype('float16')"
   ]
  },
  {
   "cell_type": "code",
   "execution_count": 55,
   "metadata": {
    "execution": {
     "iopub.execute_input": "2021-01-04T15:26:39.082031Z",
     "iopub.status.busy": "2021-01-04T15:26:39.080938Z",
     "iopub.status.idle": "2021-01-04T15:26:39.087804Z",
     "shell.execute_reply": "2021-01-04T15:26:39.087277Z"
    },
    "papermill": {
     "duration": 0.090037,
     "end_time": "2021-01-04T15:26:39.087923",
     "exception": false,
     "start_time": "2021-01-04T15:26:38.997886",
     "status": "completed"
    },
    "tags": []
   },
   "outputs": [
    {
     "name": "stdout",
     "output_type": "stream",
     "text": [
      "start questions data...\n"
     ]
    }
   ],
   "source": [
    "print('start questions data...')"
   ]
  },
  {
   "cell_type": "code",
   "execution_count": 56,
   "metadata": {
    "execution": {
     "iopub.execute_input": "2021-01-04T15:26:39.255916Z",
     "iopub.status.busy": "2021-01-04T15:26:39.255187Z",
     "iopub.status.idle": "2021-01-04T15:26:39.27604Z",
     "shell.execute_reply": "2021-01-04T15:26:39.276608Z"
    },
    "papermill": {
     "duration": 0.109583,
     "end_time": "2021-01-04T15:26:39.276755",
     "exception": false,
     "start_time": "2021-01-04T15:26:39.167172",
     "status": "completed"
    },
    "tags": []
   },
   "outputs": [],
   "source": [
    "questions_df = pd.read_csv(\n",
    "    '../input/riiid-test-answer-prediction/questions.csv', \n",
    "    usecols=[0, 1,3,4],\n",
    "    dtype={'question_id': 'int16','bundle_id': 'int16', 'part': 'int8','tags': 'str'}\n",
    ")"
   ]
  },
  {
   "cell_type": "code",
   "execution_count": 58,
   "metadata": {
    "execution": {
     "iopub.execute_input": "2021-01-04T15:26:39.440243Z",
     "iopub.status.busy": "2021-01-04T15:26:39.439537Z",
     "iopub.status.idle": "2021-01-04T15:26:39.505291Z",
     "shell.execute_reply": "2021-01-04T15:26:39.505835Z"
    },
    "papermill": {
     "duration": 0.149073,
     "end_time": "2021-01-04T15:26:39.506009",
     "exception": false,
     "start_time": "2021-01-04T15:26:39.356936",
     "status": "completed"
    },
    "tags": []
   },
   "outputs": [],
   "source": [
    "que_fea_merge = pd.read_csv(\n",
    "    '../input/offline-group-by-table/que_fea_merge.csv', \n",
    "    usecols=[0, 2,3,4,5,6,7,8,9],\n",
    "    dtype={'content_id': 'int16','question_elapsed_time_mean': 'float16','question_had_explanation_mean': 'float16', 'question_correctly_q_count': 'int16','question_correctly_q_mean': 'float16','tags_lsi': 'float16', 'tag_acc_count': 'float16','tag_acc_max':'float16','tag_acc_min': 'float16'}\n",
    ")\n",
    "part_fea_merge = pd.read_csv(\n",
    "    '../input/offline-group-by-table/part_fea_merge.csv', \n",
    "    usecols=[0, 1,2,3],\n",
    "    dtype={'part': 'int8','part_elapsed_time_mean': 'float16','part_had_explanation_mean': 'float16','part_correctly_q_mean':'float16'}\n",
    ")"
   ]
  },
  {
   "cell_type": "code",
   "execution_count": 65,
   "metadata": {
    "execution": {
     "iopub.execute_input": "2021-01-04T15:26:39.675801Z",
     "iopub.status.busy": "2021-01-04T15:26:39.675106Z",
     "iopub.status.idle": "2021-01-04T15:26:39.699914Z",
     "shell.execute_reply": "2021-01-04T15:26:39.700786Z"
    },
    "papermill": {
     "duration": 0.116853,
     "end_time": "2021-01-04T15:26:39.700947",
     "exception": false,
     "start_time": "2021-01-04T15:26:39.584094",
     "status": "completed"
    },
    "tags": []
   },
   "outputs": [],
   "source": [
    "questions_cmnts = pd.read_csv(\n",
    "     '../input/riiid-sakt-base/question_cmnts (1).csv', \n",
    "     usecols=[1,2],\n",
    "     dtype={'question_id': 'int16','community': 'int8'}\n",
    " )\n",
    "questions_df = pd.merge(questions_df, questions_cmnts, on='question_id', how='left',right_index=True)#"
   ]
  },
  {
   "cell_type": "code",
   "execution_count": 66,
   "metadata": {
    "execution": {
     "iopub.execute_input": "2021-01-04T15:26:39.869424Z",
     "iopub.status.busy": "2021-01-04T15:26:39.868385Z",
     "iopub.status.idle": "2021-01-04T15:26:39.876389Z",
     "shell.execute_reply": "2021-01-04T15:26:39.875737Z"
    },
    "papermill": {
     "duration": 0.096752,
     "end_time": "2021-01-04T15:26:39.876505",
     "exception": false,
     "start_time": "2021-01-04T15:26:39.779753",
     "status": "completed"
    },
    "tags": []
   },
   "outputs": [],
   "source": [
    "questions_df['community'] = questions_df['community']\n",
    "questions_df = pd.get_dummies(questions_df, columns=['community'])\n",
    "part_questions_columns = [column for column in questions_df.columns if column.startswith('community')]"
   ]
  },
  {
   "cell_type": "code",
   "execution_count": 67,
   "metadata": {
    "execution": {
     "iopub.execute_input": "2021-01-04T15:26:40.047794Z",
     "iopub.status.busy": "2021-01-04T15:26:40.040095Z",
     "iopub.status.idle": "2021-01-04T15:26:40.051715Z",
     "shell.execute_reply": "2021-01-04T15:26:40.050911Z"
    },
    "papermill": {
     "duration": 0.096563,
     "end_time": "2021-01-04T15:26:40.051852",
     "exception": false,
     "start_time": "2021-01-04T15:26:39.955289",
     "status": "completed"
    },
    "tags": []
   },
   "outputs": [],
   "source": [
    "bundle_agg = questions_df.groupby('bundle_id')['question_id'].agg(['count'])"
   ]
  },
  {
   "cell_type": "code",
   "execution_count": 68,
   "metadata": {
    "execution": {
     "iopub.execute_input": "2021-01-04T15:26:40.218116Z",
     "iopub.status.busy": "2021-01-04T15:26:40.216465Z",
     "iopub.status.idle": "2021-01-04T15:26:40.221056Z",
     "shell.execute_reply": "2021-01-04T15:26:40.220335Z"
    },
    "papermill": {
     "duration": 0.089756,
     "end_time": "2021-01-04T15:26:40.221187",
     "exception": false,
     "start_time": "2021-01-04T15:26:40.131431",
     "status": "completed"
    },
    "tags": []
   },
   "outputs": [],
   "source": [
    "questions_df['content_sub_bundle'] = questions_df['bundle_id'].map(bundle_agg['count']).astype('int8')"
   ]
  },
  {
   "cell_type": "code",
   "execution_count": 69,
   "metadata": {
    "execution": {
     "iopub.execute_input": "2021-01-04T15:26:40.392328Z",
     "iopub.status.busy": "2021-01-04T15:26:40.391309Z",
     "iopub.status.idle": "2021-01-04T15:26:40.394767Z",
     "shell.execute_reply": "2021-01-04T15:26:40.394169Z"
    },
    "papermill": {
     "duration": 0.093226,
     "end_time": "2021-01-04T15:26:40.394894",
     "exception": false,
     "start_time": "2021-01-04T15:26:40.301668",
     "status": "completed"
    },
    "tags": []
   },
   "outputs": [],
   "source": [
    "questions_df['tags'].fillna('188', inplace=True)"
   ]
  },
  {
   "cell_type": "code",
   "execution_count": 70,
   "metadata": {
    "execution": {
     "iopub.execute_input": "2021-01-04T15:26:40.563943Z",
     "iopub.status.busy": "2021-01-04T15:26:40.563076Z",
     "iopub.status.idle": "2021-01-04T15:26:40.566292Z",
     "shell.execute_reply": "2021-01-04T15:26:40.565617Z"
    },
    "papermill": {
     "duration": 0.09035,
     "end_time": "2021-01-04T15:26:40.56642",
     "exception": false,
     "start_time": "2021-01-04T15:26:40.47607",
     "status": "completed"
    },
    "tags": []
   },
   "outputs": [],
   "source": [
    "def gettags(tags,num):\n",
    "    tags_splits=tags.split(\" \")\n",
    "    result='' \n",
    "    for t in tags_splits:\n",
    "        x=int(t)\n",
    "        if(x<32*(num+1) and x>=32*num):#num \n",
    "            result=result+' '+t\n",
    "    return result"
   ]
  },
  {
   "cell_type": "code",
   "execution_count": 71,
   "metadata": {
    "execution": {
     "iopub.execute_input": "2021-01-04T15:26:40.775933Z",
     "iopub.status.busy": "2021-01-04T15:26:40.746167Z",
     "iopub.status.idle": "2021-01-04T15:26:41.023119Z",
     "shell.execute_reply": "2021-01-04T15:26:41.022483Z"
    },
    "papermill": {
     "duration": 0.377335,
     "end_time": "2021-01-04T15:26:41.023252",
     "exception": false,
     "start_time": "2021-01-04T15:26:40.645917",
     "status": "completed"
    },
    "tags": []
   },
   "outputs": [],
   "source": [
    "from sklearn.preprocessing import LabelEncoder\n",
    "for num in range(0,6):\n",
    "    questions_df[\"tags\"+str(num)] = questions_df[\"tags\"].apply(lambda row: gettags(row,num))\n",
    "    le = LabelEncoder()\n",
    "    le.fit(np.unique(questions_df['tags'+str(num)].values))\n",
    "    #questions_df[['tags'+str(num)]=\n",
    "    questions_df['tags'+str(num)]=questions_df[['tags'+str(num)]].apply(le.transform)"
   ]
  },
  {
   "cell_type": "code",
   "execution_count": 72,
   "metadata": {
    "execution": {
     "iopub.execute_input": "2021-01-04T15:26:41.194922Z",
     "iopub.status.busy": "2021-01-04T15:26:41.193777Z",
     "iopub.status.idle": "2021-01-04T15:26:41.201013Z",
     "shell.execute_reply": "2021-01-04T15:26:41.201689Z"
    },
    "papermill": {
     "duration": 0.097509,
     "end_time": "2021-01-04T15:26:41.201864",
     "exception": false,
     "start_time": "2021-01-04T15:26:41.104355",
     "status": "completed"
    },
    "tags": []
   },
   "outputs": [],
   "source": [
    "questions_df_dict = {   \n",
    "    'tags0': 'int8',\n",
    "    'tags1': 'int8',\n",
    "    'tags2': 'int8',\n",
    "    'tags3': 'int8',\n",
    "    'tags4': 'int8',\n",
    "    'tags5': 'int8',\n",
    "    #'tags6': 'int8',\n",
    "    #'tags7': 'int8'\n",
    "}\n",
    "questions_df = questions_df.astype(questions_df_dict)"
   ]
  },
  {
   "cell_type": "code",
   "execution_count": 73,
   "metadata": {
    "execution": {
     "iopub.execute_input": "2021-01-04T15:26:41.38127Z",
     "iopub.status.busy": "2021-01-04T15:26:41.380184Z",
     "iopub.status.idle": "2021-01-04T15:26:41.387861Z",
     "shell.execute_reply": "2021-01-04T15:26:41.388773Z"
    },
    "papermill": {
     "duration": 0.106238,
     "end_time": "2021-01-04T15:26:41.389032",
     "exception": false,
     "start_time": "2021-01-04T15:26:41.282794",
     "status": "completed"
    },
    "tags": []
   },
   "outputs": [],
   "source": [
    "questions_df.drop(columns=['tags'], inplace=True)"
   ]
  },
  {
   "cell_type": "code",
   "execution_count": 74,
   "metadata": {
    "execution": {
     "iopub.execute_input": "2021-01-04T15:26:41.577693Z",
     "iopub.status.busy": "2021-01-04T15:26:41.576562Z",
     "iopub.status.idle": "2021-01-04T15:26:41.588911Z",
     "shell.execute_reply": "2021-01-04T15:26:41.588118Z"
    },
    "papermill": {
     "duration": 0.098705,
     "end_time": "2021-01-04T15:26:41.589051",
     "exception": false,
     "start_time": "2021-01-04T15:26:41.490346",
     "status": "completed"
    },
    "tags": []
   },
   "outputs": [],
   "source": [
    "questions_df['part_bundle_id']=questions_df['part']*100000+questions_df['bundle_id']\n",
    "questions_df.part_bundle_id=questions_df.part_bundle_id.astype('int32')"
   ]
  },
  {
   "cell_type": "code",
   "execution_count": 77,
   "metadata": {
    "execution": {
     "iopub.execute_input": "2021-01-04T15:26:42.100989Z",
     "iopub.status.busy": "2021-01-04T15:26:42.100301Z",
     "iopub.status.idle": "2021-01-04T15:26:42.103986Z",
     "shell.execute_reply": "2021-01-04T15:26:42.103296Z"
    },
    "papermill": {
     "duration": 0.088887,
     "end_time": "2021-01-04T15:26:42.104107",
     "exception": false,
     "start_time": "2021-01-04T15:26:42.01522",
     "status": "completed"
    },
    "tags": []
   },
   "outputs": [],
   "source": [
    "questions_df.rename(columns={'question_id':'content_id'}, inplace=True)"
   ]
  },
  {
   "cell_type": "code",
   "execution_count": 78,
   "metadata": {
    "execution": {
     "iopub.execute_input": "2021-01-04T15:26:42.272293Z",
     "iopub.status.busy": "2021-01-04T15:26:42.271639Z",
     "iopub.status.idle": "2021-01-04T15:26:42.284657Z",
     "shell.execute_reply": "2021-01-04T15:26:42.284052Z"
    },
    "papermill": {
     "duration": 0.101363,
     "end_time": "2021-01-04T15:26:42.284833",
     "exception": false,
     "start_time": "2021-01-04T15:26:42.18347",
     "status": "completed"
    },
    "tags": []
   },
   "outputs": [],
   "source": [
    "questions_df = pd.merge(questions_df, que_fea_merge, on='content_id', how='left',right_index=True)\n",
    "questions_df = pd.merge(questions_df, part_fea_merge, on='part', how='left',right_index=True)"
   ]
  },
  {
   "cell_type": "code",
   "execution_count": 79,
   "metadata": {
    "execution": {
     "iopub.execute_input": "2021-01-04T15:26:42.45595Z",
     "iopub.status.busy": "2021-01-04T15:26:42.454992Z",
     "iopub.status.idle": "2021-01-04T15:26:42.46393Z",
     "shell.execute_reply": "2021-01-04T15:26:42.463214Z"
    },
    "papermill": {
     "duration": 0.097956,
     "end_time": "2021-01-04T15:26:42.464073",
     "exception": false,
     "start_time": "2021-01-04T15:26:42.366117",
     "status": "completed"
    },
    "tags": []
   },
   "outputs": [],
   "source": [
    "questions_df = pd.merge(questions_df, content_explation_agg, on='content_id', how='left',right_index=True)#\n",
    "# questions_df.content_explation_false_mean=questions_df.content_explation_false_mean.astype('float16')\n",
    "# questions_df.content_explation_true_mean=questions_df.content_explation_true_mean.astype('float16')"
   ]
  },
  {
   "cell_type": "code",
   "execution_count": 80,
   "metadata": {
    "execution": {
     "iopub.execute_input": "2021-01-04T15:26:42.632581Z",
     "iopub.status.busy": "2021-01-04T15:26:42.631901Z",
     "iopub.status.idle": "2021-01-04T15:26:42.635789Z",
     "shell.execute_reply": "2021-01-04T15:26:42.635048Z"
    },
    "papermill": {
     "duration": 0.090391,
     "end_time": "2021-01-04T15:26:42.63593",
     "exception": false,
     "start_time": "2021-01-04T15:26:42.545539",
     "status": "completed"
    },
    "tags": []
   },
   "outputs": [],
   "source": [
    "del content_explation_agg"
   ]
  },
  {
   "cell_type": "code",
   "execution_count": 81,
   "metadata": {
    "execution": {
     "iopub.execute_input": "2021-01-04T15:26:42.815533Z",
     "iopub.status.busy": "2021-01-04T15:26:42.814795Z",
     "iopub.status.idle": "2021-01-04T15:26:42.83523Z",
     "shell.execute_reply": "2021-01-04T15:26:42.83465Z"
    },
    "papermill": {
     "duration": 0.118226,
     "end_time": "2021-01-04T15:26:42.835377",
     "exception": false,
     "start_time": "2021-01-04T15:26:42.717151",
     "status": "completed"
    },
    "tags": []
   },
   "outputs": [],
   "source": [
    "questions_df['content_uncorrect_count'] = questions_df['content_id'].map(content_agg['count']-content_agg['sum']).astype('int32')\n",
    "questions_df['content_correct_count'] = questions_df['content_id'].map(content_agg['sum']).astype('int32')\n",
    "questions_df['content_count'] = questions_df['content_id'].map(content_agg['count'])\n",
    "questions_df.content_count=questions_df.content_count.astype('int32')\n",
    "\n",
    "questions_df['content_correctness'] = questions_df['content_id'].map(content_agg['sum'] / content_agg['count'])\n",
    "questions_df.content_correctness=questions_df.content_correctness.astype('float16')\n",
    "\n",
    "questions_df['true_content_correctness'] = (questions_df['content_correct_count']+1)/(questions_df['content_correct_count']/questions_df['content_correctness'] + 2) \n",
    "questions_df.true_content_correctness=questions_df.true_content_correctness.astype('float16')\n",
    "\n",
    "questions_df['content_correctness_skew'] = questions_df['content_id'].map(content_agg['skew'])\n",
    "questions_df.content_correctness_skew=questions_df.content_correctness_skew.astype('float16')\n",
    "\n",
    "questions_df['content_correctness_std'] = questions_df['content_id'].map(content_agg['var'])\n",
    "questions_df.content_correctness_std=questions_df.content_correctness_std.astype('float16')"
   ]
  },
  {
   "cell_type": "code",
   "execution_count": 82,
   "metadata": {
    "execution": {
     "iopub.execute_input": "2021-01-04T15:26:43.019414Z",
     "iopub.status.busy": "2021-01-04T15:26:43.014246Z",
     "iopub.status.idle": "2021-01-04T15:26:43.053341Z",
     "shell.execute_reply": "2021-01-04T15:26:43.052772Z"
    },
    "papermill": {
     "duration": 0.136219,
     "end_time": "2021-01-04T15:26:43.05346",
     "exception": false,
     "start_time": "2021-01-04T15:26:42.917241",
     "status": "completed"
    },
    "tags": []
   },
   "outputs": [],
   "source": [
    "questions_df['content_max_time'] = questions_df['content_id'].map(content_elapsed_time_agg['max'])\n",
    "questions_df.content_max_time=questions_df.content_max_time.astype('float16')\n",
    "questions_df['content_min_time'] = questions_df['content_id'].map(content_elapsed_time_agg['min'])\n",
    "questions_df.content_min_time=questions_df.content_min_time.astype('float16')\n",
    "\n",
    "questions_df['content_med_time'] = questions_df['content_id'].map(content_elapsed_time_agg['median'])\n",
    "questions_df.content_med_time=questions_df.content_med_time.astype('float16')\n",
    "questions_df['part_med_time'] = questions_df.groupby('part')['content_med_time'].agg(['mean'])\n",
    "questions_df['part_med_time'] = questions_df['part_med_time'].astype('float16')\n",
    "\n",
    "questions_df['content_time_std'] = questions_df['content_id'].map(content_elapsed_time_agg['var'])\n",
    "questions_df.content_time_std=questions_df.content_time_std.astype('float16')\n",
    "questions_df['part_time_std'] = questions_df.groupby('part')['content_time_std'].agg(['mean'])\n",
    "questions_df['part_time_std'] = questions_df['part_time_std'].astype('float16')\n",
    "\n",
    "questions_df['content_time_skew'] = questions_df['content_id'].map(content_elapsed_time_agg['skew'])\n",
    "questions_df.content_time_skew=questions_df.content_time_skew.astype('float16')\n",
    "questions_df['part_time_skew'] = questions_df.groupby('part')['content_time_skew'].agg(['mean'])\n",
    "questions_df['part_time_skew'] = questions_df['part_time_skew'].astype('float16')\n",
    "\n",
    "questions_df['content_mean_time'] = questions_df['content_id'].map(content_elapsed_time_agg['mean'])\n",
    "questions_df['content_mean_time'] = questions_df['content_mean_time'].astype('float16')\n",
    "questions_df['part_mean_time'] = questions_df.groupby('part')['content_mean_time'].agg(['mean'])\n",
    "questions_df['part_mean_time'] = questions_df['part_mean_time'].astype('float16')\n",
    "\n",
    "questions_df['mean_time_standard'] = questions_df['content_mean_time']/questions_df['part_mean_time']\n",
    "questions_df['mean_time_standard'] = questions_df['mean_time_standard'].astype('float16')\n",
    "\n",
    "questions_df['content_time_range'] = questions_df['content_max_time']-questions_df['content_min_time']\n",
    "questions_df.content_time_range=questions_df.content_time_range.astype('float16')\n",
    "\n",
    "questions_df['content_had_explanation_mean'] = questions_df['content_id'].map(content_had_explanation_agg['mean'])\n",
    "questions_df.content_had_explanation_mean=questions_df.content_had_explanation_mean.astype('float16')"
   ]
  },
  {
   "cell_type": "code",
   "execution_count": 83,
   "metadata": {
    "execution": {
     "iopub.execute_input": "2021-01-04T15:26:43.297547Z",
     "iopub.status.busy": "2021-01-04T15:26:43.29565Z",
     "iopub.status.idle": "2021-01-04T15:26:43.302756Z",
     "shell.execute_reply": "2021-01-04T15:26:43.302122Z"
    },
    "papermill": {
     "duration": 0.168974,
     "end_time": "2021-01-04T15:26:43.302869",
     "exception": false,
     "start_time": "2021-01-04T15:26:43.133895",
     "status": "completed"
    },
    "tags": []
   },
   "outputs": [
    {
     "data": {
      "text/plain": [
       "219"
      ]
     },
     "execution_count": 83,
     "metadata": {},
     "output_type": "execute_result"
    }
   ],
   "source": [
    "del content_elapsed_time_agg\n",
    "del content_had_explanation_agg\n",
    "gc.collect()"
   ]
  },
  {
   "cell_type": "code",
   "execution_count": 84,
   "metadata": {
    "execution": {
     "iopub.execute_input": "2021-01-04T15:26:43.475822Z",
     "iopub.status.busy": "2021-01-04T15:26:43.475123Z",
     "iopub.status.idle": "2021-01-04T15:26:43.485746Z",
     "shell.execute_reply": "2021-01-04T15:26:43.48507Z"
    },
    "papermill": {
     "duration": 0.101854,
     "end_time": "2021-01-04T15:26:43.485863",
     "exception": false,
     "start_time": "2021-01-04T15:26:43.384009",
     "status": "completed"
    },
    "tags": []
   },
   "outputs": [],
   "source": [
    "part_agg = questions_df.groupby('part')['content_correctness'].agg(['mean', 'var'])\n",
    "questions_df['part_correctness_mean'] = questions_df['part'].map(part_agg['mean'])\n",
    "questions_df['part_correctness_std'] = questions_df['part'].map(part_agg['var'])\n",
    "questions_df.part_correctness_mean=questions_df.part_correctness_mean.astype('float16')\n",
    "questions_df.part_correctness_std=questions_df.part_correctness_std.astype('float16')"
   ]
  },
  {
   "cell_type": "code",
   "execution_count": 85,
   "metadata": {
    "execution": {
     "iopub.execute_input": "2021-01-04T15:26:43.659265Z",
     "iopub.status.busy": "2021-01-04T15:26:43.658115Z",
     "iopub.status.idle": "2021-01-04T15:26:43.67656Z",
     "shell.execute_reply": "2021-01-04T15:26:43.675827Z"
    },
    "papermill": {
     "duration": 0.109803,
     "end_time": "2021-01-04T15:26:43.676698",
     "exception": false,
     "start_time": "2021-01-04T15:26:43.566895",
     "status": "completed"
    },
    "tags": []
   },
   "outputs": [],
   "source": [
    "part_agg = questions_df.groupby('part')['content_uncorrect_count'].agg(['sum'])\n",
    "questions_df['part_uncor_count'] = questions_df['part'].map(part_agg['sum']).astype('int32')\n",
    "#\n",
    "part_agg = questions_df.groupby('part')['content_correct_count'].agg(['sum'])\n",
    "questions_df['part_cor_count'] = questions_df['part'].map(part_agg['sum']).astype('int32')"
   ]
  },
  {
   "cell_type": "code",
   "execution_count": 86,
   "metadata": {
    "execution": {
     "iopub.execute_input": "2021-01-04T15:26:43.851414Z",
     "iopub.status.busy": "2021-01-04T15:26:43.850273Z",
     "iopub.status.idle": "2021-01-04T15:26:43.86303Z",
     "shell.execute_reply": "2021-01-04T15:26:43.862319Z"
    },
    "papermill": {
     "duration": 0.102962,
     "end_time": "2021-01-04T15:26:43.863153",
     "exception": false,
     "start_time": "2021-01-04T15:26:43.760191",
     "status": "completed"
    },
    "tags": []
   },
   "outputs": [],
   "source": [
    "bundle_agg = questions_df.groupby('bundle_id')['content_correctness'].agg(['mean'])\n",
    "questions_df['bundle_correctness_mean'] = questions_df['bundle_id'].map(bundle_agg['mean'])\n",
    "questions_df.bundle_correctness_mean=questions_df.bundle_correctness_mean.astype('float16')"
   ]
  },
  {
   "cell_type": "code",
   "execution_count": 87,
   "metadata": {
    "execution": {
     "iopub.execute_input": "2021-01-04T15:26:44.0628Z",
     "iopub.status.busy": "2021-01-04T15:26:44.057295Z",
     "iopub.status.idle": "2021-01-04T15:26:44.36332Z",
     "shell.execute_reply": "2021-01-04T15:26:44.362632Z"
    },
    "papermill": {
     "duration": 0.416519,
     "end_time": "2021-01-04T15:26:44.36344",
     "exception": false,
     "start_time": "2021-01-04T15:26:43.946921",
     "status": "completed"
    },
    "tags": []
   },
   "outputs": [],
   "source": [
    "tags1_agg = questions_df.groupby('tags0')['mean_time_standard'].agg(['skew'])\n",
    "questions_df['tags0_mean_time'] = questions_df['tags0'].map(tags1_agg['skew'])\n",
    "questions_df.tags0_mean_time=questions_df.tags0_mean_time.astype('float16')\n",
    "tags1_agg = questions_df.groupby('tags0')['mean_time_standard'].agg(['var'])\n",
    "questions_df['tags0_med_time'] = questions_df['tags0'].map(tags1_agg['var'])\n",
    "questions_df.tags0_med_time=questions_df.tags0_med_time.astype('float16')\n",
    "\n",
    "tags1_agg = questions_df.groupby('tags0')['content_correctness'].agg(['mean'])\n",
    "questions_df['tags0_correctness_mean'] = questions_df['tags0'].map(tags1_agg['mean'])\n",
    "questions_df.tags0_correctness_mean=questions_df.tags0_correctness_mean.astype('float16')\n",
    "tags1_agg = questions_df.groupby('tags0')['content_correctness'].agg(['skew'])\n",
    "questions_df['tags0_correctness_skew'] = questions_df['tags0'].map(tags1_agg['skew'])\n",
    "questions_df.tags0_correctness_skew=questions_df.tags0_correctness_skew.astype('float16')\n",
    "tags1_agg = questions_df.groupby('tags0')['content_correctness'].agg(['var'])\n",
    "questions_df['tags0_correctness_var'] = questions_df['tags0'].map(tags1_agg['var'])\n",
    "questions_df.tags0_correctness_var=questions_df.tags0_correctness_var.astype('float16')\n",
    "\n",
    "\n",
    "tags1_agg = questions_df.groupby('tags1')['mean_time_standard'].agg(['skew'])\n",
    "questions_df['tags1_mean_time'] = questions_df['tags1'].map(tags1_agg['skew'])\n",
    "questions_df.tags1_mean_time=questions_df.tags1_mean_time.astype('float16')\n",
    "tags1_agg = questions_df.groupby('tags1')['mean_time_standard'].agg(['var'])\n",
    "questions_df['tags1_med_time'] = questions_df['tags1'].map(tags1_agg['var'])\n",
    "questions_df.tags1_med_time=questions_df.tags1_med_time.astype('float16')\n",
    "\n",
    "tags1_agg = questions_df.groupby('tags1')['content_correctness'].agg(['mean'])\n",
    "questions_df['tags1_correctness_mean'] = questions_df['tags1'].map(tags1_agg['mean'])\n",
    "questions_df.tags1_correctness_mean=questions_df.tags1_correctness_mean.astype('float16')\n",
    "tags1_agg = questions_df.groupby('tags1')['content_correctness'].agg(['skew'])\n",
    "questions_df['tags1_correctness_skew'] = questions_df['tags1'].map(tags1_agg['skew'])\n",
    "questions_df.tags1_correctness_skew=questions_df.tags1_correctness_skew.astype('float16')\n",
    "tags1_agg = questions_df.groupby('tags1')['content_correctness'].agg(['var'])\n",
    "questions_df['tags1_correctness_var'] = questions_df['tags1'].map(tags1_agg['var'])\n",
    "questions_df.tags1_correctness_var=questions_df.tags1_correctness_var.astype('float16')\n",
    "\n",
    "\n",
    "tags1_agg = questions_df.groupby('tags2')['mean_time_standard'].agg(['skew'])\n",
    "questions_df['tags2_mean_time'] = questions_df['tags2'].map(tags1_agg['skew'])\n",
    "questions_df.tags2_mean_time=questions_df.tags2_mean_time.astype('float16')\n",
    "tags1_agg = questions_df.groupby('tags2')['mean_time_standard'].agg(['var'])\n",
    "questions_df['tags2_med_time'] = questions_df['tags2'].map(tags1_agg['var'])\n",
    "questions_df.tags2_med_time=questions_df.tags2_med_time.astype('float16')\n",
    "\n",
    "tags1_agg = questions_df.groupby('tags2')['content_correctness'].agg(['mean'])\n",
    "questions_df['tags2_correctness_mean'] = questions_df['tags2'].map(tags1_agg['mean'])\n",
    "questions_df.tags2_correctness_mean=questions_df.tags2_correctness_mean.astype('float16')\n",
    "tags1_agg = questions_df.groupby('tags2')['content_correctness'].agg(['skew'])\n",
    "questions_df['tags2_correctness_skew'] = questions_df['tags2'].map(tags1_agg['skew'])\n",
    "questions_df.tags2_correctness_skew=questions_df.tags2_correctness_skew.astype('float16')\n",
    "tags1_agg = questions_df.groupby('tags2')['content_correctness'].agg(['var'])\n",
    "questions_df['tags2_correctness_var'] = questions_df['tags2'].map(tags1_agg['var'])\n",
    "questions_df.tags2_correctness_var=questions_df.tags2_correctness_var.astype('float16')\n",
    "\n",
    "\n",
    "tags1_agg = questions_df.groupby('tags3')['mean_time_standard'].agg(['skew'])\n",
    "questions_df['tags3_mean_time'] = questions_df['tags3'].map(tags1_agg['skew'])\n",
    "questions_df.tags3_mean_time=questions_df.tags3_mean_time.astype('float16')\n",
    "tags1_agg = questions_df.groupby('tags3')['mean_time_standard'].agg(['var'])\n",
    "questions_df['tags3_med_time'] = questions_df['tags3'].map(tags1_agg['var'])\n",
    "questions_df.tags3_med_time=questions_df.tags3_med_time.astype('float16')\n",
    "\n",
    "tags1_agg = questions_df.groupby('tags3')['content_correctness'].agg(['mean'])\n",
    "questions_df['tags3_correctness_mean'] = questions_df['tags3'].map(tags1_agg['mean'])\n",
    "questions_df.tags3_correctness_mean=questions_df.tags3_correctness_mean.astype('float16')\n",
    "tags1_agg = questions_df.groupby('tags3')['content_correctness'].agg(['skew'])\n",
    "questions_df['tags3_correctness_skew'] = questions_df['tags3'].map(tags1_agg['skew'])\n",
    "questions_df.tags3_correctness_skew=questions_df.tags3_correctness_skew.astype('float16')\n",
    "tags1_agg = questions_df.groupby('tags3')['content_correctness'].agg(['var'])\n",
    "questions_df['tags3_correctness_var'] = questions_df['tags3'].map(tags1_agg['var'])\n",
    "questions_df.tags3_correctness_var=questions_df.tags3_correctness_var.astype('float16')\n",
    "\n",
    "\n",
    "tags1_agg = questions_df.groupby('tags4')['mean_time_standard'].agg(['skew'])\n",
    "questions_df['tags4_mean_time'] = questions_df['tags4'].map(tags1_agg['skew'])\n",
    "questions_df.tags4_mean_time=questions_df.tags4_mean_time.astype('float16')\n",
    "tags1_agg = questions_df.groupby('tags4')['mean_time_standard'].agg(['var'])\n",
    "questions_df['tags4_med_time'] = questions_df['tags4'].map(tags1_agg['var'])\n",
    "questions_df.tags4_med_time=questions_df.tags4_med_time.astype('float16')\n",
    "\n",
    "tags1_agg = questions_df.groupby('tags4')['content_correctness'].agg(['mean'])\n",
    "questions_df['tags4_correctness_mean'] = questions_df['tags4'].map(tags1_agg['mean'])\n",
    "questions_df.tags4_correctness_mean=questions_df.tags4_correctness_mean.astype('float16')\n",
    "tags1_agg = questions_df.groupby('tags4')['content_correctness'].agg(['skew'])\n",
    "questions_df['tags4_correctness_skew'] = questions_df['tags4'].map(tags1_agg['skew'])\n",
    "questions_df.tags4_correctness_skew=questions_df.tags4_correctness_skew.astype('float16')\n",
    "tags1_agg = questions_df.groupby('tags4')['content_correctness'].agg(['var'])\n",
    "questions_df['tags4_correctness_var'] = questions_df['tags4'].map(tags1_agg['var'])\n",
    "questions_df.tags4_correctness_var=questions_df.tags4_correctness_var.astype('float16')\n",
    "\n",
    "\n",
    "tags1_agg = questions_df.groupby('tags5')['mean_time_standard'].agg(['skew'])\n",
    "questions_df['tags5_mean_time'] = questions_df['tags5'].map(tags1_agg['skew'])\n",
    "questions_df.tags5_mean_time=questions_df.tags5_mean_time.astype('float16')\n",
    "tags1_agg = questions_df.groupby('tags5')['mean_time_standard'].agg(['var'])\n",
    "questions_df['tags5_med_time'] = questions_df['tags5'].map(tags1_agg['var'])\n",
    "questions_df.tags5_med_time=questions_df.tags5_med_time.astype('float16')\n",
    "\n",
    "tags1_agg = questions_df.groupby('tags5')['content_correctness'].agg(['mean'])\n",
    "questions_df['tags5_correctness_mean'] = questions_df['tags5'].map(tags1_agg['mean'])\n",
    "questions_df.tags5_correctness_mean=questions_df.tags5_correctness_mean.astype('float16')\n",
    "tags1_agg = questions_df.groupby('tags5')['content_correctness'].agg(['skew'])\n",
    "questions_df['tags5_correctness_skew'] = questions_df['tags5'].map(tags1_agg['skew'])\n",
    "questions_df.tags5_correctness_skew=questions_df.tags5_correctness_skew.astype('float16')\n",
    "tags1_agg = questions_df.groupby('tags5')['content_correctness'].agg(['var'])\n",
    "questions_df['tags5_correctness_var'] = questions_df['tags5'].map(tags1_agg['var'])\n",
    "questions_df.tags5_correctness_var=questions_df.tags5_correctness_var.astype('float16')"
   ]
  },
  {
   "cell_type": "code",
   "execution_count": 89,
   "metadata": {
    "execution": {
     "iopub.execute_input": "2021-01-04T15:26:44.791087Z",
     "iopub.status.busy": "2021-01-04T15:26:44.790292Z",
     "iopub.status.idle": "2021-01-04T15:26:44.796239Z",
     "shell.execute_reply": "2021-01-04T15:26:44.79572Z"
    },
    "papermill": {
     "duration": 0.17093,
     "end_time": "2021-01-04T15:26:44.796374",
     "exception": false,
     "start_time": "2021-01-04T15:26:44.625444",
     "status": "completed"
    },
    "tags": []
   },
   "outputs": [
    {
     "data": {
      "text/plain": [
       "80"
      ]
     },
     "execution_count": 89,
     "metadata": {},
     "output_type": "execute_result"
    }
   ],
   "source": [
    "del content_agg\n",
    "del bundle_agg\n",
    "del part_agg\n",
    "del tags1_agg\n",
    "del train_df\n",
    "gc.collect()"
   ]
  },
  {
   "cell_type": "markdown",
   "metadata": {
    "papermill": {
     "duration": 0.084058,
     "end_time": "2021-01-04T15:26:45.679157",
     "exception": false,
     "start_time": "2021-01-04T15:26:45.595099",
     "status": "completed"
    },
    "tags": []
   },
   "source": [
    "# Train"
   ]
  },
  {
   "cell_type": "code",
   "execution_count": 90,
   "metadata": {
    "execution": {
     "iopub.execute_input": "2021-01-04T15:26:45.852168Z",
     "iopub.status.busy": "2021-01-04T15:26:45.851384Z",
     "iopub.status.idle": "2021-01-04T15:26:45.871407Z",
     "shell.execute_reply": "2021-01-04T15:26:45.871931Z"
    },
    "papermill": {
     "duration": 0.107675,
     "end_time": "2021-01-04T15:26:45.872106",
     "exception": false,
     "start_time": "2021-01-04T15:26:45.764431",
     "status": "completed"
    },
    "tags": []
   },
   "outputs": [],
   "source": [
    "features_dict = {\n",
    "    #'user_id',\n",
    "    #'timestamp':'float16',#\n",
    "    'user_interaction_count':'int16',\n",
    "    'user_interaction_timestamp_mean':'float32',\n",
    "    'lagtime':'float32',#\n",
    "    'lagtime2':'float32',\n",
    "    'lagtime3':'float32',\n",
    "    #'lagtime_mean':'int32',\n",
    "    #'content_id':'int16',\n",
    "    #'task_container_id':'int16',\n",
    "    'user_lecture_sum':'int16',#\n",
    "    'user_lecture_lv':'float16',##\n",
    "    'prior_question_elapsed_time':'float32',#\n",
    "    #'delta_prior_question_elapsed_time':'int32',#\n",
    "    'user_correctness':'float16',#\n",
    "    'true_user_correctness':'float16',\n",
    "    'user_uncorrect_count':'int16',#\n",
    "    'user_correct_count':'int16',#\n",
    "    'content_correctness':'float16',\n",
    "    'true_content_correctness':'float16',\n",
    "    'content_correctness_std':'float16',\n",
    "    'content_count':'int32',\n",
    "    'content_correct_count':'int32',\n",
    "    'content_uncorrect_count':'int32',#\n",
    "    'content_correctness_skew':'float16',\n",
    "    #'content_time_std':'float16',\n",
    "    #'part_time_std':'float16',\n",
    "    #'content_time_skew':'float16',\n",
    "    #'part_time_skew':'float16',\n",
    "    'content_mean_time':'float16',\n",
    "    'part_mean_time':'float16',\n",
    "    'mean_time_standard':'float16',\n",
    "    'content_med_time':'float16',\n",
    "    'part_med_time':'float16',\n",
    "    'content_time_range':'float16',\n",
    "    #'content_elapsed_time_mean':'float16',\n",
    "    'content_had_explanation_mean':'float16',\n",
    "    'content_explation_false_mean':'float16',\n",
    "    'content_explation_true_mean':'float16',\n",
    "    'task_container_correctness':'float16',\n",
    "    #'task_container_std':'float16',\n",
    "    'task_container_cor_count':'int32',#\n",
    "    'task_container_uncor_count':'int32',#\n",
    "    'attempt_no':'int8',#\n",
    "    #'part':'int8',\n",
    "    'part_correctness_mean':'float16',\n",
    "    'part_correctness_std':'float16',\n",
    "    'part_uncor_count':'int32',\n",
    "    'part_cor_count':'int32',\n",
    "    #'tags0': 'int8',\n",
    "    #'tags1': 'int8',\n",
    "    #'tags2': 'int8',\n",
    "    #'tags3': 'int8',\n",
    "    #'tags4': 'int8',\n",
    "    #'tags5': 'int8',\n",
    "    #'tags6': 'int8',\n",
    "    #'tags7': 'int8',\n",
    "     #'tags0_correctness_mean':'float16',\n",
    "     #'tags1_correctness_mean':'float16',\n",
    "     #'tags2_correctness_mean':'float16',\n",
    "     #'tags3_correctness_mean':'float16',\n",
    "     #'tags4_correctness_mean':'float16',\n",
    "     #'tags5_correctness_mean':'float16',\n",
    "     'tags0_correctness_skew':'float16',\n",
    "     'tags1_correctness_skew':'float16',\n",
    "     'tags2_correctness_skew':'float16',\n",
    "     'tags3_correctness_skew':'float16',\n",
    "     'tags4_correctness_skew':'float16',\n",
    "     'tags5_correctness_skew':'float16',\n",
    "     #'tags0_correctness_var':'float16',\n",
    "     #'tags1_correctness_var':'float16',\n",
    "     #'tags2_correctness_var':'float16',\n",
    "     #'tags3_correctness_var':'float16',\n",
    "     #'tags4_correctness_var':'float16',\n",
    "     #'tags5_correctness_var':'float16',\n",
    "    'question_elapsed_time_mean': 'float16',\n",
    "    'question_had_explanation_mean': 'float16',\n",
    "    'question_correctly_q_count': 'int16',\n",
    "    'question_correctly_q_mean': 'float16',\n",
    "    'tags_lsi': 'float16', \n",
    "    'tag_acc_count': 'float16',\t\n",
    "    'tag_acc_max':'float16',\n",
    "    'tag_acc_min': 'float16',\n",
    "    'part_elapsed_time_mean': 'float16',\n",
    "    'part_had_explanation_mean': 'float16',\n",
    "    'part_correctly_q_mean':'float16',\n",
    "#     'bundle_id':'int16',\n",
    "#     'bundle_correctness_mean':'float16',\n",
    "#     'bundle_uncor_count':'int32',\n",
    "#     'bundle_cor_count':'int32',\n",
    "    #'part_bundle_id':'int32',\n",
    "    'content_sub_bundle':'int8',\n",
    "    'prior_question_had_explanation':'int8',\n",
    "    'explanation_mean':'float16', #\n",
    "    #'explanation_var',#\n",
    "    'explanation_false_count':'int16',#\n",
    "    'explanation_true_count':'int16',#\n",
    "    'community_0':'int8',\n",
    "    'community_1':'int8',\n",
    "    'community_2':'int8',\n",
    "    'community_3':'int8',\n",
    "    'community_4':'int8',\n",
    "   # 'community':'int8',\n",
    "     #'parts_1':'int8',\n",
    "     #'parts_2':'int8',\n",
    "     #'parts_3':'int8',\n",
    "     #'parts_4':'int8',\n",
    "     #'parts_5':'int8',\n",
    "     #'parts_6':'int8',\n",
    "     #'parts_7':'int8',\n",
    "#     'type_of_concept',\n",
    "#     'type_of_intention',\n",
    "#     'type_of_solving_question',\n",
    "#     'type_of_starter'\n",
    "}\n",
    "categorical_columns= [\n",
    "    #'user_id',\n",
    "    #'content_id',\n",
    "    #'task_container_id',\n",
    "    #'part',\n",
    "   # 'community',\n",
    "   #'tags0',\n",
    "    #'tags1',\n",
    "    #'tags2',\n",
    "    #'tags3',\n",
    "    #'tags4',\n",
    "    #'tags5',\n",
    "    #'tags6',\n",
    "    #'tags7',\n",
    "    #'bundle_id',\n",
    "    #'part_bundle_id',\n",
    "    'content_sub_bundle',\n",
    "    'prior_question_had_explanation',\n",
    "    'community_0',\n",
    "    'community_1',\n",
    "    'community_2',\n",
    "    'community_3',\n",
    "    'community_4', \n",
    "     #'parts_1',\n",
    "     #'parts_2',\n",
    "     #'parts_3',\n",
    "     #'parts_4',\n",
    "     #'parts_5',\n",
    "     #'parts_6',\n",
    "     #'parts_7',\n",
    "#     'type_of_concept',\n",
    "#     'type_of_intention',\n",
    "#     'type_of_solving_question',\n",
    "#     'type_of_starter'\n",
    "]\n",
    "\n",
    "features=list(features_dict.keys())"
   ]
  },
  {
   "cell_type": "code",
   "execution_count": 92,
   "metadata": {
    "execution": {
     "iopub.execute_input": "2021-01-04T15:27:15.771147Z",
     "iopub.status.busy": "2021-01-04T15:27:15.696158Z",
     "iopub.status.idle": "2021-01-04T15:27:16.955903Z",
     "shell.execute_reply": "2021-01-04T15:27:16.956739Z"
    },
    "papermill": {
     "duration": 1.379222,
     "end_time": "2021-01-04T15:27:16.956971",
     "exception": false,
     "start_time": "2021-01-04T15:27:15.577749",
     "status": "completed"
    },
    "tags": []
   },
   "outputs": [],
   "source": [
    "model = joblib.load('../data/bagging4.3.pkl')"
   ]
  },
  {
   "cell_type": "code",
   "execution_count": 94,
   "metadata": {
    "execution": {
     "iopub.execute_input": "2021-01-04T15:27:37.572728Z",
     "iopub.status.busy": "2021-01-04T15:27:37.567523Z",
     "iopub.status.idle": "2021-01-04T15:27:37.580738Z",
     "shell.execute_reply": "2021-01-04T15:27:37.579967Z"
    },
    "papermill": {
     "duration": 0.112097,
     "end_time": "2021-01-04T15:27:37.580883",
     "exception": false,
     "start_time": "2021-01-04T15:27:37.468786",
     "status": "completed"
    },
    "tags": []
   },
   "outputs": [],
   "source": [
    "class TestDataset(Dataset):\n",
    "    def __init__(self, samples, test_df, skills, max_seq=MAX_SEQ): \n",
    "        super(TestDataset, self).__init__()\n",
    "        self.samples = samples\n",
    "        self.user_ids = [x for x in test_df[\"user_id\"].unique()]\n",
    "        self.test_df = test_df\n",
    "        self.skills = skills\n",
    "        self.n_skill = len(skills)\n",
    "        self.max_seq = max_seq\n",
    "\n",
    "    def __len__(self):\n",
    "        return self.test_df.shape[0]\n",
    "\n",
    "    def __getitem__(self, index):\n",
    "        test_info = self.test_df.iloc[index]\n",
    "\n",
    "        user_id = test_info[\"user_id\"]\n",
    "        target_id = test_info[\"content_id\"]\n",
    "\n",
    "        q = np.zeros(self.max_seq, dtype=int)\n",
    "        qa = np.zeros(self.max_seq, dtype=int)\n",
    "\n",
    "        if user_id in self.samples.index:\n",
    "            q_, qa_ = self.samples[user_id]\n",
    "            \n",
    "            seq_len = len(q_)\n",
    "\n",
    "            if seq_len >= self.max_seq:\n",
    "                q = q_[-self.max_seq:]\n",
    "                qa = qa_[-self.max_seq:]\n",
    "            else:\n",
    "                q[-seq_len:] = q_\n",
    "                qa[-seq_len:] = qa_          \n",
    "        \n",
    "        x = np.zeros(self.max_seq-1, dtype=int)\n",
    "        x = q[1:].copy()\n",
    "        x += (qa[1:] == 1) * self.n_skill\n",
    "        \n",
    "        questions = np.append(q[2:], [target_id])\n",
    "        \n",
    "        return x, questions"
   ]
  },
  {
   "cell_type": "code",
   "execution_count": 95,
   "metadata": {
    "execution": {
     "iopub.execute_input": "2021-01-04T15:27:37.980937Z",
     "iopub.status.busy": "2021-01-04T15:27:37.980255Z",
     "iopub.status.idle": "2021-01-04T15:27:38.207891Z",
     "shell.execute_reply": "2021-01-04T15:27:38.206548Z"
    },
    "papermill": {
     "duration": 0.538858,
     "end_time": "2021-01-04T15:27:38.208042",
     "exception": false,
     "start_time": "2021-01-04T15:27:37.669184",
     "status": "completed"
    },
    "tags": []
   },
   "outputs": [],
   "source": [
    "user_sum_dict = user_agg['sum'].astype('int16').to_dict(defaultdict(int))\n",
    "user_count_dict = user_agg['count'].astype('int16').to_dict(defaultdict(int))\n",
    "# user_sum_dict2 = user_agg2['sum'].astype('int16').to_dict(defaultdict(int))\n",
    "# user_count_dict2 = user_agg2['count'].astype('int16').to_dict(defaultdict(int))"
   ]
  },
  {
   "cell_type": "code",
   "execution_count": 96,
   "metadata": {
    "execution": {
     "iopub.execute_input": "2021-01-04T15:27:38.536037Z",
     "iopub.status.busy": "2021-01-04T15:27:38.535247Z",
     "iopub.status.idle": "2021-01-04T15:27:39.260824Z",
     "shell.execute_reply": "2021-01-04T15:27:39.261293Z"
    },
    "papermill": {
     "duration": 0.964341,
     "end_time": "2021-01-04T15:27:39.261452",
     "exception": false,
     "start_time": "2021-01-04T15:27:38.297111",
     "status": "completed"
    },
    "tags": []
   },
   "outputs": [
    {
     "data": {
      "text/plain": [
       "0"
      ]
     },
     "execution_count": 96,
     "metadata": {},
     "output_type": "execute_result"
    }
   ],
   "source": [
    "#user_var_dict = user_agg['var'].astype('float16').to_dict(defaultdict(int))\n",
    "\n",
    "# content_sum_dict = content_agg['sum'].astype('int32').to_dict(defaultdict(int))\n",
    "# content_count_dict = content_agg['count'].astype('int32').to_dict(defaultdict(int))\n",
    "\n",
    "del user_agg\n",
    "#del user_agg2\n",
    "#del content_agg\n",
    "gc.collect()\n",
    "\n",
    "task_container_sum_dict = task_container_agg['sum'].astype('int32').to_dict(defaultdict(int))\n",
    "task_container_count_dict = task_container_agg['count'].astype('int32').to_dict(defaultdict(int))\n",
    "task_container_std_dict = task_container_agg['var'].astype('float16').to_dict(defaultdict(int))\n",
    "\n",
    "explanation_sum_dict = explanation_agg['sum'].astype('int16').to_dict(defaultdict(int))\n",
    "explanation_count_dict = explanation_agg['count'].astype('int16').to_dict(defaultdict(int))\n",
    "#explanation_var_dict = explanation_agg['var'].astype('float16').to_dict(defaultdict(int))\n",
    "del task_container_agg\n",
    "del explanation_agg\n",
    "gc.collect()"
   ]
  },
  {
   "cell_type": "code",
   "execution_count": 97,
   "metadata": {
    "execution": {
     "iopub.execute_input": "2021-01-04T15:27:39.625377Z",
     "iopub.status.busy": "2021-01-04T15:27:39.624668Z",
     "iopub.status.idle": "2021-01-04T15:27:40.205129Z",
     "shell.execute_reply": "2021-01-04T15:27:40.204372Z"
    },
    "papermill": {
     "duration": 0.672386,
     "end_time": "2021-01-04T15:27:40.205267",
     "exception": false,
     "start_time": "2021-01-04T15:27:39.532881",
     "status": "completed"
    },
    "tags": []
   },
   "outputs": [
    {
     "data": {
      "text/plain": [
       "95"
      ]
     },
     "execution_count": 97,
     "metadata": {},
     "output_type": "execute_result"
    }
   ],
   "source": [
    "user_lecture_sum_dict = user_lecture_agg['sum'].astype('int16').to_dict(defaultdict(int))\n",
    "user_lecture_count_dict = user_lecture_agg['count'].astype('int16').to_dict(defaultdict(int))\n",
    "\n",
    "#lagtime_mean_dict = lagtime_agg['mean'].astype('int32').to_dict(defaultdict(int))\n",
    "#del prior_question_elapsed_time_agg\n",
    "del user_lecture_agg\n",
    "#del lagtime_agg\n",
    "gc.collect()"
   ]
  },
  {
   "cell_type": "code",
   "execution_count": 98,
   "metadata": {
    "execution": {
     "iopub.execute_input": "2021-01-04T15:27:40.391719Z",
     "iopub.status.busy": "2021-01-04T15:27:40.39104Z",
     "iopub.status.idle": "2021-01-04T15:27:41.607874Z",
     "shell.execute_reply": "2021-01-04T15:27:41.607158Z"
    },
    "papermill": {
     "duration": 1.313183,
     "end_time": "2021-01-04T15:27:41.608008",
     "exception": false,
     "start_time": "2021-01-04T15:27:40.294825",
     "status": "completed"
    },
    "tags": []
   },
   "outputs": [
    {
     "data": {
      "text/plain": [
       "95"
      ]
     },
     "execution_count": 98,
     "metadata": {},
     "output_type": "execute_result"
    }
   ],
   "source": [
    "max_timestamp_u_dict=max_timestamp_u.set_index('user_id').to_dict()\n",
    "max_timestamp_u_dict2=max_timestamp_u2.set_index('user_id').to_dict()\n",
    "max_timestamp_u_dict3=max_timestamp_u3.set_index('user_id').to_dict()\n",
    "user_prior_question_elapsed_time_dict=user_prior_question_elapsed_time.set_index('user_id').to_dict()\n",
    "#del question_elapsed_time_agg\n",
    "del max_timestamp_u\n",
    "del max_timestamp_u2\n",
    "del max_timestamp_u3\n",
    "del user_prior_question_elapsed_time\n",
    "gc.collect()"
   ]
  },
  {
   "cell_type": "code",
   "execution_count": 99,
   "metadata": {
    "execution": {
     "iopub.execute_input": "2021-01-04T15:27:41.795576Z",
     "iopub.status.busy": "2021-01-04T15:27:41.794903Z",
     "iopub.status.idle": "2021-01-04T15:27:59.993974Z",
     "shell.execute_reply": "2021-01-04T15:27:59.99338Z"
    },
    "papermill": {
     "duration": 18.296231,
     "end_time": "2021-01-04T15:27:59.994118",
     "exception": false,
     "start_time": "2021-01-04T15:27:41.697887",
     "status": "completed"
    },
    "tags": []
   },
   "outputs": [
    {
     "data": {
      "text/plain": [
       "0"
      ]
     },
     "execution_count": 99,
     "metadata": {},
     "output_type": "execute_result"
    }
   ],
   "source": [
    "attempt_no_sum_dict = attempt_no_agg['sum'].to_dict(defaultdict(int))\n",
    "\n",
    "del attempt_no_agg\n",
    "gc.collect()"
   ]
  },
  {
   "cell_type": "code",
   "execution_count": 100,
   "metadata": {
    "execution": {
     "iopub.execute_input": "2021-01-04T15:28:00.185575Z",
     "iopub.status.busy": "2021-01-04T15:28:00.184687Z",
     "iopub.status.idle": "2021-01-04T15:28:00.187657Z",
     "shell.execute_reply": "2021-01-04T15:28:00.188135Z"
    },
    "papermill": {
     "duration": 0.102601,
     "end_time": "2021-01-04T15:28:00.188313",
     "exception": false,
     "start_time": "2021-01-04T15:28:00.085712",
     "status": "completed"
    },
    "tags": []
   },
   "outputs": [],
   "source": [
    "def get_max_attempt(user_id,content_id):\n",
    "    k = (user_id,content_id)\n",
    "\n",
    "    if k in attempt_no_sum_dict.keys():\n",
    "        attempt_no_sum_dict[k]+=1\n",
    "        return attempt_no_sum_dict[k]\n",
    "\n",
    "    attempt_no_sum_dict[k] = 1\n",
    "    return attempt_no_sum_dict[k]"
   ]
  },
  {
   "cell_type": "code",
   "execution_count": null,
   "metadata": {
    "execution": {
     "iopub.execute_input": "2021-01-04T15:28:00.568579Z",
     "iopub.status.busy": "2021-01-04T15:28:00.567728Z",
     "iopub.status.idle": "2021-01-04T15:28:00.57088Z",
     "shell.execute_reply": "2021-01-04T15:28:00.570224Z"
    },
    "papermill": {
     "duration": 0.100617,
     "end_time": "2021-01-04T15:28:00.571011",
     "exception": false,
     "start_time": "2021-01-04T15:28:00.470394",
     "status": "completed"
    },
    "tags": []
   },
   "outputs": [],
   "source": [
    "env = riiideducation.make_env()"
   ]
  },
  {
   "cell_type": "code",
   "execution_count": null,
   "metadata": {
    "execution": {
     "iopub.execute_input": "2021-01-04T15:28:00.76018Z",
     "iopub.status.busy": "2021-01-04T15:28:00.759287Z",
     "iopub.status.idle": "2021-01-04T15:28:00.763381Z",
     "shell.execute_reply": "2021-01-04T15:28:00.762773Z"
    },
    "papermill": {
     "duration": 0.101339,
     "end_time": "2021-01-04T15:28:00.763528",
     "exception": false,
     "start_time": "2021-01-04T15:28:00.662189",
     "status": "completed"
    },
    "tags": []
   },
   "outputs": [],
   "source": [
    "iter_test = env.iter_test()\n",
    "prior_test_df = None\n",
    "prev_test_df1 = None"
   ]
  },
  {
   "cell_type": "code",
   "execution_count": null,
   "metadata": {
    "execution": {
     "iopub.execute_input": "2021-01-04T15:28:00.958822Z",
     "iopub.status.busy": "2021-01-04T15:28:00.957815Z",
     "iopub.status.idle": "2021-01-04T15:28:00.960381Z",
     "shell.execute_reply": "2021-01-04T15:28:00.961018Z"
    },
    "papermill": {
     "duration": 0.099459,
     "end_time": "2021-01-04T15:28:00.961162",
     "exception": false,
     "start_time": "2021-01-04T15:28:00.861703",
     "status": "completed"
    },
    "tags": []
   },
   "outputs": [],
   "source": [
    "N=[0.4,0.6]"
   ]
  },
  {
   "cell_type": "code",
   "execution_count": null,
   "metadata": {},
   "outputs": [],
   "source": [
    "# 路径\n",
    "question_metadata_dir = r'../input/riiid-dataset/question_metadata.csv'\n",
    "lesson_metadata_dir = r'../input/riiid-dataset/lesson_metadata.csv'\n",
    "pickle_dir = r'..input/riiid-dataset/stage.pickle'\n",
    "model_dir = r'../input/riiid-dataset/classifier.model'\n",
    "\n",
    "env_1 = trueskill.TrueSkill(mu=0.3, sigma=0.164486, beta=0.05, tau=0.00164, draw_probability=0)\n",
    "env_1.make_as_global()\n",
    "\n",
    "\n",
    "def win_probability(team1, team2):\n",
    "    '''\n",
    "    根据两个TrueSkill对象，计算获胜概率\n",
    "    :param team1:用户TrueSkill对象\n",
    "    :param team2:问题Trueskill对象\n",
    "    :return: 获胜概率\n",
    "    '''\n",
    "    delta_mu = team1.mu - team2.mu\n",
    "    sum_sigma = sum([team1.sigma ** 2, team2.sigma ** 2])\n",
    "    size = 2\n",
    "    denom = math.sqrt(size * (0.05 * 0.05) + sum_sigma)\n",
    "    ts = trueskill.global_env()\n",
    "    return ts.cdf(delta_mu / denom)\n",
    "\n",
    "\n",
    "class user:\n",
    "    '''\n",
    "    用户 类\n",
    "    '''\n",
    "\n",
    "    def __init__(self):\n",
    "        '''\n",
    "        初始化user类\n",
    "        :param None\n",
    "        :return: None\n",
    "        '''\n",
    "        # 直接可输出的特征\n",
    "\n",
    "        # 数量类\n",
    "        self.question_answered_num = 0  # 用户回答问题的总数量\n",
    "        self.question_answered_num_agg_field = [0] * 7  # 用户总回答的问题(按TOEIC学科领域统计)\n",
    "\n",
    "        # 正确率类\n",
    "        self.question_answered_mean_accuracy = 0  # 用户回答的问题的平均正确率\n",
    "        self.question_answered_mean_accuracy_agg_field = [0] * 7  # 用户总回答的问题的平均正确率\n",
    "        self.question_answered_mean_difficulty_weighted_accuracy = 0  # 用户总回答的问题的平均难度加权正确率\n",
    "        self.question_answered_mean_difficulty_weighted_accuracy_agg_field = [0] * 7  # 用户总回答的问题的平均难度加权正确率(按TOEIC学科领域统计)\n",
    "\n",
    "        # 极值类\n",
    "        self.max_solved_difficulty = 1  # 用户解答的最难问题\n",
    "        self.max_solved_difficulty_agg_field = [1] * 7  # 用户解答的最难问题(按TOEIC学科领域统计)\n",
    "        self.min_wrong_difficulty = 0  # 用户做错的最简单问题\n",
    "        self.min_wrong_difficulty_agg_field = [0] * 7  # 用户做错的最简单问题\n",
    "\n",
    "        # 课程学习类\n",
    "        self.lessons_overall = 0  # 用户总共学了多少课\n",
    "        self.lessons_overall_agg_field = [0] * 7  # 用户总共学了多少课（按TOEIC学科领域统计）\n",
    "\n",
    "        # 交互时间信息类\n",
    "        self.session_time = 0  # 用户本Session的分钟数\n",
    "        self.since_last_session_time = 0  # 距离上次Session的小时数\n",
    "\n",
    "        # 需要进一步处理的特征\n",
    "        self._mmr_object = trueskill.setup(mu=0.3, sigma=0.164486, beta=0.05, tau=0.00164,\n",
    "                                           draw_probability=0).Rating()  # MMR模块\n",
    "        self._mmr_object_agg_field = [trueskill.setup(mu=0.3, sigma=0.164486, beta=0.05, tau=0.00164,\n",
    "                                                      draw_probability=0).Rating()] * 7  # MMR模块（按TOEIC学科领域统计）\n",
    "        self._most_liked_guess = [0] * 4  # 用户做错时最喜欢的选项\n",
    "        self._last_session_start_time = 0  # 本Session开始的时间\n",
    "        self._first_action_time = 0  # 首次交互的时间\n",
    "        self._question_num_dict = {}  # 用户回答问题的记录\n",
    "        self._first_processed_flag = False  # 是否处理的表示\n",
    "\n",
    "    def update_user(self, data: pd.DataFrame):\n",
    "        '''\n",
    "        处理一帧测试集\n",
    "        :param data: pandas DataFrame\n",
    "        :return: None\n",
    "        '''\n",
    "        _temp = None\n",
    "\n",
    "        # 判断用户是否正在观看课程\n",
    "        if data['content_type_id'] == 0:\n",
    "            # Content Type 为 0，即用户正在回答问题\n",
    "\n",
    "            # 处理回答计数部分\n",
    "            self.question_answered_num = self.question_answered_num + 1\n",
    "            question_field = int(data['content_field'])\n",
    "            self.question_answered_num_agg_field[question_field - 1] = int(self.question_answered_num_agg_field[\n",
    "                                                                               question_field - 1]) + 1\n",
    "\n",
    "            # 处理正确率部分\n",
    "            if data['answered_correctly'] == 1:\n",
    "                self.question_answered_mean_accuracy = \\\n",
    "                    (self.question_answered_mean_accuracy * (\n",
    "                            self.question_answered_num - 1) + 1) / self.question_answered_num\n",
    "\n",
    "                self.question_answered_mean_accuracy_agg_field[question_field - 1] = \\\n",
    "                    (self.question_answered_mean_accuracy_agg_field[question_field - 1] * (\n",
    "                            self.question_answered_num_agg_field[question_field - 1] - 1) + 1) \\\n",
    "                    / self.question_answered_num_agg_field[question_field - 1]\n",
    "\n",
    "                self.question_answered_mean_difficulty_weighted_accuracy = \\\n",
    "                    (self.question_answered_mean_difficulty_weighted_accuracy * (self.question_answered_num - 1) + (\n",
    "                            1 - data['mean_question_accuracy']) * 3) \\\n",
    "                    / self.question_answered_num\n",
    "\n",
    "                self.question_answered_mean_difficulty_weighted_accuracy_agg_field[question_field - 1] = \\\n",
    "                    (self.question_answered_mean_difficulty_weighted_accuracy_agg_field[question_field - 1] * (\n",
    "                            self.question_answered_num_agg_field[question_field - 1] - 1) + (\n",
    "                             1 - data['mean_question_accuracy']) * 3) \\\n",
    "                    / self.question_answered_num_agg_field[question_field - 1]\n",
    "\n",
    "\n",
    "            else:\n",
    "                self.question_answered_mean_accuracy = \\\n",
    "                    (self.question_answered_mean_accuracy * (\n",
    "                            self.question_answered_num - 1)) / self.question_answered_num\n",
    "\n",
    "                self.question_answered_mean_accuracy_agg_field[question_field - 1] = \\\n",
    "                    (self.question_answered_mean_accuracy_agg_field[question_field - 1] * (\n",
    "                            self.question_answered_num_agg_field[question_field - 1] - 1)) / \\\n",
    "                    self.question_answered_num_agg_field[question_field - 1]\n",
    "\n",
    "                self.question_answered_mean_difficulty_weighted_accuracy = \\\n",
    "                    (self.question_answered_mean_difficulty_weighted_accuracy * (self.question_answered_num - 1)) \\\n",
    "                    / self.question_answered_num\n",
    "\n",
    "                self.question_answered_mean_difficulty_weighted_accuracy_agg_field[question_field - 1] = \\\n",
    "                    (self.question_answered_mean_difficulty_weighted_accuracy_agg_field[question_field - 1] * (\n",
    "                            self.question_answered_num_agg_field[question_field - 1] - 1)) \\\n",
    "                    / self.question_answered_num_agg_field[question_field - 1]\n",
    "\n",
    "            # 处理最大/最小正确率部分\n",
    "\n",
    "            if data['answered_correctly'] == 1:\n",
    "                if data['mean_question_accuracy'] < self.max_solved_difficulty:\n",
    "                    self.max_solved_difficulty = data['mean_question_accuracy']\n",
    "                if data['mean_question_accuracy'] < self.max_solved_difficulty_agg_field[question_field - 1]:\n",
    "                    self.max_solved_difficulty_agg_field[question_field - 1] = data['mean_question_accuracy']\n",
    "            else:\n",
    "                if data['mean_question_accuracy'] > self.min_wrong_difficulty:\n",
    "                    self.min_wrong_difficulty = data['mean_question_accuracy']\n",
    "                if data['mean_question_accuracy'] > self.min_wrong_difficulty_agg_field[question_field - 1]:\n",
    "                    self.min_wrong_difficulty_agg_field[question_field - 1] = data['mean_question_accuracy']\n",
    "\n",
    "            # 处理猜测部分\n",
    "            if data['answered_correctly'] == 0:\n",
    "                self._most_liked_guess[int(data['user_answer'])] = self._most_liked_guess[\n",
    "                                                                       int(data['user_answer'])] + 1\n",
    "\n",
    "            # 处理时间部分\n",
    "            if self._first_action_time == 0:\n",
    "                self._first_action_time = data['timestamp']\n",
    "                self._last_session_start_time = data['timestamp']\n",
    "            else:\n",
    "                if data['timestamp'] - self._last_session_start_time >= 7200 * 1000:\n",
    "                    self.since_last_session_time = (data[\n",
    "                                                        'timestamp'] - self._last_session_start_time) / 1000 / 3600\n",
    "                    self._last_session_start_time = data['timestamp']\n",
    "                    self.session_time = 0\n",
    "                else:\n",
    "                    self.session_time = (data['timestamp'] - self._last_session_start_time) / 1000 / 60\n",
    "\n",
    "            # 处理问题记录部分\n",
    "            if str(data['content_id']) in self._question_num_dict:\n",
    "                self._question_num_dict[str(data['content_id'])] = self._question_num_dict[str(data['content_id'])] + 1\n",
    "            else:\n",
    "                self._question_num_dict[str(data['content_id'])] = 1\n",
    "\n",
    "            # 处理TrueSkill部分\n",
    "            if data['answered_correctly'] == 1:\n",
    "                self._mmr_object, _temp = \\\n",
    "                    trueskill.rate_1vs1(self._mmr_object,\n",
    "                                        trueskill.setup(mu=1 - data['mean_question_accuracy'], sigma=0.164486,\n",
    "                                                        beta=0.05, tau=0.00164, draw_probability=0).Rating())\n",
    "                self._mmr_object_agg_field[question_field - 1], _temp = \\\n",
    "                    trueskill.rate_1vs1(self._mmr_object_agg_field[question_field - 1],\n",
    "                                        trueskill.setup(mu=1 - data['mean_question_accuracy'], sigma=0.164486,\n",
    "                                                        beta=0.05,\n",
    "                                                        tau=0.00164, draw_probability=0).Rating())\n",
    "            else:\n",
    "                _temp, self._mmr_object = \\\n",
    "                    trueskill.rate_1vs1(trueskill.setup(mu=1 - data['mean_question_accuracy'], sigma=0.164486,\n",
    "                                                        beta=0.05, tau=0.00164, draw_probability=0).Rating(),\n",
    "                                        self._mmr_object)\n",
    "\n",
    "                _temp, self._mmr_object_agg_field[question_field - 1] = \\\n",
    "                    trueskill.rate_1vs1(trueskill.setup(mu=1 - data['mean_question_accuracy'], sigma=0.164486,\n",
    "                                                        beta=0.05,\n",
    "                                                        tau=0.00164, draw_probability=0).Rating(),\n",
    "                                        self._mmr_object_agg_field[question_field - 1])\n",
    "\n",
    "\n",
    "\n",
    "        else:\n",
    "            # Content Type 不为 0 ，即用户在观看视频\n",
    "\n",
    "            self.lessons_overall = self.lessons_overall + 1\n",
    "            lesson_field = int(data['content_field'])\n",
    "            self.lessons_overall_agg_field[lesson_field - 1] = self.lessons_overall_agg_field[lesson_field - 1] + 1\n",
    "\n",
    "    def process_output(self, data):\n",
    "        '''\n",
    "        根据user现有属性设置输出训练数据\n",
    "        :param data: 本行数据集\n",
    "        :return: output_dict 训练数据\n",
    "        '''\n",
    "        output_dict = {}\n",
    "\n",
    "        # 回答数量类\n",
    "        output_dict['question_answered_num'] = self.question_answered_num\n",
    "        output_dict['question_answered_num_agg_field'] = self.question_answered_num_agg_field[\n",
    "            int(data['content_field']) - 1]\n",
    "\n",
    "        # 回答正确率类\n",
    "        output_dict['question_answered_mean_accuracy'] = self.question_answered_mean_accuracy\n",
    "\n",
    "        output_dict['question_answered_mean_accuracy_agg_field'] = self.question_answered_mean_accuracy_agg_field[\n",
    "            int(data['content_field']) - 1]\n",
    "        output_dict[\n",
    "            'question_answered_mean_difficulty_weighted_accuracy'] = self.question_answered_mean_difficulty_weighted_accuracy\n",
    "        output_dict['question_answered_mean_difficulty_weighted_accuracy_agg_field'] = \\\n",
    "            self.question_answered_mean_difficulty_weighted_accuracy_agg_field[int(data['content_field']) - 1]\n",
    "\n",
    "        # 极值类\n",
    "\n",
    "        output_dict['max_solved_difficulty'] = self.max_solved_difficulty\n",
    "        output_dict['max_solved_difficulty_agg_field'] = self.max_solved_difficulty_agg_field[\n",
    "            int(data['content_field']) - 1]\n",
    "        output_dict['min_wrong_difficulty'] = self.min_wrong_difficulty\n",
    "        output_dict['min_wrong_difficulty_agg_field'] = self.min_wrong_difficulty_agg_field[\n",
    "            int(data['content_field']) - 1]\n",
    "\n",
    "        # 课程学习类\n",
    "        output_dict['lessons_overall'] = self.lessons_overall\n",
    "        output_dict['lessons_overall_agg_field'] = self.lessons_overall_agg_field[int(data['content_field']) - 1]\n",
    "        if output_dict['lessons_overall_agg_field'] > 0:\n",
    "            output_dict['field_learnt'] = 1\n",
    "        else:\n",
    "            output_dict['field_learnt'] = 0\n",
    "        # 交互时间类\n",
    "        output_dict['session_time'] = self.session_time\n",
    "        output_dict['time_to_last_session'] = self.since_last_session_time\n",
    "\n",
    "        output_dict['task_id'] = data['task_container_id']\n",
    "        output_dict['prior_time'] = data['prior_question_elapsed_time']\n",
    "        # 问题信息类\n",
    "        output_dict['mean_question_accuracy'] = data['mean_question_accuracy']\n",
    "        output_dict['std_question_accuracy'] = data['std_accuracy']\n",
    "        output_dict['question_id'] = data['content_id']\n",
    "        # TrueSkill 信息类\n",
    "        output_dict['mmr_overall'] = self._mmr_object.mu\n",
    "        output_dict['mmr_overall_agg_field'] = self._mmr_object_agg_field[int(data['content_field']) - 1].mu\n",
    "        output_dict['mmr_confidence'] = self._mmr_object.sigma\n",
    "\n",
    "        output_dict['mmr_overall_agg_field'] = self._mmr_object_agg_field[int(data['content_field']) - 1].sigma\n",
    "        output_dict['mmr_win_prob'] = win_probability(self._mmr_object,\n",
    "                                                      trueskill.setup(mu=1 - data['mean_question_accuracy'],\n",
    "                                                                      sigma=0.164486,\n",
    "                                                                      beta=0.05, tau=0.00164,\n",
    "                                                                      draw_probability=0).Rating())\n",
    "        output_dict['mmr_win_prob_agg_field'] = win_probability(\n",
    "            self._mmr_object_agg_field[int(data['content_field']) - 1],\n",
    "            trueskill.setup(mu=1 - data['mean_question_accuracy'], sigma=0.164486, beta=0.05,\n",
    "                            tau=0.00164, draw_probability=0).Rating())\n",
    "        output_dict['user_id'] = data['user_id']\n",
    "        output_dict['tag_1'] = data['tag_1']\n",
    "        output_dict['tag_2'] = data['tag_2']\n",
    "\n",
    "        output_dict['tags_encoded'] = data['tags_encoded']\n",
    "        # 特殊特征类\n",
    "\n",
    "        if not pd.isna(['prior_question_had_explanation']):\n",
    "            output_dict['previous_explained'] = data['prior_question_had_explanation']\n",
    "        else:\n",
    "            output_dict['previous_explained'] = False\n",
    "\n",
    "        if str(data['content_id']) in self._question_num_dict:\n",
    "            output_dict['question_seen'] = 1\n",
    "        else:\n",
    "            output_dict['question_seen'] = 0\n",
    "\n",
    "        # 猜测类\n",
    "        max_choice = 0\n",
    "        max_choice_num = 0\n",
    "        i = 0\n",
    "        for item in self._most_liked_guess:\n",
    "            if item > max_choice_num:\n",
    "                max_choice_num = item\n",
    "                max_choice = i\n",
    "            i = i + 1\n",
    "\n",
    "        if output_dict['mmr_win_prob'] <= 0.4:\n",
    "            if max_choice == data['correct_answer']:\n",
    "                output_dict['most_liked_guess_correct'] = True\n",
    "            else:\n",
    "                output_dict['most_liked_guess_correct'] = False\n",
    "        else:\n",
    "            output_dict['most_liked_guess_correct'] = True\n",
    "\n",
    "        # 训练目标\n",
    "        # output_dict['answered_correctly'] = data['answered_correctly']\n",
    "\n",
    "        return output_dict\n",
    "\n",
    "\n",
    "# 导入Metadata\n",
    "question_metadata = pd.read_csv(question_metadata_dir)\n",
    "lesson_metadata = pd.read_csv(lesson_metadata_dir)\n",
    "\n",
    "\n",
    "# 设置Metadata索引\n",
    "question_metadata = question_metadata.set_index(keys=['content_id'])\n",
    "lesson_metadata = lesson_metadata.set_index(keys=['content_id'])\n",
    "\n",
    "\n",
    "# 导入Pickle状态\n",
    "with open(pickle_dir, 'rb') as fo:\n",
    "    user_pickle = pickle.load(fo)\n",
    "\n",
    "\n",
    "\n",
    "# 重置Trueskill状态\n",
    "for user_id, user_info in user_pickle.items():\n",
    "    user_pickle[user_id]._mmr_object = trueskill.setup(mu=user_pickle[user_id]._mmr_object[0],\n",
    "                                                       sigma=user_pickle[user_id]._mmr_object[1],\n",
    "                                                       beta=0.05, tau=0.00164,\n",
    "                                                       draw_probability=0).Rating()\n",
    "    for i in range(0, 7):\n",
    "        # 1+1\n",
    "        user_pickle[user_id]._mmr_object_agg_field[i] = trueskill.setup(\n",
    "            mu=user_pickle[user_id]._mmr_object_agg_field[i][0],\n",
    "            sigma=user_pickle[user_id]._mmr_object_agg_field[i][1],\n",
    "            beta=0.05, tau=0.00164,\n",
    "            draw_probability=0).Rating()\n",
    "\n",
    "\n",
    "\n",
    "# 导入模型\n",
    "model_chess = lgb.Booster(model_file=model_dir)\n",
    "\n",
    "\n",
    "# 初始换变量\n",
    "rows_accum = 0  # 行计数器\n",
    "first_submission = True  # 是否第一组标记\n",
    "model_prd = [0]\n",
    "true_value = []\n",
    "last_df = pd.DataFrame()"
   ]
  },
  {
   "cell_type": "code",
   "execution_count": null,
   "metadata": {
    "execution": {
     "iopub.execute_input": "2021-01-04T15:28:01.188119Z",
     "iopub.status.busy": "2021-01-04T15:28:01.163504Z",
     "iopub.status.idle": "2021-01-04T15:28:02.437386Z",
     "shell.execute_reply": "2021-01-04T15:28:02.438115Z"
    },
    "papermill": {
     "duration": 1.387015,
     "end_time": "2021-01-04T15:28:02.438265",
     "exception": false,
     "start_time": "2021-01-04T15:28:01.05125",
     "status": "completed"
    },
    "tags": []
   },
   "outputs": [],
   "source": [
    "%%time\n",
    "\n",
    "for (test_df, sample_prediction_df) in iter_test:\n",
    "    test_df1=test_df.copy()\n",
    "    if (prev_test_df1 is not None):\n",
    "        prev_test_df1['answered_correctly'] = eval(test_df1['prior_group_answers_correct'].iloc[0])\n",
    "        prev_test_df1 = prev_test_df1[prev_test_df1.content_type_id == False]\n",
    "        \n",
    "        prev_group = prev_test_df1[['user_id', 'content_id', 'answered_correctly']].groupby('user_id').apply(lambda r: (\n",
    "            r['content_id'].values,\n",
    "            r['answered_correctly'].values))\n",
    "        for prev_user_id in prev_group.index:\n",
    "            if prev_user_id in group.index:\n",
    "                group[prev_user_id] = (\n",
    "                    np.append(group[prev_user_id][0], prev_group[prev_user_id][0])[-MAX_SEQ:], \n",
    "                    np.append(group[prev_user_id][1], prev_group[prev_user_id][1])[-MAX_SEQ:]\n",
    "                )\n",
    " \n",
    "            else:\n",
    "                group[prev_user_id] = (\n",
    "                    prev_group[prev_user_id][0], \n",
    "                    prev_group[prev_user_id][1]\n",
    "                )\n",
    "\n",
    "    prev_test_df1 = test_df1.copy()\n",
    "    \n",
    "    test_df1 = test_df1[test_df1.content_type_id == False]\n",
    "    test_dataset = TestDataset(group, test_df1, skills)\n",
    "    test_dataloader = DataLoader(test_dataset, batch_size=51200, shuffle=False)\n",
    "    \n",
    "    outs = []\n",
    "\n",
    "    for item in test_dataloader:\n",
    "        x = item[0].to(device).long()\n",
    "        target_id = item[1].to(device).long()\n",
    "        with torch.no_grad():\n",
    "            output, att_weight = nn_model(x, target_id)\n",
    "        outs.extend(torch.sigmoid(output)[:, -1].view(-1).data.cpu().numpy())\n",
    "        \n",
    "    #test_df1['answered_correctly'] = outs\n",
    "    \n",
    "    \n",
    "    \n",
    "    \n",
    "    ###for lgb\n",
    "    if prior_test_df is not None:\n",
    "        prior_test_df[target] = eval(test_df['prior_group_answers_correct'].iloc[0])\n",
    "        prior_test_df = prior_test_df[prior_test_df[target] != -1].reset_index(drop=True)\n",
    "        #prior_test_df = prior_test_df[prior_test_df[target] != -1]\n",
    "        prior_test_df['prior_question_had_explanation'].fillna(False, inplace=True)       \n",
    "        prior_test_df.prior_question_had_explanation=prior_test_df.prior_question_had_explanation.astype('int8')\n",
    "    \n",
    "        user_ids = prior_test_df['user_id'].values\n",
    "        #content_ids = prior_test_df['content_id'].values\n",
    "        #task_container_ids = prior_test_df['task_container_id'].values\n",
    "        #prior_question_had_explanations = prior_test_df['prior_question_had_explanation'].values\n",
    "        targets = prior_test_df[target].values        \n",
    "        \n",
    "        for user_id, answered_correctly in zip(user_ids,targets):\n",
    "            user_sum_dict[user_id] += answered_correctly\n",
    "            user_count_dict[user_id] += 1\n",
    "#             user_sum_dict2[user_id] += answered_correctly\n",
    "#             user_count_dict2[user_id] += 1   \n",
    "            \n",
    "\n",
    "    prior_test_df = test_df.copy() \n",
    "        \n",
    "    \n",
    "    question_len=len( test_df[test_df['content_type_id'] == 0])\n",
    "    test_df['prior_question_had_explanation'].fillna(False, inplace=True)\n",
    "    test_df.prior_question_had_explanation=test_df.prior_question_had_explanation.astype('int8')\n",
    "    test_df['prior_question_elapsed_time'].fillna(prior_question_elapsed_time_mean, inplace=True)\n",
    "    \n",
    "\n",
    "    user_lecture_sum = np.zeros(question_len, dtype=np.int16)\n",
    "    user_lecture_count = np.zeros(question_len, dtype=np.int16) \n",
    "    \n",
    "    user_sum = np.zeros(question_len, dtype=np.int16)\n",
    "    user_count = np.zeros(question_len, dtype=np.int16)\n",
    "#     user_sum2 = np.zeros(question_len, dtype=np.int16)\n",
    "#     user_count2 = np.zeros(question_len, dtype=np.int16)\n",
    "\n",
    "#     user_sum_dict_test=defaultdict(int)\n",
    "#     user_count_dict_test=defaultdict(int)\n",
    "\n",
    "    task_container_sum = np.zeros(question_len, dtype=np.int32)\n",
    "    task_container_count = np.zeros(question_len, dtype=np.int32)\n",
    "    task_container_std = np.zeros(question_len, dtype=np.float16)\n",
    "\n",
    "    explanation_sum = np.zeros(question_len, dtype=np.int32)\n",
    "    explanation_count = np.zeros(question_len, dtype=np.int32)\n",
    "    delta_prior_question_elapsed_time = np.zeros(question_len, dtype=np.int32)\n",
    "\n",
    "    attempt_no_count = np.zeros(question_len, dtype=np.int16)\n",
    "    lagtime = np.zeros(question_len, dtype=np.float32)\n",
    "    lagtime2 = np.zeros(question_len, dtype=np.float32)\n",
    "    lagtime3 = np.zeros(question_len, dtype=np.float32)\n",
    "    #lagtime_means = np.zeros(question_len, dtype=np.int32)\n",
    "    #\n",
    "   \n",
    "    i=0\n",
    "    for j, (user_id,prior_question_had_explanation,content_type_id,prior_question_elapsed_time,timestamp, content_id,task_container_id) in enumerate(zip(test_df['user_id'].values,test_df['prior_question_had_explanation'].values,test_df['content_type_id'].values,test_df['prior_question_elapsed_time'].values,test_df['timestamp'].values, test_df['content_id'].values, test_df['task_container_id'].values)):\n",
    "        \n",
    "         #\n",
    "        user_lecture_sum_dict[user_id] += content_type_id\n",
    "        user_lecture_count_dict[user_id] += 1\n",
    "        if(content_type_id==1):#\n",
    "            x=1\n",
    "#             if(len(user_lecture_stats_part[user_lecture_stats_part.user_id==user_id])==0):\n",
    "#                 user_lecture_stats_part = user_lecture_stats_part.append([{'user_id':user_id}], ignore_index=True)\n",
    "#                 user_lecture_stats_part.fillna(0, inplace=True)\n",
    "#                 user_lecture_stats_part.loc[user_lecture_stats_part.user_id==user_id,part_lectures_columns + types_of_lectures_columns]+=lectures_df[lectures_df.lecture_id==content_id][part_lectures_columns + types_of_lectures_columns].values\n",
    "#             else:\n",
    "#                 user_lecture_stats_part.loc[user_lecture_stats_part.user_id==user_id,part_lectures_columns + types_of_lectures_columns]+=lectures_df[lectures_df.lecture_id==content_id][part_lectures_columns + types_of_lectures_columns].values\n",
    "        if(content_type_id==0):#   \n",
    "            user_lecture_sum[i] = user_lecture_sum_dict[user_id]\n",
    "            user_lecture_count[i] = user_lecture_count_dict[user_id]\n",
    "                \n",
    "            user_sum[i] = user_sum_dict[user_id]\n",
    "            user_count[i] = user_count_dict[user_id]\n",
    "#             user_sum2[i] = user_sum_dict2[user_id]\n",
    "#             user_count2[i] = user_count_dict2[user_id]\n",
    "    #         content_sum[i] = content_sum_dict[content_id]\n",
    "    #         content_count[i] = content_count_dict[content_id]\n",
    "            task_container_sum[i] = task_container_sum_dict[task_container_id]\n",
    "            task_container_count[i] = task_container_count_dict[task_container_id]\n",
    "            task_container_std[i]=task_container_std_dict[task_container_id]\n",
    "\n",
    "            explanation_sum_dict[user_id] += prior_question_had_explanation\n",
    "            explanation_count_dict[user_id] += 1\n",
    "            explanation_sum[i] = explanation_sum_dict[user_id]\n",
    "            explanation_count[i] = explanation_count_dict[user_id]\n",
    "\n",
    "            if user_id in max_timestamp_u_dict['max_time_stamp'].keys():\n",
    "                lagtime[i]=timestamp-max_timestamp_u_dict['max_time_stamp'][user_id]\n",
    "                if(max_timestamp_u_dict2['max_time_stamp2'][user_id]==lagtime_mean2):#\n",
    "                    lagtime2[i]=lagtime_mean2\n",
    "                    lagtime3[i]=lagtime_mean3\n",
    "                    #max_timestamp_u_dict3['max_time_stamp3'].update({user_id:lagtime_mean3})\n",
    "                else:\n",
    "                    lagtime2[i]=timestamp-max_timestamp_u_dict2['max_time_stamp2'][user_id]\n",
    "                    if(max_timestamp_u_dict3['max_time_stamp3'][user_id]==lagtime_mean3):\n",
    "                        lagtime3[i]=lagtime_mean3 #\n",
    "                    else:\n",
    "                        lagtime3[i]=timestamp-max_timestamp_u_dict3['max_time_stamp3'][user_id]\n",
    "                    \n",
    "                    max_timestamp_u_dict3['max_time_stamp3'][user_id]=max_timestamp_u_dict2['max_time_stamp2'][user_id]\n",
    "                        \n",
    "                max_timestamp_u_dict2['max_time_stamp2'][user_id]=max_timestamp_u_dict['max_time_stamp'][user_id]\n",
    "                max_timestamp_u_dict['max_time_stamp'][user_id]=timestamp\n",
    "#                 lagtime_means[i]=(lagtime_mean_dict[user_id]+lagtime[i])/2\n",
    "#                 lagtime_mean_dict[user_id]=lagtime_means[i]\n",
    "            else:\n",
    "                lagtime[i]=lagtime_mean\n",
    "                max_timestamp_u_dict['max_time_stamp'].update({user_id:timestamp})\n",
    "                lagtime2[i]=lagtime_mean2#\n",
    "                max_timestamp_u_dict2['max_time_stamp2'].update({user_id:lagtime_mean2})\n",
    "                lagtime3[i]=lagtime_mean3#\n",
    "                max_timestamp_u_dict3['max_time_stamp3'].update({user_id:lagtime_mean3})\n",
    "#                 lagtime_mean_dict.update({user_id:lagtime_mean})\n",
    "#                 lagtime_means[i]=(lagtime_mean_dict[user_id]+lagtime[i])/2\n",
    "\n",
    "            if user_id in user_prior_question_elapsed_time_dict['prior_question_elapsed_time'].keys():            \n",
    "                delta_prior_question_elapsed_time[i]=prior_question_elapsed_time-user_prior_question_elapsed_time_dict['prior_question_elapsed_time'][user_id]\n",
    "                user_prior_question_elapsed_time_dict['prior_question_elapsed_time'][user_id]=prior_question_elapsed_time\n",
    "            else:           \n",
    "                delta_prior_question_elapsed_time[i]=delta_prior_question_elapsed_time_mean    \n",
    "                user_prior_question_elapsed_time_dict['prior_question_elapsed_time'].update({user_id:prior_question_elapsed_time})\n",
    "            i=i+1 \n",
    "\n",
    "\n",
    "        \n",
    "    test_df = test_df[test_df['content_type_id'] == 0].reset_index(drop=True)\n",
    "    #test_df = test_df[test_df['content_type_id'] == 0]\n",
    "    #right_index=True\n",
    "    #test_df = pd.merge(test_df, questions_df, on='content_id', how='left',right_index=True)    \n",
    "    #test_df = pd.concat([test_df.reset_index(drop=True), questions_df.reindex(test_df['content_id'].values).reset_index(drop=True)], axis=1)\n",
    "    test_df=test_df.merge(questions_df.loc[questions_df.index.isin(test_df['content_id'])],\n",
    "                  how='left', on='content_id', right_index=True)\n",
    "    \n",
    "    #test_df = pd.merge(test_df, user_lecture_stats_part, on=['user_id'], how=\"left\",right_index=True)\n",
    "    #test_df = pd.concat([test_df.reset_index(drop=True), user_lecture_stats_part.reindex(test_df['user_id'].values).reset_index(drop=True)], axis=1)\n",
    "#     test_df=test_df.merge(user_lecture_stats_part.loc[user_lecture_stats_part.index.isin(test_df['user_id'])],\n",
    "#                   how='left', on='user_id', right_index=True)\n",
    " \n",
    "    test_df['user_lecture_lv'] = user_lecture_sum / user_lecture_count\n",
    "    test_df['user_lecture_sum'] = user_lecture_sum\n",
    "    \n",
    "    test_df['user_interaction_count'] = user_lecture_count\n",
    "    test_df['user_interaction_timestamp_mean'] = test_df['timestamp']/user_lecture_count\n",
    "    \n",
    "    test_df['user_correctness'] = user_sum / user_count\n",
    "    test_df['user_uncorrect_count'] =user_count-user_sum\n",
    "    test_df['user_correct_count'] =user_sum\n",
    "    test_df['true_user_correctness'] = (test_df['user_correct_count']+1)/(test_df['user_correct_count']/test_df['user_correctness'] + 2) \n",
    "    #test_df['user_answer_count'] =user_count\n",
    "    \n",
    "#     test_df['user_correctness2'] = user_sum2 / user_count2\n",
    "#     test_df['user_uncorrect_count2'] =user_count2-user_sum2\n",
    "#     test_df['user_correct_count2'] =user_sum2\n",
    "    #test_df['user_answer_count2'] =user_count2\n",
    "    \n",
    "    #    \n",
    "    test_df['task_container_correctness'] = task_container_sum / task_container_count\n",
    "    test_df['task_container_cor_count'] = task_container_sum \n",
    "    test_df['task_container_uncor_count'] =task_container_count-task_container_sum \n",
    "    test_df['task_container_std'] = task_container_std \n",
    "    #test_df['content_task_mean'] = content_task_mean \n",
    "    \n",
    "    test_df['explanation_mean'] = explanation_sum / explanation_count\n",
    "    test_df['explanation_true_count'] = explanation_sum\n",
    "    test_df['explanation_false_count'] = explanation_count-explanation_sum \n",
    "    \n",
    "    #\n",
    "    test_df['delta_prior_question_elapsed_time'] = delta_prior_question_elapsed_time \n",
    "    \n",
    "  \n",
    " \n",
    "    test_df[\"attempt_no\"] = test_df[[\"user_id\", \"content_id\"]].apply(lambda row: get_max_attempt(row[\"user_id\"], row[\"content_id\"]), axis=1)\n",
    "    test_df[\"lagtime\"]=lagtime\n",
    "    test_df[\"lagtime2\"]=lagtime2\n",
    "    test_df[\"lagtime3\"]=lagtime3\n",
    "    #test_df[\"lagtime_mean\"]=lagtime_means\n",
    "\n",
    "    test_df['timestamp']=test_df['timestamp']/(1000*3600)\n",
    "    test_df.timestamp=test_df.timestamp.astype('float16')\n",
    "    test_df['lagtime']=test_df['lagtime']/(1000*3600)\n",
    "    test_df.lagtime=test_df.lagtime.astype('float32')\n",
    "    test_df['lagtime2']=test_df['lagtime2']/(1000*3600)\n",
    "    test_df.lagtime2=test_df.lagtime2.astype('float32')\n",
    "    test_df['lagtime3']=test_df['lagtime3']/(1000*3600)\n",
    "    test_df.lagtime3=test_df.lagtime3.astype('float32')\n",
    "    test_df['user_interaction_timestamp_mean']=test_df['user_interaction_timestamp_mean']/(1000*3600)\n",
    "    test_df.user_interaction_timestamp_mean=test_df.user_interaction_timestamp_mean.astype('float32')\n",
    "    \n",
    "    test_df['user_correctness'].fillna(0.67, inplace=True)\n",
    "    \n",
    "    test_preds  = model.predict(test_df[features])\n",
    "    #######################\n",
    "    #chess\n",
    "    #######################\n",
    "    \n",
    "    if first_submission == False:\n",
    "        last_df['answered_correctly'] = eval(test_df.iloc[0]['prior_group_answers_correct'])\n",
    "        last_df['user_answer'] = eval(test_df.iloc[0]['prior_group_responses'])\n",
    "        true_value.extend(eval(test_df.iloc[0]['prior_group_answers_correct']))\n",
    "        for index, row in last_df.iterrows():\n",
    "            user_pickle[row['user_id']].update_user(row)\n",
    "    rows_accum = rows_accum + test_df.shape[0]\n",
    "    if first_submission == False:\n",
    "        1 + 1\n",
    "       \n",
    "    test_df['answered_correctly'] = 0.6524\n",
    "    st = float(time.time())\n",
    "    # 完成Merge 与 Concat 工作\n",
    "    try:\n",
    "        sub_1 = test_df[test_df['content_type_id'] == False]\n",
    "        sub_2 = test_df[test_df['content_type_id'] == True]\n",
    "        del test_df\n",
    "        sub_1 = sub_1.merge(question_metadata, on=\"content_id\", how=\"left\")\n",
    "        sub_2 = sub_2.merge(lesson_metadata, on=\"content_id\", how=\"left\")\n",
    "        test_df = pd.DataFrame()\n",
    "        test_df = pd.concat([sub_1, sub_2])\n",
    "    except Exception:\n",
    "        pass\n",
    "\n",
    "    for index, row in test_df.iterrows():\n",
    "        try:\n",
    "            if row['user_id'] not in user_pickle:\n",
    "                user_pickle[row['user_id']] = user()\n",
    "            if row['content_type_id'] == 0:\n",
    "                predict_dict = user_pickle[row['user_id']].process_output(row)\n",
    "                l = []\n",
    "                for i, v in predict_dict.items():\n",
    "                    l.append(v)\n",
    "                prd_value = float(model_chess.predict([l])[0])\n",
    "                test_df.loc[test_df.row_id == row.row_id, 'answered_correctly'] = prd_value\n",
    "                model_prd.append(prd_value)\n",
    "\n",
    "\n",
    "        except Exception as e:\n",
    "            print(e)\n",
    "            pass\n",
    "\n",
    "    time_taken = float(time.time()) - st\n",
    "\n",
    "    if first_submission == True:\n",
    "        first_submission = False\n",
    "    last_df = test_df\n",
    "    ######################\n",
    "    \n",
    "    \n",
    "    \n",
    "    \n",
    "    \n",
    "    test_df[target]=(np.array(outs) + np.array(test_preds) + np.array(prd_value))/3\n",
    "    \n",
    "    env.predict(test_df[['row_id', target]])"
   ]
  },
  {
   "cell_type": "code",
   "execution_count": null,
   "metadata": {
    "execution": {
     "iopub.execute_input": "2021-01-04T15:28:02.625316Z",
     "iopub.status.busy": "2021-01-04T15:28:02.62433Z",
     "iopub.status.idle": "2021-01-04T15:28:02.641676Z",
     "shell.execute_reply": "2021-01-04T15:28:02.641144Z"
    },
    "papermill": {
     "duration": 0.112269,
     "end_time": "2021-01-04T15:28:02.641797",
     "exception": false,
     "start_time": "2021-01-04T15:28:02.529528",
     "status": "completed"
    },
    "tags": []
   },
   "outputs": [],
   "source": [
    "sub = pd.read_csv('./submission.csv')\n",
    "sub"
   ]
  }
 ],
 "metadata": {
  "kernelspec": {
   "display_name": "Python 3",
   "language": "python",
   "name": "python3"
  },
  "language_info": {
   "codemirror_mode": {
    "name": "ipython",
    "version": 3
   },
   "file_extension": ".py",
   "mimetype": "text/x-python",
   "name": "python",
   "nbconvert_exporter": "python",
   "pygments_lexer": "ipython3",
   "version": "3.8.5"
  },
  "varInspector": {
   "cols": {
    "lenName": 16,
    "lenType": 16,
    "lenVar": 40
   },
   "kernels_config": {
    "python": {
     "delete_cmd_postfix": "",
     "delete_cmd_prefix": "del ",
     "library": "var_list.py",
     "varRefreshCmd": "print(var_dic_list())"
    },
    "r": {
     "delete_cmd_postfix": ") ",
     "delete_cmd_prefix": "rm(",
     "library": "var_list.r",
     "varRefreshCmd": "cat(var_dic_list()) "
    }
   },
   "position": {
    "height": "414px",
    "left": "560px",
    "right": "20px",
    "top": "5px",
    "width": "800px"
   },
   "types_to_exclude": [
    "module",
    "function",
    "builtin_function_or_method",
    "instance",
    "_Feature"
   ],
   "window_display": false
  }
 },
 "nbformat": 4,
 "nbformat_minor": 4
}
