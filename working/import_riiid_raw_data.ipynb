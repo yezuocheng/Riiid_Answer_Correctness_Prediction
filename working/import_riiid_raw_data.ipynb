{
 "cells": [
  {
   "cell_type": "code",
   "execution_count": null,
   "metadata": {},
   "outputs": [],
   "source": [
    "!pip3 install kaggle # download kaggle tool\n",
    "!mkdir ~/.kaggle     # make dir ~/.kaggle\n",
    "#***put kaggle.json into ~/.kaggle***\n",
    "!chmod 600 ~/.kaggle/kaggle.json\n",
    "# download data zip\n",
    "!kaggle datasets download -d rohanrao/riiid-train-data-multiple-formats\n",
    "!kaggle competitions download -c riiid-test-answer-prediction\n",
    "# make input dir\n",
    "!mkdir input\n",
    "# move and unzip\n",
    "!mv riiid-train-data-multiple-formats.zip ../input/riiid-train-data-multiple-formats.zip\n",
    "!mkdir input/riiid-train-data-multiple-formats\n",
    "!unzip input/riiid-train-data-multiple-formats.zip -d input/riiid-train-data-multiple-formats\n",
    "!mv riiid-test-answer-prediction.zip input/riiid-test-answer-prediction.zip\n",
    "!mkdir input/riiid-test-answer-prediction\n",
    "!unzip input/riiid-test-answer-prediction.zip -d input/riiid-test-answer-prediction"
   ]
  }
 ],
 "metadata": {
  "kernelspec": {
   "display_name": "Python 3",
   "language": "python",
   "name": "python3"
  },
  "language_info": {
   "codemirror_mode": {
    "name": "ipython",
    "version": 3
   },
   "file_extension": ".py",
   "mimetype": "text/x-python",
   "name": "python",
   "nbconvert_exporter": "python",
   "pygments_lexer": "ipython3",
   "version": "3.8.5"
  }
 },
 "nbformat": 4,
 "nbformat_minor": 4
}
