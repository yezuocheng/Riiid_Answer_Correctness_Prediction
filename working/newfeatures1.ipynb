{
 "cells": [
  {
   "cell_type": "code",
   "execution_count": 1,
   "metadata": {
    "_cell_guid": "79c7e3d0-c299-4dcb-8224-4455121ee9b0",
    "_uuid": "d629ff2d2480ee46fbb7e2d37f6b5fab8052498a",
    "execution": {
     "iopub.execute_input": "2021-01-04T15:19:05.190970Z",
     "iopub.status.busy": "2021-01-04T15:19:05.190129Z",
     "iopub.status.idle": "2021-01-04T15:19:06.431922Z",
     "shell.execute_reply": "2021-01-04T15:19:06.431198Z"
    },
    "papermill": {
     "duration": 1.315768,
     "end_time": "2021-01-04T15:19:06.432066",
     "exception": false,
     "start_time": "2021-01-04T15:19:05.116298",
     "status": "completed"
    },
    "tags": []
   },
   "outputs": [
    {
     "data": {
      "text/html": [
       "<style type='text/css'>\n",
       ".datatable table.frame { margin-bottom: 0; }\n",
       ".datatable table.frame thead { border-bottom: none; }\n",
       ".datatable table.frame tr.coltypes td {  color: #FFFFFF;  line-height: 6px;  padding: 0 0.5em;}\n",
       ".datatable .bool    { background: #DDDD99; }\n",
       ".datatable .object  { background: #565656; }\n",
       ".datatable .int     { background: #5D9E5D; }\n",
       ".datatable .float   { background: #4040CC; }\n",
       ".datatable .str     { background: #CC4040; }\n",
       ".datatable .row_index {  background: var(--jp-border-color3);  border-right: 1px solid var(--jp-border-color0);  color: var(--jp-ui-font-color3);  font-size: 9px;}\n",
       ".datatable .frame tr.coltypes .row_index {  background: var(--jp-border-color0);}\n",
       ".datatable th:nth-child(2) { padding-left: 12px; }\n",
       ".datatable .hellipsis {  color: var(--jp-cell-editor-border-color);}\n",
       ".datatable .vellipsis {  background: var(--jp-layout-color0);  color: var(--jp-cell-editor-border-color);}\n",
       ".datatable .na {  color: var(--jp-cell-editor-border-color);  font-size: 80%;}\n",
       ".datatable .footer { font-size: 9px; }\n",
       ".datatable .frame_dimensions {  background: var(--jp-border-color3);  border-top: 1px solid var(--jp-border-color0);  color: var(--jp-ui-font-color3);  display: inline-block;  opacity: 0.6;  padding: 1px 10px 1px 5px;}\n",
       "</style>\n"
      ],
      "text/plain": [
       "<IPython.core.display.HTML object>"
      ]
     },
     "metadata": {},
     "output_type": "display_data"
    }
   ],
   "source": [
    "import numpy as np\n",
    "import random\n",
    "import pandas as pd\n",
    "import joblib\n",
    "import psutil\n",
    "from collections import defaultdict\n",
    "import datatable as dt\n",
    "import lightgbm as lgb\n",
    "from matplotlib import pyplot as plt\n",
    "# import riiideducation\n",
    "from sklearn.metrics import roc_auc_score\n",
    "import gc\n",
    "\n",
    "_ = np.seterr(divide='ignore', invalid='ignore')"
   ]
  },
  {
   "cell_type": "markdown",
   "metadata": {
    "papermill": {
     "duration": 0.069311,
     "end_time": "2021-01-04T15:19:06.571080",
     "exception": false,
     "start_time": "2021-01-04T15:19:06.501769",
     "status": "completed"
    },
    "tags": []
   },
   "source": [
    "# Preprocess"
   ]
  },
  {
   "cell_type": "code",
   "execution_count": 2,
   "metadata": {
    "execution": {
     "iopub.execute_input": "2021-01-04T15:19:06.724180Z",
     "iopub.status.busy": "2021-01-04T15:19:06.723023Z",
     "iopub.status.idle": "2021-01-04T15:19:06.725894Z",
     "shell.execute_reply": "2021-01-04T15:19:06.726535Z"
    },
    "papermill": {
     "duration": 0.085983,
     "end_time": "2021-01-04T15:19:06.726729",
     "exception": false,
     "start_time": "2021-01-04T15:19:06.640746",
     "status": "completed"
    },
    "tags": []
   },
   "outputs": [],
   "source": [
    "data_types_dict = {\n",
    "    'timestamp': 'int64',\n",
    "    'user_id': 'int32', \n",
    "    'content_id': 'int16', \n",
    "    'content_type_id':'int8', \n",
    "    'task_container_id': 'int16',\n",
    "    #'user_answer': 'int8',\n",
    "    'answered_correctly': 'int8', \n",
    "    'prior_question_elapsed_time': 'float32', \n",
    "    'prior_question_had_explanation': 'bool'\n",
    "}\n",
    "target = 'answered_correctly'"
   ]
  },
  {
   "cell_type": "code",
   "execution_count": 3,
   "metadata": {
    "execution": {
     "iopub.execute_input": "2021-01-04T15:19:06.876380Z",
     "iopub.status.busy": "2021-01-04T15:19:06.875092Z",
     "iopub.status.idle": "2021-01-04T15:20:53.927963Z",
     "shell.execute_reply": "2021-01-04T15:20:53.927280Z"
    },
    "papermill": {
     "duration": 107.12712,
     "end_time": "2021-01-04T15:20:53.928113",
     "exception": false,
     "start_time": "2021-01-04T15:19:06.800993",
     "status": "completed"
    },
    "tags": []
   },
   "outputs": [
    {
     "name": "stdout",
     "output_type": "stream",
     "text": [
      "start read train data...\n"
     ]
    }
   ],
   "source": [
    "print('start read train data...')\n",
    "train_df = dt.fread('../input/riiid-test-answer-prediction/train.csv', columns=set(data_types_dict.keys())).to_pandas()"
   ]
  },
  {
   "cell_type": "code",
   "execution_count": 4,
   "metadata": {
    "execution": {
     "iopub.execute_input": "2021-01-04T15:20:54.066367Z",
     "iopub.status.busy": "2021-01-04T15:20:54.065413Z",
     "iopub.status.idle": "2021-01-04T15:20:54.069220Z",
     "shell.execute_reply": "2021-01-04T15:20:54.068684Z"
    },
    "papermill": {
     "duration": 0.073953,
     "end_time": "2021-01-04T15:20:54.069354",
     "exception": false,
     "start_time": "2021-01-04T15:20:53.995401",
     "status": "completed"
    },
    "tags": []
   },
   "outputs": [],
   "source": [
    "# train_df=train_df.sample(frac=0.1).reset_index(drop=True)"
   ]
  },
  {
   "cell_type": "code",
   "execution_count": 5,
   "metadata": {
    "execution": {
     "iopub.execute_input": "2021-01-04T15:20:54.207005Z",
     "iopub.status.busy": "2021-01-04T15:20:54.206260Z",
     "iopub.status.idle": "2021-01-04T15:20:54.211223Z",
     "shell.execute_reply": "2021-01-04T15:20:54.211840Z"
    },
    "papermill": {
     "duration": 0.075971,
     "end_time": "2021-01-04T15:20:54.211980",
     "exception": false,
     "start_time": "2021-01-04T15:20:54.136009",
     "status": "completed"
    },
    "tags": []
   },
   "outputs": [
    {
     "name": "stdout",
     "output_type": "stream",
     "text": [
      "start handle lecture data...\n"
     ]
    }
   ],
   "source": [
    "print('start handle lecture data...')"
   ]
  },
  {
   "cell_type": "code",
   "execution_count": 6,
   "metadata": {
    "execution": {
     "iopub.execute_input": "2021-01-04T15:20:54.348986Z",
     "iopub.status.busy": "2021-01-04T15:20:54.348279Z",
     "iopub.status.idle": "2021-01-04T15:20:54.368119Z",
     "shell.execute_reply": "2021-01-04T15:20:54.368701Z"
    },
    "papermill": {
     "duration": 0.090541,
     "end_time": "2021-01-04T15:20:54.368860",
     "exception": false,
     "start_time": "2021-01-04T15:20:54.278319",
     "status": "completed"
    },
    "tags": []
   },
   "outputs": [],
   "source": [
    "#reading in lecture df\n",
    "lectures_df = pd.read_csv('../input/riiid-test-answer-prediction/lectures.csv')"
   ]
  },
  {
   "cell_type": "code",
   "execution_count": 7,
   "metadata": {
    "execution": {
     "iopub.execute_input": "2021-01-04T15:20:54.507704Z",
     "iopub.status.busy": "2021-01-04T15:20:54.507036Z",
     "iopub.status.idle": "2021-01-04T15:20:54.542992Z",
     "shell.execute_reply": "2021-01-04T15:20:54.543493Z"
    },
    "papermill": {
     "duration": 0.106998,
     "end_time": "2021-01-04T15:20:54.543674",
     "exception": false,
     "start_time": "2021-01-04T15:20:54.436676",
     "status": "completed"
    },
    "tags": []
   },
   "outputs": [],
   "source": [
    "lectures_df['type_of'] = lectures_df['type_of'].replace('solving question', 'solving_question')\n",
    "\n",
    "lectures_df = pd.get_dummies(lectures_df, columns=['part', 'type_of'])\n",
    "\n",
    "part_lectures_columns = [column for column in lectures_df.columns if column.startswith('part')]\n",
    "\n",
    "types_of_lectures_columns = [column for column in lectures_df.columns if column.startswith('type_of_')]"
   ]
  },
  {
   "cell_type": "code",
   "execution_count": 8,
   "metadata": {
    "execution": {
     "iopub.execute_input": "2021-01-04T15:20:54.683760Z",
     "iopub.status.busy": "2021-01-04T15:20:54.683089Z",
     "iopub.status.idle": "2021-01-04T15:20:56.128981Z",
     "shell.execute_reply": "2021-01-04T15:20:56.128418Z"
    },
    "papermill": {
     "duration": 1.518933,
     "end_time": "2021-01-04T15:20:56.129106",
     "exception": false,
     "start_time": "2021-01-04T15:20:54.610173",
     "status": "completed"
    },
    "tags": []
   },
   "outputs": [],
   "source": [
    "train_lectures = train_df[train_df.content_type_id == True].merge(lectures_df, left_on='content_id', right_on='lecture_id', how='left')"
   ]
  },
  {
   "cell_type": "code",
   "execution_count": 9,
   "metadata": {
    "execution": {
     "iopub.execute_input": "2021-01-04T15:20:56.272454Z",
     "iopub.status.busy": "2021-01-04T15:20:56.271802Z",
     "iopub.status.idle": "2021-01-04T15:20:56.864228Z",
     "shell.execute_reply": "2021-01-04T15:20:56.864801Z"
    },
    "papermill": {
     "duration": 0.668902,
     "end_time": "2021-01-04T15:20:56.864951",
     "exception": false,
     "start_time": "2021-01-04T15:20:56.196049",
     "status": "completed"
    },
    "tags": []
   },
   "outputs": [],
   "source": [
    "user_lecture_stats_part = train_lectures.groupby('user_id',as_index = False)[part_lectures_columns + types_of_lectures_columns].sum()"
   ]
  },
  {
   "cell_type": "code",
   "execution_count": 10,
   "metadata": {
    "execution": {
     "iopub.execute_input": "2021-01-04T15:20:57.008740Z",
     "iopub.status.busy": "2021-01-04T15:20:57.007563Z",
     "iopub.status.idle": "2021-01-04T15:20:57.017799Z",
     "shell.execute_reply": "2021-01-04T15:20:57.018341Z"
    },
    "papermill": {
     "duration": 0.086438,
     "end_time": "2021-01-04T15:20:57.018482",
     "exception": false,
     "start_time": "2021-01-04T15:20:56.932044",
     "status": "completed"
    },
    "tags": []
   },
   "outputs": [],
   "source": [
    "lecturedata_types_dict = {   \n",
    "    'user_id': 'int32', \n",
    "    'part_1': 'int8',\n",
    "    'part_2': 'int8',\n",
    "    'part_3': 'int8',\n",
    "    'part_4': 'int8',\n",
    "    'part_5': 'int8',\n",
    "    'part_6': 'int8',\n",
    "    'part_7': 'int8',\n",
    "    'type_of_concept': 'int8',\n",
    "    'type_of_intention': 'int8',\n",
    "    'type_of_solving_question': 'int8',\n",
    "    'type_of_starter': 'int8'\n",
    "}\n",
    "user_lecture_stats_part = user_lecture_stats_part.astype(lecturedata_types_dict)"
   ]
  },
  {
   "cell_type": "code",
   "execution_count": 11,
   "metadata": {
    "execution": {
     "iopub.execute_input": "2021-01-04T15:20:57.159580Z",
     "iopub.status.busy": "2021-01-04T15:20:57.158517Z",
     "iopub.status.idle": "2021-01-04T15:20:57.172430Z",
     "shell.execute_reply": "2021-01-04T15:20:57.171891Z"
    },
    "papermill": {
     "duration": 0.085339,
     "end_time": "2021-01-04T15:20:57.172557",
     "exception": false,
     "start_time": "2021-01-04T15:20:57.087218",
     "status": "completed"
    },
    "tags": []
   },
   "outputs": [],
   "source": [
    "for column in user_lecture_stats_part.columns:\n",
    "    #bool_column = column + '_boolean'\n",
    "    if(column !='user_id'):\n",
    "        user_lecture_stats_part[column] = (user_lecture_stats_part[column] > 0).astype('int8')"
   ]
  },
  {
   "cell_type": "code",
   "execution_count": 12,
   "metadata": {
    "execution": {
     "iopub.execute_input": "2021-01-04T15:20:57.317776Z",
     "iopub.status.busy": "2021-01-04T15:20:57.317060Z",
     "iopub.status.idle": "2021-01-04T15:20:57.327044Z",
     "shell.execute_reply": "2021-01-04T15:20:57.326429Z"
    },
    "papermill": {
     "duration": 0.082897,
     "end_time": "2021-01-04T15:20:57.327178",
     "exception": false,
     "start_time": "2021-01-04T15:20:57.244281",
     "status": "completed"
    },
    "tags": []
   },
   "outputs": [
    {
     "data": {
      "text/plain": [
       "user_id                     int32\n",
       "part_1                       int8\n",
       "part_2                       int8\n",
       "part_3                       int8\n",
       "part_4                       int8\n",
       "part_5                       int8\n",
       "part_6                       int8\n",
       "part_7                       int8\n",
       "type_of_concept              int8\n",
       "type_of_intention            int8\n",
       "type_of_solving_question     int8\n",
       "type_of_starter              int8\n",
       "dtype: object"
      ]
     },
     "execution_count": 12,
     "metadata": {},
     "output_type": "execute_result"
    }
   ],
   "source": [
    "user_lecture_stats_part.dtypes"
   ]
  },
  {
   "cell_type": "code",
   "execution_count": 13,
   "metadata": {
    "execution": {
     "iopub.execute_input": "2021-01-04T15:20:57.591455Z",
     "iopub.status.busy": "2021-01-04T15:20:57.590535Z",
     "iopub.status.idle": "2021-01-04T15:20:57.596607Z",
     "shell.execute_reply": "2021-01-04T15:20:57.596074Z"
    },
    "papermill": {
     "duration": 0.200352,
     "end_time": "2021-01-04T15:20:57.596742",
     "exception": false,
     "start_time": "2021-01-04T15:20:57.396390",
     "status": "completed"
    },
    "tags": []
   },
   "outputs": [
    {
     "data": {
      "text/plain": [
       "160"
      ]
     },
     "execution_count": 13,
     "metadata": {},
     "output_type": "execute_result"
    }
   ],
   "source": [
    "#clearing memory\n",
    "del(train_lectures)\n",
    "gc.collect()"
   ]
  },
  {
   "cell_type": "code",
   "execution_count": 14,
   "metadata": {
    "execution": {
     "iopub.execute_input": "2021-01-04T15:20:57.742356Z",
     "iopub.status.busy": "2021-01-04T15:20:57.741657Z",
     "iopub.status.idle": "2021-01-04T15:21:02.067399Z",
     "shell.execute_reply": "2021-01-04T15:21:02.066765Z"
    },
    "papermill": {
     "duration": 4.401757,
     "end_time": "2021-01-04T15:21:02.067546",
     "exception": false,
     "start_time": "2021-01-04T15:20:57.665789",
     "status": "completed"
    },
    "tags": []
   },
   "outputs": [],
   "source": [
    "user_lecture_agg = train_df.groupby('user_id')['content_type_id'].agg(['sum', 'count'])\n",
    "user_lecture_agg=user_lecture_agg.astype('int16')"
   ]
  },
  {
   "cell_type": "code",
   "execution_count": 15,
   "metadata": {
    "execution": {
     "iopub.execute_input": "2021-01-04T15:21:02.218468Z",
     "iopub.status.busy": "2021-01-04T15:21:02.217742Z",
     "iopub.status.idle": "2021-01-04T15:21:17.345263Z",
     "shell.execute_reply": "2021-01-04T15:21:17.344583Z"
    },
    "papermill": {
     "duration": 15.207391,
     "end_time": "2021-01-04T15:21:17.345392",
     "exception": false,
     "start_time": "2021-01-04T15:21:02.138001",
     "status": "completed"
    },
    "tags": []
   },
   "outputs": [],
   "source": [
    "\n",
    "#1= if the event was the user watching a lecture.\n",
    "cum = train_df.groupby('user_id')['content_type_id'].agg(['cumsum', 'cumcount'])\n",
    "cum['cumcount']=cum['cumcount']+1\n",
    "train_df['user_interaction_count'] = cum['cumcount'] \n",
    "train_df['user_interaction_timestamp_mean'] = train_df['timestamp']/cum['cumcount'] \n",
    "train_df['user_lecture_sum'] = cum['cumsum'] \n",
    "train_df['user_lecture_lv'] = cum['cumsum'] / cum['cumcount']\n",
    "\n",
    "\n",
    "train_df.user_lecture_lv=train_df.user_lecture_lv.astype('float16')\n",
    "train_df.user_lecture_sum=train_df.user_lecture_sum.astype('int16')\n",
    "train_df.user_interaction_count=train_df.user_interaction_count.astype('int16')\n",
    "train_df['user_interaction_timestamp_mean']=train_df['user_interaction_timestamp_mean']/(1000*3600)\n",
    "train_df.user_interaction_timestamp_mean=train_df.user_interaction_timestamp_mean.astype('float32')\n"
   ]
  },
  {
   "cell_type": "code",
   "execution_count": 16,
   "metadata": {
    "execution": {
     "iopub.execute_input": "2021-01-04T15:21:17.494507Z",
     "iopub.status.busy": "2021-01-04T15:21:17.493658Z",
     "iopub.status.idle": "2021-01-04T15:21:17.497393Z",
     "shell.execute_reply": "2021-01-04T15:21:17.496822Z"
    },
    "papermill": {
     "duration": 0.078511,
     "end_time": "2021-01-04T15:21:17.497524",
     "exception": false,
     "start_time": "2021-01-04T15:21:17.419013",
     "status": "completed"
    },
    "tags": []
   },
   "outputs": [],
   "source": [
    "#pd.options.display.max_rows = 200"
   ]
  },
  {
   "cell_type": "code",
   "execution_count": 17,
   "metadata": {
    "execution": {
     "iopub.execute_input": "2021-01-04T15:21:17.771236Z",
     "iopub.status.busy": "2021-01-04T15:21:17.770503Z",
     "iopub.status.idle": "2021-01-04T15:21:17.776091Z",
     "shell.execute_reply": "2021-01-04T15:21:17.775451Z"
    },
    "papermill": {
     "duration": 0.208423,
     "end_time": "2021-01-04T15:21:17.776201",
     "exception": false,
     "start_time": "2021-01-04T15:21:17.567778",
     "status": "completed"
    },
    "tags": []
   },
   "outputs": [
    {
     "data": {
      "text/plain": [
       "82"
      ]
     },
     "execution_count": 17,
     "metadata": {},
     "output_type": "execute_result"
    }
   ],
   "source": [
    "del cum\n",
    "gc.collect()"
   ]
  },
  {
   "cell_type": "code",
   "execution_count": 18,
   "metadata": {
    "execution": {
     "iopub.execute_input": "2021-01-04T15:21:17.920872Z",
     "iopub.status.busy": "2021-01-04T15:21:17.920004Z",
     "iopub.status.idle": "2021-01-04T15:21:17.925500Z",
     "shell.execute_reply": "2021-01-04T15:21:17.924883Z"
    },
    "papermill": {
     "duration": 0.079913,
     "end_time": "2021-01-04T15:21:17.925636",
     "exception": false,
     "start_time": "2021-01-04T15:21:17.845723",
     "status": "completed"
    },
    "tags": []
   },
   "outputs": [
    {
     "name": "stdout",
     "output_type": "stream",
     "text": [
      "start handle train_df...\n"
     ]
    }
   ],
   "source": [
    "print('start handle train_df...')"
   ]
  },
  {
   "cell_type": "code",
   "execution_count": 19,
   "metadata": {
    "execution": {
     "iopub.execute_input": "2021-01-04T15:21:29.031147Z",
     "iopub.status.busy": "2021-01-04T15:21:29.030102Z",
     "iopub.status.idle": "2021-01-04T15:21:47.103653Z",
     "shell.execute_reply": "2021-01-04T15:21:47.102917Z"
    },
    "papermill": {
     "duration": 29.108104,
     "end_time": "2021-01-04T15:21:47.103810",
     "exception": false,
     "start_time": "2021-01-04T15:21:17.995706",
     "status": "completed"
    },
    "tags": []
   },
   "outputs": [],
   "source": [
    "train_df['prior_question_had_explanation'].fillna(False, inplace=True)\n",
    "train_df = train_df.astype(data_types_dict)\n",
    "train_df = train_df[train_df[target] != -1].reset_index(drop=True)"
   ]
  },
  {
   "cell_type": "code",
   "execution_count": 20,
   "metadata": {
    "execution": {
     "iopub.execute_input": "2021-01-04T15:21:47.775250Z",
     "iopub.status.busy": "2021-01-04T15:21:47.774391Z",
     "iopub.status.idle": "2021-01-04T15:21:53.836707Z",
     "shell.execute_reply": "2021-01-04T15:21:53.837429Z"
    },
    "papermill": {
     "duration": 6.659971,
     "end_time": "2021-01-04T15:21:53.837638",
     "exception": false,
     "start_time": "2021-01-04T15:21:47.177667",
     "status": "completed"
    },
    "tags": []
   },
   "outputs": [],
   "source": [
    "content_explation_agg=train_df[[\"content_id\",\"prior_question_had_explanation\",target]].groupby([\"content_id\",\"prior_question_had_explanation\"])[target].agg(['mean'])"
   ]
  },
  {
   "cell_type": "code",
   "execution_count": 21,
   "metadata": {
    "execution": {
     "iopub.execute_input": "2021-01-04T15:21:53.982931Z",
     "iopub.status.busy": "2021-01-04T15:21:53.981945Z",
     "iopub.status.idle": "2021-01-04T15:21:53.988747Z",
     "shell.execute_reply": "2021-01-04T15:21:53.989202Z"
    },
    "papermill": {
     "duration": 0.080385,
     "end_time": "2021-01-04T15:21:53.989341",
     "exception": false,
     "start_time": "2021-01-04T15:21:53.908956",
     "status": "completed"
    },
    "tags": []
   },
   "outputs": [
    {
     "data": {
      "text/plain": [
       "mean    float64\n",
       "dtype: object"
      ]
     },
     "execution_count": 21,
     "metadata": {},
     "output_type": "execute_result"
    }
   ],
   "source": [
    "content_explation_agg.dtypes"
   ]
  },
  {
   "cell_type": "code",
   "execution_count": 22,
   "metadata": {
    "execution": {
     "iopub.execute_input": "2021-01-04T15:21:54.136478Z",
     "iopub.status.busy": "2021-01-04T15:21:54.135188Z",
     "iopub.status.idle": "2021-01-04T15:21:54.154912Z",
     "shell.execute_reply": "2021-01-04T15:21:54.155575Z"
    },
    "papermill": {
     "duration": 0.094171,
     "end_time": "2021-01-04T15:21:54.155787",
     "exception": false,
     "start_time": "2021-01-04T15:21:54.061616",
     "status": "completed"
    },
    "tags": []
   },
   "outputs": [],
   "source": [
    "content_explation_agg=content_explation_agg.unstack()\n",
    "\n",
    "content_explation_agg=content_explation_agg.reset_index()\n",
    "content_explation_agg.columns = ['content_id', 'content_explation_false_mean','content_explation_true_mean']"
   ]
  },
  {
   "cell_type": "code",
   "execution_count": 23,
   "metadata": {
    "execution": {
     "iopub.execute_input": "2021-01-04T15:21:54.302987Z",
     "iopub.status.busy": "2021-01-04T15:21:54.302340Z",
     "iopub.status.idle": "2021-01-04T15:21:54.310470Z",
     "shell.execute_reply": "2021-01-04T15:21:54.311076Z"
    },
    "papermill": {
     "duration": 0.084051,
     "end_time": "2021-01-04T15:21:54.311238",
     "exception": false,
     "start_time": "2021-01-04T15:21:54.227187",
     "status": "completed"
    },
    "tags": []
   },
   "outputs": [],
   "source": [
    "content_explation_agg.content_id=content_explation_agg.content_id.astype('int16')\n",
    "content_explation_agg.content_explation_false_mean=content_explation_agg.content_explation_false_mean.astype('float16')\n",
    "content_explation_agg.content_explation_true_mean=content_explation_agg.content_explation_true_mean.astype('float16')"
   ]
  },
  {
   "cell_type": "code",
   "execution_count": 24,
   "metadata": {
    "execution": {
     "iopub.execute_input": "2021-01-04T15:21:54.460086Z",
     "iopub.status.busy": "2021-01-04T15:21:54.459179Z",
     "iopub.status.idle": "2021-01-04T15:21:54.463717Z",
     "shell.execute_reply": "2021-01-04T15:21:54.462836Z"
    },
    "papermill": {
     "duration": 0.080091,
     "end_time": "2021-01-04T15:21:54.463866",
     "exception": false,
     "start_time": "2021-01-04T15:21:54.383775",
     "status": "completed"
    },
    "tags": []
   },
   "outputs": [
    {
     "name": "stdout",
     "output_type": "stream",
     "text": [
      "start handle attempt_no...\n"
     ]
    }
   ],
   "source": [
    "print('start handle attempt_no...')"
   ]
  },
  {
   "cell_type": "code",
   "execution_count": 25,
   "metadata": {
    "execution": {
     "iopub.execute_input": "2021-01-04T15:21:54.618737Z",
     "iopub.status.busy": "2021-01-04T15:21:54.617446Z",
     "iopub.status.idle": "2021-01-04T15:23:52.460164Z",
     "shell.execute_reply": "2021-01-04T15:23:52.459459Z"
    },
    "papermill": {
     "duration": 117.922323,
     "end_time": "2021-01-04T15:23:52.460315",
     "exception": false,
     "start_time": "2021-01-04T15:21:54.537992",
     "status": "completed"
    },
    "tags": []
   },
   "outputs": [],
   "source": [
    "train_df[\"attempt_no\"] = 1\n",
    "train_df.attempt_no=train_df.attempt_no.astype('int8')\n",
    "#\n",
    "attempt_no_agg=train_df.groupby([\"user_id\",\"content_id\"])[\"attempt_no\"].agg(['sum']).astype('int8')\n",
    "#attempt_no_agg=attempt_no_agg.astype('int8')\n",
    "train_df[\"attempt_no\"] = train_df[[\"user_id\",\"content_id\",'attempt_no']].groupby([\"user_id\",\"content_id\"])[\"attempt_no\"].cumsum()"
   ]
  },
  {
   "cell_type": "code",
   "execution_count": 26,
   "metadata": {
    "execution": {
     "iopub.execute_input": "2021-01-04T15:23:52.613989Z",
     "iopub.status.busy": "2021-01-04T15:23:52.613239Z",
     "iopub.status.idle": "2021-01-04T15:23:53.019305Z",
     "shell.execute_reply": "2021-01-04T15:23:53.018672Z"
    },
    "papermill": {
     "duration": 0.485223,
     "end_time": "2021-01-04T15:23:53.019437",
     "exception": false,
     "start_time": "2021-01-04T15:23:52.534214",
     "status": "completed"
    },
    "tags": []
   },
   "outputs": [],
   "source": [
    "attempt_no_agg=attempt_no_agg[attempt_no_agg['sum'] >1]"
   ]
  },
  {
   "cell_type": "code",
   "execution_count": 27,
   "metadata": {
    "execution": {
     "iopub.execute_input": "2021-01-04T15:23:53.174293Z",
     "iopub.status.busy": "2021-01-04T15:23:53.173462Z",
     "iopub.status.idle": "2021-01-04T15:23:53.481097Z",
     "shell.execute_reply": "2021-01-04T15:23:53.479547Z"
    },
    "papermill": {
     "duration": 0.389057,
     "end_time": "2021-01-04T15:23:53.481277",
     "exception": false,
     "start_time": "2021-01-04T15:23:53.092220",
     "status": "completed"
    },
    "tags": []
   },
   "outputs": [
    {
     "name": "stdout",
     "output_type": "stream",
     "text": [
      "start handle timestamp...\n"
     ]
    }
   ],
   "source": [
    "print('start handle timestamp...')\n",
    "prior_question_elapsed_time_mean=train_df['prior_question_elapsed_time'].mean()\n",
    "train_df['prior_question_elapsed_time'].fillna(prior_question_elapsed_time_mean, inplace=True)"
   ]
  },
  {
   "cell_type": "code",
   "execution_count": 28,
   "metadata": {
    "execution": {
     "iopub.execute_input": "2021-01-04T15:23:54.858762Z",
     "iopub.status.busy": "2021-01-04T15:23:54.438081Z",
     "iopub.status.idle": "2021-01-04T15:23:56.967934Z",
     "shell.execute_reply": "2021-01-04T15:23:56.967232Z"
    },
    "papermill": {
     "duration": 3.410463,
     "end_time": "2021-01-04T15:23:56.968095",
     "exception": false,
     "start_time": "2021-01-04T15:23:53.557632",
     "status": "completed"
    },
    "tags": []
   },
   "outputs": [],
   "source": [
    "max_timestamp_u = train_df[['user_id','timestamp']].groupby(['user_id']).agg(['max']).reset_index()\n",
    "max_timestamp_u.columns = ['user_id', 'max_time_stamp']\n",
    "max_timestamp_u.user_id=max_timestamp_u.user_id.astype('int32')"
   ]
  },
  {
   "cell_type": "code",
   "execution_count": 29,
   "metadata": {
    "execution": {
     "iopub.execute_input": "2021-01-04T15:23:57.177539Z",
     "iopub.status.busy": "2021-01-04T15:23:57.176395Z",
     "iopub.status.idle": "2021-01-04T15:24:04.825736Z",
     "shell.execute_reply": "2021-01-04T15:24:04.824652Z"
    },
    "papermill": {
     "duration": 7.783142,
     "end_time": "2021-01-04T15:24:04.825884",
     "exception": false,
     "start_time": "2021-01-04T15:23:57.042742",
     "status": "completed"
    },
    "tags": []
   },
   "outputs": [],
   "source": [
    "train_df['lagtime'] = train_df.groupby('user_id')['timestamp'].shift()\n",
    "\n",
    "max_timestamp_u2 = train_df[['user_id','lagtime']].groupby(['user_id']).agg(['max']).reset_index()\n",
    "max_timestamp_u2.columns = ['user_id', 'max_time_stamp2']\n",
    "max_timestamp_u2.user_id=max_timestamp_u2.user_id.astype('int32')"
   ]
  },
  {
   "cell_type": "code",
   "execution_count": 30,
   "metadata": {
    "execution": {
     "iopub.execute_input": "2021-01-04T15:24:04.997268Z",
     "iopub.status.busy": "2021-01-04T15:24:04.995800Z",
     "iopub.status.idle": "2021-01-04T15:24:06.036948Z",
     "shell.execute_reply": "2021-01-04T15:24:06.035629Z"
    },
    "papermill": {
     "duration": 1.137398,
     "end_time": "2021-01-04T15:24:06.037104",
     "exception": false,
     "start_time": "2021-01-04T15:24:04.899706",
     "status": "completed"
    },
    "tags": []
   },
   "outputs": [],
   "source": [
    "train_df['lagtime']=train_df['timestamp']-train_df['lagtime']\n",
    "lagtime_mean=train_df['lagtime'].mean()\n",
    "train_df['lagtime'].fillna(lagtime_mean, inplace=True)"
   ]
  },
  {
   "cell_type": "code",
   "execution_count": 31,
   "metadata": {
    "execution": {
     "iopub.execute_input": "2021-01-04T15:24:06.192903Z",
     "iopub.status.busy": "2021-01-04T15:24:06.191486Z",
     "iopub.status.idle": "2021-01-04T15:24:07.303399Z",
     "shell.execute_reply": "2021-01-04T15:24:07.304357Z"
    },
    "papermill": {
     "duration": 1.193278,
     "end_time": "2021-01-04T15:24:07.304532",
     "exception": false,
     "start_time": "2021-01-04T15:24:06.111254",
     "status": "completed"
    },
    "tags": []
   },
   "outputs": [],
   "source": [
    "train_df['lagtime']=train_df['lagtime']/(1000*3600)\n",
    "train_df.lagtime=train_df.lagtime.astype('float32')"
   ]
  },
  {
   "cell_type": "code",
   "execution_count": 32,
   "metadata": {
    "execution": {
     "iopub.execute_input": "2021-01-04T15:24:07.462002Z",
     "iopub.status.busy": "2021-01-04T15:24:07.460654Z",
     "iopub.status.idle": "2021-01-04T15:24:17.342512Z",
     "shell.execute_reply": "2021-01-04T15:24:17.341623Z"
    },
    "papermill": {
     "duration": 9.963738,
     "end_time": "2021-01-04T15:24:17.342685",
     "exception": false,
     "start_time": "2021-01-04T15:24:07.378947",
     "status": "completed"
    },
    "tags": []
   },
   "outputs": [],
   "source": [
    "train_df['lagtime2'] = train_df.groupby('user_id')['timestamp'].shift(2)\n",
    "\n",
    "max_timestamp_u3 = train_df[['user_id','lagtime2']].groupby(['user_id']).agg(['max']).reset_index()\n",
    "max_timestamp_u3.columns = ['user_id', 'max_time_stamp3']\n",
    "max_timestamp_u3.user_id=max_timestamp_u3.user_id.astype('int32')\n",
    "\n",
    "train_df['lagtime2']=train_df['timestamp']-train_df['lagtime2']\n",
    "lagtime_mean2=train_df['lagtime2'].mean()\n",
    "train_df['lagtime2'].fillna(lagtime_mean2, inplace=True)\n"
   ]
  },
  {
   "cell_type": "code",
   "execution_count": 33,
   "metadata": {
    "execution": {
     "iopub.execute_input": "2021-01-04T15:24:17.510234Z",
     "iopub.status.busy": "2021-01-04T15:24:17.508682Z",
     "iopub.status.idle": "2021-01-04T15:24:18.489706Z",
     "shell.execute_reply": "2021-01-04T15:24:18.488021Z"
    },
    "papermill": {
     "duration": 1.072872,
     "end_time": "2021-01-04T15:24:18.489857",
     "exception": false,
     "start_time": "2021-01-04T15:24:17.416985",
     "status": "completed"
    },
    "tags": []
   },
   "outputs": [],
   "source": [
    "train_df['lagtime2']=train_df['lagtime2']/(1000*3600)\n",
    "train_df.lagtime2=train_df.lagtime2.astype('float32')"
   ]
  },
  {
   "cell_type": "code",
   "execution_count": 34,
   "metadata": {
    "execution": {
     "iopub.execute_input": "2021-01-04T15:24:18.652160Z",
     "iopub.status.busy": "2021-01-04T15:24:18.651366Z",
     "iopub.status.idle": "2021-01-04T15:24:25.038239Z",
     "shell.execute_reply": "2021-01-04T15:24:25.037201Z"
    },
    "papermill": {
     "duration": 6.468516,
     "end_time": "2021-01-04T15:24:25.038381",
     "exception": false,
     "start_time": "2021-01-04T15:24:18.569865",
     "status": "completed"
    },
    "tags": []
   },
   "outputs": [],
   "source": [
    "\n",
    "train_df['lagtime3'] = train_df.groupby('user_id')['timestamp'].shift(3)\n",
    "\n",
    "train_df['lagtime3']=train_df['timestamp']-train_df['lagtime3']\n",
    "lagtime_mean3=train_df['lagtime3'].mean()\n",
    "train_df['lagtime3'].fillna(lagtime_mean3, inplace=True)\n",
    "train_df['lagtime3']=train_df['lagtime3']/(1000*3600)\n",
    "train_df.lagtime3=train_df.lagtime3.astype('float32')"
   ]
  },
  {
   "cell_type": "code",
   "execution_count": 35,
   "metadata": {
    "execution": {
     "iopub.execute_input": "2021-01-04T15:24:25.190758Z",
     "iopub.status.busy": "2021-01-04T15:24:25.190070Z",
     "iopub.status.idle": "2021-01-04T15:24:26.335498Z",
     "shell.execute_reply": "2021-01-04T15:24:26.336053Z"
    },
    "papermill": {
     "duration": 1.223367,
     "end_time": "2021-01-04T15:24:26.336263",
     "exception": false,
     "start_time": "2021-01-04T15:24:25.112896",
     "status": "completed"
    },
    "tags": []
   },
   "outputs": [],
   "source": [
    "train_df['timestamp']=train_df['timestamp']/(1000*3600)\n",
    "#\n",
    "train_df.timestamp=train_df.timestamp.astype('float16')"
   ]
  },
  {
   "cell_type": "code",
   "execution_count": 36,
   "metadata": {
    "execution": {
     "iopub.execute_input": "2021-01-04T15:24:26.490641Z",
     "iopub.status.busy": "2021-01-04T15:24:26.489896Z",
     "iopub.status.idle": "2021-01-04T15:24:34.671844Z",
     "shell.execute_reply": "2021-01-04T15:24:34.671061Z"
    },
    "papermill": {
     "duration": 8.259777,
     "end_time": "2021-01-04T15:24:34.671991",
     "exception": false,
     "start_time": "2021-01-04T15:24:26.412214",
     "status": "completed"
    },
    "tags": []
   },
   "outputs": [],
   "source": [
    "user_prior_question_elapsed_time = train_df[['user_id','prior_question_elapsed_time']].groupby(['user_id']).tail(1)\n",
    "user_prior_question_elapsed_time.columns = ['user_id', 'prior_question_elapsed_time']"
   ]
  },
  {
   "cell_type": "code",
   "execution_count": 37,
   "metadata": {
    "execution": {
     "iopub.execute_input": "2021-01-04T15:24:34.833387Z",
     "iopub.status.busy": "2021-01-04T15:24:34.832655Z",
     "iopub.status.idle": "2021-01-04T15:24:39.857324Z",
     "shell.execute_reply": "2021-01-04T15:24:39.856375Z"
    },
    "papermill": {
     "duration": 5.10962,
     "end_time": "2021-01-04T15:24:39.857484",
     "exception": false,
     "start_time": "2021-01-04T15:24:34.747864",
     "status": "completed"
    },
    "tags": []
   },
   "outputs": [],
   "source": [
    "train_df['question_elapsed_time'] = train_df['prior_question_elapsed_time'].shift(-1)\n",
    "train_df['question_elapsed_time'] = train_df['question_elapsed_time'].astype('float16')\n",
    "train_df['delta_prior_question_elapsed_time'] = train_df.groupby('user_id')['prior_question_elapsed_time'].shift()\n",
    "train_df['delta_prior_question_elapsed_time']=train_df['prior_question_elapsed_time']-train_df['delta_prior_question_elapsed_time']"
   ]
  },
  {
   "cell_type": "code",
   "execution_count": 38,
   "metadata": {
    "execution": {
     "iopub.execute_input": "2021-01-04T15:24:40.014528Z",
     "iopub.status.busy": "2021-01-04T15:24:40.013828Z",
     "iopub.status.idle": "2021-01-04T15:25:20.964132Z",
     "shell.execute_reply": "2021-01-04T15:25:20.964712Z"
    },
    "papermill": {
     "duration": 41.032808,
     "end_time": "2021-01-04T15:25:20.964904",
     "exception": false,
     "start_time": "2021-01-04T15:24:39.932096",
     "status": "completed"
    },
    "tags": []
   },
   "outputs": [
    {
     "data": {
      "text/plain": [
       "40"
      ]
     },
     "execution_count": 38,
     "metadata": {},
     "output_type": "execute_result"
    }
   ],
   "source": [
    "content_elapsed_time_agg=train_df.loc[train_df[target] == 1]\n",
    "content_elapsed_time_agg=content_elapsed_time_agg.groupby('content_id')['question_elapsed_time'].agg(['median','mean','max','min','skew','var'])\n",
    "content_elapsed_time_agg=content_elapsed_time_agg.astype('float16')\n",
    "content_had_explanation_agg=train_df.groupby('content_id')['prior_question_had_explanation'].agg(['mean'])\n",
    "content_had_explanation_agg=content_had_explanation_agg.astype('float16')\n",
    "del train_df['question_elapsed_time']\n",
    "gc.collect()"
   ]
  },
  {
   "cell_type": "code",
   "execution_count": 39,
   "metadata": {
    "execution": {
     "iopub.execute_input": "2021-01-04T15:25:21.122691Z",
     "iopub.status.busy": "2021-01-04T15:25:21.122029Z",
     "iopub.status.idle": "2021-01-04T15:25:22.864446Z",
     "shell.execute_reply": "2021-01-04T15:25:22.863754Z"
    },
    "papermill": {
     "duration": 1.824438,
     "end_time": "2021-01-04T15:25:22.864615",
     "exception": false,
     "start_time": "2021-01-04T15:25:21.040177",
     "status": "completed"
    },
    "tags": []
   },
   "outputs": [],
   "source": [
    "delta_prior_question_elapsed_time_mean=train_df['delta_prior_question_elapsed_time'].mean()\n",
    "train_df['delta_prior_question_elapsed_time'].fillna(delta_prior_question_elapsed_time_mean, inplace=True)\n",
    "train_df.delta_prior_question_elapsed_time=train_df.delta_prior_question_elapsed_time.astype('int32')"
   ]
  },
  {
   "cell_type": "code",
   "execution_count": 40,
   "metadata": {
    "execution": {
     "iopub.execute_input": "2021-01-04T15:25:23.030360Z",
     "iopub.status.busy": "2021-01-04T15:25:23.029544Z",
     "iopub.status.idle": "2021-01-04T15:25:53.582145Z",
     "shell.execute_reply": "2021-01-04T15:25:53.582911Z"
    },
    "papermill": {
     "duration": 30.641742,
     "end_time": "2021-01-04T15:25:53.583106",
     "exception": false,
     "start_time": "2021-01-04T15:25:22.941364",
     "status": "completed"
    },
    "tags": []
   },
   "outputs": [
    {
     "ename": "KeyboardInterrupt",
     "evalue": "",
     "output_type": "error",
     "traceback": [
      "\u001b[0;31m---------------------------------------------------------------------------\u001b[0m",
      "\u001b[0;31mKeyboardInterrupt\u001b[0m                         Traceback (most recent call last)",
      "\u001b[0;32m<ipython-input-40-981f9f7b4076>\u001b[0m in \u001b[0;36m<module>\u001b[0;34m\u001b[0m\n\u001b[1;32m     16\u001b[0m \u001b[0mtrain_df\u001b[0m\u001b[0;34m.\u001b[0m\u001b[0muser_correct_count\u001b[0m\u001b[0;34m=\u001b[0m\u001b[0mtrain_df\u001b[0m\u001b[0;34m.\u001b[0m\u001b[0muser_correct_count\u001b[0m\u001b[0;34m.\u001b[0m\u001b[0mastype\u001b[0m\u001b[0;34m(\u001b[0m\u001b[0;34m'int16'\u001b[0m\u001b[0;34m)\u001b[0m\u001b[0;34m\u001b[0m\u001b[0;34m\u001b[0m\u001b[0m\n\u001b[1;32m     17\u001b[0m \u001b[0mtrain_df\u001b[0m\u001b[0;34m.\u001b[0m\u001b[0muser_uncorrect_count\u001b[0m\u001b[0;34m=\u001b[0m\u001b[0mtrain_df\u001b[0m\u001b[0;34m.\u001b[0m\u001b[0muser_uncorrect_count\u001b[0m\u001b[0;34m.\u001b[0m\u001b[0mastype\u001b[0m\u001b[0;34m(\u001b[0m\u001b[0;34m'int16'\u001b[0m\u001b[0;34m)\u001b[0m\u001b[0;34m\u001b[0m\u001b[0;34m\u001b[0m\u001b[0m\n\u001b[0;32m---> 18\u001b[0;31m \u001b[0mtrain_df\u001b[0m\u001b[0;34m[\u001b[0m\u001b[0;34m'true_user_correctness'\u001b[0m\u001b[0;34m]\u001b[0m \u001b[0;34m=\u001b[0m \u001b[0;34m(\u001b[0m\u001b[0mtrain_df\u001b[0m\u001b[0;34m[\u001b[0m\u001b[0;34m'user_correct_count'\u001b[0m\u001b[0;34m]\u001b[0m\u001b[0;34m+\u001b[0m\u001b[0;36m1\u001b[0m\u001b[0;34m)\u001b[0m\u001b[0;34m/\u001b[0m\u001b[0;34m(\u001b[0m\u001b[0mtrain_df\u001b[0m\u001b[0;34m[\u001b[0m\u001b[0;34m'user_correct_count'\u001b[0m\u001b[0;34m]\u001b[0m\u001b[0;34m/\u001b[0m\u001b[0mtrain_df\u001b[0m\u001b[0;34m[\u001b[0m\u001b[0;34m'user_correctness'\u001b[0m\u001b[0;34m]\u001b[0m \u001b[0;34m+\u001b[0m \u001b[0;36m2\u001b[0m\u001b[0;34m)\u001b[0m\u001b[0;34m\u001b[0m\u001b[0;34m\u001b[0m\u001b[0m\n\u001b[0m\u001b[1;32m     19\u001b[0m \u001b[0mtrain_df\u001b[0m\u001b[0;34m.\u001b[0m\u001b[0mtrue_user_correctness\u001b[0m\u001b[0;34m=\u001b[0m\u001b[0mtrain_df\u001b[0m\u001b[0;34m.\u001b[0m\u001b[0mtrue_user_correctness\u001b[0m\u001b[0;34m.\u001b[0m\u001b[0mastype\u001b[0m\u001b[0;34m(\u001b[0m\u001b[0;34m'float16'\u001b[0m\u001b[0;34m)\u001b[0m\u001b[0;34m\u001b[0m\u001b[0;34m\u001b[0m\u001b[0m\n\u001b[1;32m     20\u001b[0m \u001b[0;31m#train_df.user_answer_count=train_df.user_answer_count.astype('int16')\u001b[0m\u001b[0;34m\u001b[0m\u001b[0;34m\u001b[0m\u001b[0;34m\u001b[0m\u001b[0m\n",
      "\u001b[0;32m~/.local/lib/python3.8/site-packages/pandas/core/ops/common.py\u001b[0m in \u001b[0;36mnew_method\u001b[0;34m(self, other)\u001b[0m\n\u001b[1;32m     63\u001b[0m         \u001b[0mother\u001b[0m \u001b[0;34m=\u001b[0m \u001b[0mitem_from_zerodim\u001b[0m\u001b[0;34m(\u001b[0m\u001b[0mother\u001b[0m\u001b[0;34m)\u001b[0m\u001b[0;34m\u001b[0m\u001b[0;34m\u001b[0m\u001b[0m\n\u001b[1;32m     64\u001b[0m \u001b[0;34m\u001b[0m\u001b[0m\n\u001b[0;32m---> 65\u001b[0;31m         \u001b[0;32mreturn\u001b[0m \u001b[0mmethod\u001b[0m\u001b[0;34m(\u001b[0m\u001b[0mself\u001b[0m\u001b[0;34m,\u001b[0m \u001b[0mother\u001b[0m\u001b[0;34m)\u001b[0m\u001b[0;34m\u001b[0m\u001b[0;34m\u001b[0m\u001b[0m\n\u001b[0m\u001b[1;32m     66\u001b[0m \u001b[0;34m\u001b[0m\u001b[0m\n\u001b[1;32m     67\u001b[0m     \u001b[0;32mreturn\u001b[0m \u001b[0mnew_method\u001b[0m\u001b[0;34m\u001b[0m\u001b[0;34m\u001b[0m\u001b[0m\n",
      "\u001b[0;32m~/.local/lib/python3.8/site-packages/pandas/core/ops/__init__.py\u001b[0m in \u001b[0;36mwrapper\u001b[0;34m(left, right)\u001b[0m\n\u001b[1;32m    341\u001b[0m         \u001b[0mlvalues\u001b[0m \u001b[0;34m=\u001b[0m \u001b[0mextract_array\u001b[0m\u001b[0;34m(\u001b[0m\u001b[0mleft\u001b[0m\u001b[0;34m,\u001b[0m \u001b[0mextract_numpy\u001b[0m\u001b[0;34m=\u001b[0m\u001b[0;32mTrue\u001b[0m\u001b[0;34m)\u001b[0m\u001b[0;34m\u001b[0m\u001b[0;34m\u001b[0m\u001b[0m\n\u001b[1;32m    342\u001b[0m         \u001b[0mrvalues\u001b[0m \u001b[0;34m=\u001b[0m \u001b[0mextract_array\u001b[0m\u001b[0;34m(\u001b[0m\u001b[0mright\u001b[0m\u001b[0;34m,\u001b[0m \u001b[0mextract_numpy\u001b[0m\u001b[0;34m=\u001b[0m\u001b[0;32mTrue\u001b[0m\u001b[0;34m)\u001b[0m\u001b[0;34m\u001b[0m\u001b[0;34m\u001b[0m\u001b[0m\n\u001b[0;32m--> 343\u001b[0;31m         \u001b[0mresult\u001b[0m \u001b[0;34m=\u001b[0m \u001b[0marithmetic_op\u001b[0m\u001b[0;34m(\u001b[0m\u001b[0mlvalues\u001b[0m\u001b[0;34m,\u001b[0m \u001b[0mrvalues\u001b[0m\u001b[0;34m,\u001b[0m \u001b[0mop\u001b[0m\u001b[0;34m)\u001b[0m\u001b[0;34m\u001b[0m\u001b[0;34m\u001b[0m\u001b[0m\n\u001b[0m\u001b[1;32m    344\u001b[0m \u001b[0;34m\u001b[0m\u001b[0m\n\u001b[1;32m    345\u001b[0m         \u001b[0;32mreturn\u001b[0m \u001b[0mleft\u001b[0m\u001b[0;34m.\u001b[0m\u001b[0m_construct_result\u001b[0m\u001b[0;34m(\u001b[0m\u001b[0mresult\u001b[0m\u001b[0;34m,\u001b[0m \u001b[0mname\u001b[0m\u001b[0;34m=\u001b[0m\u001b[0mres_name\u001b[0m\u001b[0;34m)\u001b[0m\u001b[0;34m\u001b[0m\u001b[0;34m\u001b[0m\u001b[0m\n",
      "\u001b[0;32m~/.local/lib/python3.8/site-packages/pandas/core/ops/array_ops.py\u001b[0m in \u001b[0;36marithmetic_op\u001b[0;34m(left, right, op)\u001b[0m\n\u001b[1;32m    188\u001b[0m     \u001b[0;32melse\u001b[0m\u001b[0;34m:\u001b[0m\u001b[0;34m\u001b[0m\u001b[0;34m\u001b[0m\u001b[0m\n\u001b[1;32m    189\u001b[0m         \u001b[0;32mwith\u001b[0m \u001b[0mnp\u001b[0m\u001b[0;34m.\u001b[0m\u001b[0merrstate\u001b[0m\u001b[0;34m(\u001b[0m\u001b[0mall\u001b[0m\u001b[0;34m=\u001b[0m\u001b[0;34m\"ignore\"\u001b[0m\u001b[0;34m)\u001b[0m\u001b[0;34m:\u001b[0m\u001b[0;34m\u001b[0m\u001b[0;34m\u001b[0m\u001b[0m\n\u001b[0;32m--> 190\u001b[0;31m             \u001b[0mres_values\u001b[0m \u001b[0;34m=\u001b[0m \u001b[0mna_arithmetic_op\u001b[0m\u001b[0;34m(\u001b[0m\u001b[0mlvalues\u001b[0m\u001b[0;34m,\u001b[0m \u001b[0mrvalues\u001b[0m\u001b[0;34m,\u001b[0m \u001b[0mop\u001b[0m\u001b[0;34m)\u001b[0m\u001b[0;34m\u001b[0m\u001b[0;34m\u001b[0m\u001b[0m\n\u001b[0m\u001b[1;32m    191\u001b[0m \u001b[0;34m\u001b[0m\u001b[0m\n\u001b[1;32m    192\u001b[0m     \u001b[0;32mreturn\u001b[0m \u001b[0mres_values\u001b[0m\u001b[0;34m\u001b[0m\u001b[0;34m\u001b[0m\u001b[0m\n",
      "\u001b[0;32m~/.local/lib/python3.8/site-packages/pandas/core/ops/array_ops.py\u001b[0m in \u001b[0;36mna_arithmetic_op\u001b[0;34m(left, right, op, is_cmp)\u001b[0m\n\u001b[1;32m    141\u001b[0m \u001b[0;34m\u001b[0m\u001b[0m\n\u001b[1;32m    142\u001b[0m     \u001b[0;32mtry\u001b[0m\u001b[0;34m:\u001b[0m\u001b[0;34m\u001b[0m\u001b[0;34m\u001b[0m\u001b[0m\n\u001b[0;32m--> 143\u001b[0;31m         \u001b[0mresult\u001b[0m \u001b[0;34m=\u001b[0m \u001b[0mexpressions\u001b[0m\u001b[0;34m.\u001b[0m\u001b[0mevaluate\u001b[0m\u001b[0;34m(\u001b[0m\u001b[0mop\u001b[0m\u001b[0;34m,\u001b[0m \u001b[0mleft\u001b[0m\u001b[0;34m,\u001b[0m \u001b[0mright\u001b[0m\u001b[0;34m)\u001b[0m\u001b[0;34m\u001b[0m\u001b[0;34m\u001b[0m\u001b[0m\n\u001b[0m\u001b[1;32m    144\u001b[0m     \u001b[0;32mexcept\u001b[0m \u001b[0mTypeError\u001b[0m\u001b[0;34m:\u001b[0m\u001b[0;34m\u001b[0m\u001b[0;34m\u001b[0m\u001b[0m\n\u001b[1;32m    145\u001b[0m         \u001b[0;32mif\u001b[0m \u001b[0mis_cmp\u001b[0m\u001b[0;34m:\u001b[0m\u001b[0;34m\u001b[0m\u001b[0;34m\u001b[0m\u001b[0m\n",
      "\u001b[0;32m~/.local/lib/python3.8/site-packages/pandas/core/computation/expressions.py\u001b[0m in \u001b[0;36mevaluate\u001b[0;34m(op, a, b, use_numexpr)\u001b[0m\n\u001b[1;32m    231\u001b[0m         \u001b[0muse_numexpr\u001b[0m \u001b[0;34m=\u001b[0m \u001b[0muse_numexpr\u001b[0m \u001b[0;32mand\u001b[0m \u001b[0m_bool_arith_check\u001b[0m\u001b[0;34m(\u001b[0m\u001b[0mop_str\u001b[0m\u001b[0;34m,\u001b[0m \u001b[0ma\u001b[0m\u001b[0;34m,\u001b[0m \u001b[0mb\u001b[0m\u001b[0;34m)\u001b[0m\u001b[0;34m\u001b[0m\u001b[0;34m\u001b[0m\u001b[0m\n\u001b[1;32m    232\u001b[0m         \u001b[0;32mif\u001b[0m \u001b[0muse_numexpr\u001b[0m\u001b[0;34m:\u001b[0m\u001b[0;34m\u001b[0m\u001b[0;34m\u001b[0m\u001b[0m\n\u001b[0;32m--> 233\u001b[0;31m             \u001b[0;32mreturn\u001b[0m \u001b[0m_evaluate\u001b[0m\u001b[0;34m(\u001b[0m\u001b[0mop\u001b[0m\u001b[0;34m,\u001b[0m \u001b[0mop_str\u001b[0m\u001b[0;34m,\u001b[0m \u001b[0ma\u001b[0m\u001b[0;34m,\u001b[0m \u001b[0mb\u001b[0m\u001b[0;34m)\u001b[0m  \u001b[0;31m# type: ignore\u001b[0m\u001b[0;34m\u001b[0m\u001b[0;34m\u001b[0m\u001b[0m\n\u001b[0m\u001b[1;32m    234\u001b[0m     \u001b[0;32mreturn\u001b[0m \u001b[0m_evaluate_standard\u001b[0m\u001b[0;34m(\u001b[0m\u001b[0mop\u001b[0m\u001b[0;34m,\u001b[0m \u001b[0mop_str\u001b[0m\u001b[0;34m,\u001b[0m \u001b[0ma\u001b[0m\u001b[0;34m,\u001b[0m \u001b[0mb\u001b[0m\u001b[0;34m)\u001b[0m\u001b[0;34m\u001b[0m\u001b[0;34m\u001b[0m\u001b[0m\n\u001b[1;32m    235\u001b[0m \u001b[0;34m\u001b[0m\u001b[0m\n",
      "\u001b[0;32m~/.local/lib/python3.8/site-packages/pandas/core/computation/expressions.py\u001b[0m in \u001b[0;36m_evaluate_standard\u001b[0;34m(op, op_str, a, b)\u001b[0m\n\u001b[1;32m     66\u001b[0m         \u001b[0m_store_test_result\u001b[0m\u001b[0;34m(\u001b[0m\u001b[0;32mFalse\u001b[0m\u001b[0;34m)\u001b[0m\u001b[0;34m\u001b[0m\u001b[0;34m\u001b[0m\u001b[0m\n\u001b[1;32m     67\u001b[0m     \u001b[0;32mwith\u001b[0m \u001b[0mnp\u001b[0m\u001b[0;34m.\u001b[0m\u001b[0merrstate\u001b[0m\u001b[0;34m(\u001b[0m\u001b[0mall\u001b[0m\u001b[0;34m=\u001b[0m\u001b[0;34m\"ignore\"\u001b[0m\u001b[0;34m)\u001b[0m\u001b[0;34m:\u001b[0m\u001b[0;34m\u001b[0m\u001b[0;34m\u001b[0m\u001b[0m\n\u001b[0;32m---> 68\u001b[0;31m         \u001b[0;32mreturn\u001b[0m \u001b[0mop\u001b[0m\u001b[0;34m(\u001b[0m\u001b[0ma\u001b[0m\u001b[0;34m,\u001b[0m \u001b[0mb\u001b[0m\u001b[0;34m)\u001b[0m\u001b[0;34m\u001b[0m\u001b[0;34m\u001b[0m\u001b[0m\n\u001b[0m\u001b[1;32m     69\u001b[0m \u001b[0;34m\u001b[0m\u001b[0m\n\u001b[1;32m     70\u001b[0m \u001b[0;34m\u001b[0m\u001b[0m\n",
      "\u001b[0;31mKeyboardInterrupt\u001b[0m: "
     ]
    }
   ],
   "source": [
    "train_df['lag'] = train_df.groupby('user_id')[target].shift()\n",
    "\n",
    "cum = train_df.groupby('user_id')['lag'].agg(['cumsum', 'cumcount'])\n",
    "##cum['cumcount']=cum['cumcount']+1\n",
    "user_agg = train_df.groupby('user_id')['lag'].agg(['sum', 'count']).astype('int16')\n",
    "cum['cumsum'].fillna(0, inplace=True)\n",
    "\n",
    "train_df['user_correctness'] = cum['cumsum'] / cum['cumcount']\n",
    "train_df['user_correct_count'] = cum['cumsum']\n",
    "train_df['user_uncorrect_count'] = cum['cumcount']-cum['cumsum']\n",
    "#train_df['user_answer_count'] = cum['cumcount']\n",
    "train_df.drop(columns=['lag'], inplace=True)\n",
    "train_df['user_correctness'].fillna(0.67, inplace=True)\n",
    "\n",
    "train_df.user_correctness=train_df.user_correctness.astype('float16')\n",
    "train_df.user_correct_count=train_df.user_correct_count.astype('int16')\n",
    "train_df.user_uncorrect_count=train_df.user_uncorrect_count.astype('int16')\n",
    "train_df['true_user_correctness'] = (train_df['user_correct_count']+1)/(train_df['user_correct_count']/train_df['user_correctness'] + 2) \n",
    "train_df.true_user_correctness=train_df.true_user_correctness.astype('float16')\n",
    "#train_df.user_answer_count=train_df.user_answer_count.astype('int16')"
   ]
  },
  {
   "cell_type": "code",
   "execution_count": null,
   "metadata": {
    "execution": {
     "iopub.execute_input": "2021-01-04T15:25:53.828099Z",
     "iopub.status.busy": "2021-01-04T15:25:53.827121Z",
     "iopub.status.idle": "2021-01-04T15:25:53.832002Z",
     "shell.execute_reply": "2021-01-04T15:25:53.832468Z"
    },
    "papermill": {
     "duration": 0.174473,
     "end_time": "2021-01-04T15:25:53.832615",
     "exception": false,
     "start_time": "2021-01-04T15:25:53.658142",
     "status": "completed"
    },
    "tags": []
   },
   "outputs": [],
   "source": [
    "del cum\n",
    "gc.collect()"
   ]
  },
  {
   "cell_type": "code",
   "execution_count": null,
   "metadata": {
    "execution": {
     "iopub.execute_input": "2021-01-04T15:25:53.990328Z",
     "iopub.status.busy": "2021-01-04T15:25:53.989001Z",
     "iopub.status.idle": "2021-01-04T15:25:57.282965Z",
     "shell.execute_reply": "2021-01-04T15:25:57.282269Z"
    },
    "papermill": {
     "duration": 3.375435,
     "end_time": "2021-01-04T15:25:57.283089",
     "exception": false,
     "start_time": "2021-01-04T15:25:53.907654",
     "status": "completed"
    },
    "tags": []
   },
   "outputs": [],
   "source": [
    "train_df.prior_question_had_explanation=train_df.prior_question_had_explanation.astype('int8')\n",
    "explanation_agg = train_df.groupby('user_id')['prior_question_had_explanation'].agg(['sum', 'count'])\n",
    "explanation_agg=explanation_agg.astype('int16')"
   ]
  },
  {
   "cell_type": "code",
   "execution_count": null,
   "metadata": {
    "execution": {
     "iopub.execute_input": "2021-01-04T15:25:57.462455Z",
     "iopub.status.busy": "2021-01-04T15:25:57.461375Z",
     "iopub.status.idle": "2021-01-04T15:26:10.009092Z",
     "shell.execute_reply": "2021-01-04T15:26:10.008529Z"
    },
    "papermill": {
     "duration": 12.646654,
     "end_time": "2021-01-04T15:26:10.009211",
     "exception": false,
     "start_time": "2021-01-04T15:25:57.362557",
     "status": "completed"
    },
    "tags": []
   },
   "outputs": [],
   "source": [
    "cum = train_df.groupby('user_id')['prior_question_had_explanation'].agg(['cumsum', 'cumcount'])\n",
    "cum['cumcount']=cum['cumcount']+1\n",
    "train_df['explanation_mean'] = cum['cumsum'] / cum['cumcount']\n",
    "train_df['explanation_true_count'] = cum['cumsum'] \n",
    "train_df['explanation_false_count'] =  cum['cumcount']-cum['cumsum']\n",
    "\n",
    "train_df.explanation_mean=train_df.explanation_mean.astype('float16')\n",
    "train_df.explanation_true_count=train_df.explanation_true_count.astype('int16')\n",
    "train_df.explanation_false_count=train_df.explanation_false_count.astype('int16')"
   ]
  },
  {
   "cell_type": "code",
   "execution_count": null,
   "metadata": {
    "execution": {
     "iopub.execute_input": "2021-01-04T15:26:10.248057Z",
     "iopub.status.busy": "2021-01-04T15:26:10.247087Z",
     "iopub.status.idle": "2021-01-04T15:26:10.251406Z",
     "shell.execute_reply": "2021-01-04T15:26:10.252040Z"
    },
    "papermill": {
     "duration": 0.167857,
     "end_time": "2021-01-04T15:26:10.252179",
     "exception": false,
     "start_time": "2021-01-04T15:26:10.084322",
     "status": "completed"
    },
    "tags": []
   },
   "outputs": [],
   "source": [
    "del cum\n",
    "gc.collect()"
   ]
  },
  {
   "cell_type": "code",
   "execution_count": null,
   "metadata": {
    "execution": {
     "iopub.execute_input": "2021-01-04T15:26:10.415247Z",
     "iopub.status.busy": "2021-01-04T15:26:10.414237Z",
     "iopub.status.idle": "2021-01-04T15:26:32.454574Z",
     "shell.execute_reply": "2021-01-04T15:26:32.455108Z"
    },
    "papermill": {
     "duration": 22.125909,
     "end_time": "2021-01-04T15:26:32.455290",
     "exception": false,
     "start_time": "2021-01-04T15:26:10.329381",
     "status": "completed"
    },
    "tags": []
   },
   "outputs": [],
   "source": [
    "content_agg = train_df.groupby('content_id')[target].agg(['sum', 'count','var','skew'])\n",
    "task_container_agg = train_df.groupby('task_container_id')[target].agg(['sum', 'count','var'])\n",
    "content_agg=content_agg.astype('float32')\n",
    "task_container_agg=task_container_agg.astype('float32')"
   ]
  },
  {
   "cell_type": "code",
   "execution_count": null,
   "metadata": {
    "execution": {
     "iopub.execute_input": "2021-01-04T15:26:32.613552Z",
     "iopub.status.busy": "2021-01-04T15:26:32.612853Z",
     "iopub.status.idle": "2021-01-04T15:26:38.537952Z",
     "shell.execute_reply": "2021-01-04T15:26:38.537319Z"
    },
    "papermill": {
     "duration": 6.005745,
     "end_time": "2021-01-04T15:26:38.538117",
     "exception": false,
     "start_time": "2021-01-04T15:26:32.532372",
     "status": "completed"
    },
    "tags": []
   },
   "outputs": [],
   "source": [
    "train_df['task_container_uncor_count'] = train_df['task_container_id'].map(task_container_agg['count']-task_container_agg['sum']).astype('int32')\n",
    "train_df['task_container_cor_count'] = train_df['task_container_id'].map(task_container_agg['sum']).astype('int32')\n",
    "train_df['task_container_std'] = train_df['task_container_id'].map(task_container_agg['var']).astype('float16')\n",
    "train_df['task_container_correctness'] = train_df['task_container_id'].map(task_container_agg['sum'] / task_container_agg['count'])\n",
    "train_df.task_container_correctness=train_df.task_container_correctness.astype('float16')"
   ]
  },
  {
   "cell_type": "code",
   "execution_count": null,
   "metadata": {
    "execution": {
     "iopub.execute_input": "2021-01-04T15:26:39.082031Z",
     "iopub.status.busy": "2021-01-04T15:26:39.080938Z",
     "iopub.status.idle": "2021-01-04T15:26:39.087804Z",
     "shell.execute_reply": "2021-01-04T15:26:39.087277Z"
    },
    "papermill": {
     "duration": 0.090037,
     "end_time": "2021-01-04T15:26:39.087923",
     "exception": false,
     "start_time": "2021-01-04T15:26:38.997886",
     "status": "completed"
    },
    "tags": []
   },
   "outputs": [],
   "source": [
    "print('start questions data...')"
   ]
  },
  {
   "cell_type": "code",
   "execution_count": null,
   "metadata": {
    "execution": {
     "iopub.execute_input": "2021-01-04T15:26:39.255916Z",
     "iopub.status.busy": "2021-01-04T15:26:39.255187Z",
     "iopub.status.idle": "2021-01-04T15:26:39.276040Z",
     "shell.execute_reply": "2021-01-04T15:26:39.276608Z"
    },
    "papermill": {
     "duration": 0.109583,
     "end_time": "2021-01-04T15:26:39.276755",
     "exception": false,
     "start_time": "2021-01-04T15:26:39.167172",
     "status": "completed"
    },
    "tags": []
   },
   "outputs": [],
   "source": [
    "questions_df = pd.read_csv(\n",
    "    '../input/riiid-test-answer-prediction/questions.csv', \n",
    "    usecols=[0,1,3,4],\n",
    "    dtype={'question_id': 'int16','bundle_id': 'int16', 'part': 'int8','tags': 'str'}\n",
    ")"
   ]
  },
  {
   "cell_type": "code",
   "execution_count": null,
   "metadata": {
    "execution": {
     "iopub.execute_input": "2021-01-04T15:26:39.440243Z",
     "iopub.status.busy": "2021-01-04T15:26:39.439537Z",
     "iopub.status.idle": "2021-01-04T15:26:39.505291Z",
     "shell.execute_reply": "2021-01-04T15:26:39.505835Z"
    },
    "papermill": {
     "duration": 0.149073,
     "end_time": "2021-01-04T15:26:39.506009",
     "exception": false,
     "start_time": "2021-01-04T15:26:39.356936",
     "status": "completed"
    },
    "tags": []
   },
   "outputs": [],
   "source": [
    "que_fea_merge = pd.read_csv(\n",
    "    '../input/offline-group-by-table/que_fea_merge.csv', \n",
    "    usecols=[0,2,3,4,5,6,7,8,9],\n",
    "    dtype={'content_id': 'int16','question_elapsed_time_mean': 'float16','question_had_explanation_mean': 'float16', 'question_correctly_q_count': 'int16','question_correctly_q_mean': 'float16','tags_lsi': 'float16', 'tag_acc_count': 'float16','tag_acc_max':'float16','tag_acc_min': 'float16'}\n",
    ")\n",
    "part_fea_merge = pd.read_csv(\n",
    "    '../input/offline-group-by-table/part_fea_merge.csv', \n",
    "    usecols=[0,1,2,3],\n",
    "    dtype={'part': 'int8','part_elapsed_time_mean': 'float16','part_had_explanation_mean': 'float16','part_correctly_q_mean':'float16'}\n",
    ")"
   ]
  },
  {
   "cell_type": "code",
   "execution_count": null,
   "metadata": {
    "execution": {
     "iopub.execute_input": "2021-01-04T15:26:39.675801Z",
     "iopub.status.busy": "2021-01-04T15:26:39.675106Z",
     "iopub.status.idle": "2021-01-04T15:26:39.699914Z",
     "shell.execute_reply": "2021-01-04T15:26:39.700786Z"
    },
    "papermill": {
     "duration": 0.116853,
     "end_time": "2021-01-04T15:26:39.700947",
     "exception": false,
     "start_time": "2021-01-04T15:26:39.584094",
     "status": "completed"
    },
    "tags": []
   },
   "outputs": [],
   "source": [
    "questions_cmnts = pd.read_csv(\n",
    "     '../input/riiid-sakt-base/question_cmnts (1).csv', \n",
    "     usecols=[1,2],\n",
    "     dtype={'question_id': 'int16','community': 'int8'}\n",
    " )\n",
    "questions_df = pd.merge(questions_df, questions_cmnts, on='question_id', how='left',right_index=True)#"
   ]
  },
  {
   "cell_type": "code",
   "execution_count": null,
   "metadata": {
    "execution": {
     "iopub.execute_input": "2021-01-04T15:26:39.869424Z",
     "iopub.status.busy": "2021-01-04T15:26:39.868385Z",
     "iopub.status.idle": "2021-01-04T15:26:39.876389Z",
     "shell.execute_reply": "2021-01-04T15:26:39.875737Z"
    },
    "papermill": {
     "duration": 0.096752,
     "end_time": "2021-01-04T15:26:39.876505",
     "exception": false,
     "start_time": "2021-01-04T15:26:39.779753",
     "status": "completed"
    },
    "tags": []
   },
   "outputs": [],
   "source": [
    "questions_df['community'] = questions_df['community']\n",
    "questions_df = pd.get_dummies(questions_df, columns=['community'])\n",
    "part_questions_columns = [column for column in questions_df.columns if column.startswith('community')]"
   ]
  },
  {
   "cell_type": "code",
   "execution_count": null,
   "metadata": {
    "execution": {
     "iopub.execute_input": "2021-01-04T15:26:40.047794Z",
     "iopub.status.busy": "2021-01-04T15:26:40.040095Z",
     "iopub.status.idle": "2021-01-04T15:26:40.051715Z",
     "shell.execute_reply": "2021-01-04T15:26:40.050911Z"
    },
    "papermill": {
     "duration": 0.096563,
     "end_time": "2021-01-04T15:26:40.051852",
     "exception": false,
     "start_time": "2021-01-04T15:26:39.955289",
     "status": "completed"
    },
    "tags": []
   },
   "outputs": [],
   "source": [
    "bundle_agg = questions_df.groupby('bundle_id')['question_id'].agg(['count'])"
   ]
  },
  {
   "cell_type": "code",
   "execution_count": null,
   "metadata": {
    "execution": {
     "iopub.execute_input": "2021-01-04T15:26:40.218116Z",
     "iopub.status.busy": "2021-01-04T15:26:40.216465Z",
     "iopub.status.idle": "2021-01-04T15:26:40.221056Z",
     "shell.execute_reply": "2021-01-04T15:26:40.220335Z"
    },
    "papermill": {
     "duration": 0.089756,
     "end_time": "2021-01-04T15:26:40.221187",
     "exception": false,
     "start_time": "2021-01-04T15:26:40.131431",
     "status": "completed"
    },
    "tags": []
   },
   "outputs": [],
   "source": [
    "questions_df['content_sub_bundle'] = questions_df['bundle_id'].map(bundle_agg['count']).astype('int8')"
   ]
  },
  {
   "cell_type": "code",
   "execution_count": null,
   "metadata": {
    "execution": {
     "iopub.execute_input": "2021-01-04T15:26:40.392328Z",
     "iopub.status.busy": "2021-01-04T15:26:40.391309Z",
     "iopub.status.idle": "2021-01-04T15:26:40.394767Z",
     "shell.execute_reply": "2021-01-04T15:26:40.394169Z"
    },
    "papermill": {
     "duration": 0.093226,
     "end_time": "2021-01-04T15:26:40.394894",
     "exception": false,
     "start_time": "2021-01-04T15:26:40.301668",
     "status": "completed"
    },
    "tags": []
   },
   "outputs": [],
   "source": [
    "questions_df['tags'].fillna('188', inplace=True)"
   ]
  },
  {
   "cell_type": "code",
   "execution_count": null,
   "metadata": {
    "execution": {
     "iopub.execute_input": "2021-01-04T15:26:40.563943Z",
     "iopub.status.busy": "2021-01-04T15:26:40.563076Z",
     "iopub.status.idle": "2021-01-04T15:26:40.566292Z",
     "shell.execute_reply": "2021-01-04T15:26:40.565617Z"
    },
    "papermill": {
     "duration": 0.09035,
     "end_time": "2021-01-04T15:26:40.566420",
     "exception": false,
     "start_time": "2021-01-04T15:26:40.476070",
     "status": "completed"
    },
    "tags": []
   },
   "outputs": [],
   "source": [
    "def gettags(tags,num):\n",
    "    tags_splits=tags.split(\" \")\n",
    "    result='' \n",
    "    for t in tags_splits:\n",
    "        x=int(t)\n",
    "        if(x<32*(num+1) and x>=32*num):#num \n",
    "            result=result+' '+t\n",
    "    return result"
   ]
  },
  {
   "cell_type": "code",
   "execution_count": null,
   "metadata": {
    "execution": {
     "iopub.execute_input": "2021-01-04T15:26:40.775933Z",
     "iopub.status.busy": "2021-01-04T15:26:40.746167Z",
     "iopub.status.idle": "2021-01-04T15:26:41.023119Z",
     "shell.execute_reply": "2021-01-04T15:26:41.022483Z"
    },
    "papermill": {
     "duration": 0.377335,
     "end_time": "2021-01-04T15:26:41.023252",
     "exception": false,
     "start_time": "2021-01-04T15:26:40.645917",
     "status": "completed"
    },
    "tags": []
   },
   "outputs": [],
   "source": [
    "from sklearn.preprocessing import LabelEncoder\n",
    "for num in range(0,6):\n",
    "    questions_df[\"tags\"+str(num)] = questions_df[\"tags\"].apply(lambda row: gettags(row,num))\n",
    "    le = LabelEncoder()\n",
    "    le.fit(np.unique(questions_df['tags'+str(num)].values))\n",
    "    #questions_df[['tags'+str(num)]=\n",
    "    questions_df['tags'+str(num)]=questions_df[['tags'+str(num)]].apply(le.transform)"
   ]
  },
  {
   "cell_type": "code",
   "execution_count": null,
   "metadata": {
    "execution": {
     "iopub.execute_input": "2021-01-04T15:26:41.194922Z",
     "iopub.status.busy": "2021-01-04T15:26:41.193777Z",
     "iopub.status.idle": "2021-01-04T15:26:41.201013Z",
     "shell.execute_reply": "2021-01-04T15:26:41.201689Z"
    },
    "papermill": {
     "duration": 0.097509,
     "end_time": "2021-01-04T15:26:41.201864",
     "exception": false,
     "start_time": "2021-01-04T15:26:41.104355",
     "status": "completed"
    },
    "tags": []
   },
   "outputs": [],
   "source": [
    "questions_df_dict = {   \n",
    "    'tags0': 'int8',\n",
    "    'tags1': 'int8',\n",
    "    'tags2': 'int8',\n",
    "    'tags3': 'int8',\n",
    "    'tags4': 'int8',\n",
    "    'tags5': 'int8',\n",
    "    #'tags6': 'int8',\n",
    "    #'tags7': 'int8'\n",
    "}\n",
    "questions_df = questions_df.astype(questions_df_dict)"
   ]
  },
  {
   "cell_type": "code",
   "execution_count": null,
   "metadata": {
    "execution": {
     "iopub.execute_input": "2021-01-04T15:26:41.381270Z",
     "iopub.status.busy": "2021-01-04T15:26:41.380184Z",
     "iopub.status.idle": "2021-01-04T15:26:41.387861Z",
     "shell.execute_reply": "2021-01-04T15:26:41.388773Z"
    },
    "papermill": {
     "duration": 0.106238,
     "end_time": "2021-01-04T15:26:41.389032",
     "exception": false,
     "start_time": "2021-01-04T15:26:41.282794",
     "status": "completed"
    },
    "tags": []
   },
   "outputs": [],
   "source": [
    "questions_df.drop(columns=['tags'], inplace=True)"
   ]
  },
  {
   "cell_type": "code",
   "execution_count": null,
   "metadata": {
    "execution": {
     "iopub.execute_input": "2021-01-04T15:26:41.577693Z",
     "iopub.status.busy": "2021-01-04T15:26:41.576562Z",
     "iopub.status.idle": "2021-01-04T15:26:41.588911Z",
     "shell.execute_reply": "2021-01-04T15:26:41.588118Z"
    },
    "papermill": {
     "duration": 0.098705,
     "end_time": "2021-01-04T15:26:41.589051",
     "exception": false,
     "start_time": "2021-01-04T15:26:41.490346",
     "status": "completed"
    },
    "tags": []
   },
   "outputs": [],
   "source": [
    "questions_df['part_bundle_id']=questions_df['part']*100000+questions_df['bundle_id']\n",
    "questions_df.part_bundle_id=questions_df.part_bundle_id.astype('int32')"
   ]
  },
  {
   "cell_type": "code",
   "execution_count": null,
   "metadata": {
    "execution": {
     "iopub.execute_input": "2021-01-04T15:26:41.757274Z",
     "iopub.status.busy": "2021-01-04T15:26:41.756206Z",
     "iopub.status.idle": "2021-01-04T15:26:41.760885Z",
     "shell.execute_reply": "2021-01-04T15:26:41.760330Z"
    },
    "papermill": {
     "duration": 0.090834,
     "end_time": "2021-01-04T15:26:41.761021",
     "exception": false,
     "start_time": "2021-01-04T15:26:41.670187",
     "status": "completed"
    },
    "tags": []
   },
   "outputs": [],
   "source": [
    "# questions_cmnts = pd.read_csv(\n",
    "#     '../input/2020-r3id-clustering-question-tags/question_cmnts.csv', \n",
    "#     usecols=[1,2],\n",
    "#     dtype={'question_id': 'int16','community': 'int8'}\n",
    "# )"
   ]
  },
  {
   "cell_type": "code",
   "execution_count": null,
   "metadata": {
    "execution": {
     "iopub.execute_input": "2021-01-04T15:26:41.931913Z",
     "iopub.status.busy": "2021-01-04T15:26:41.930811Z",
     "iopub.status.idle": "2021-01-04T15:26:41.934180Z",
     "shell.execute_reply": "2021-01-04T15:26:41.934690Z"
    },
    "papermill": {
     "duration": 0.091499,
     "end_time": "2021-01-04T15:26:41.934875",
     "exception": false,
     "start_time": "2021-01-04T15:26:41.843376",
     "status": "completed"
    },
    "tags": []
   },
   "outputs": [],
   "source": [
    "# questions_df = pd.merge(questions_df, questions_cmnts, on='question_id', how='left',right_index=True)#"
   ]
  },
  {
   "cell_type": "code",
   "execution_count": null,
   "metadata": {
    "execution": {
     "iopub.execute_input": "2021-01-04T15:26:42.100989Z",
     "iopub.status.busy": "2021-01-04T15:26:42.100301Z",
     "iopub.status.idle": "2021-01-04T15:26:42.103986Z",
     "shell.execute_reply": "2021-01-04T15:26:42.103296Z"
    },
    "papermill": {
     "duration": 0.088887,
     "end_time": "2021-01-04T15:26:42.104107",
     "exception": false,
     "start_time": "2021-01-04T15:26:42.015220",
     "status": "completed"
    },
    "tags": []
   },
   "outputs": [],
   "source": [
    "questions_df.rename(columns={'question_id':'content_id'}, inplace=True)"
   ]
  },
  {
   "cell_type": "code",
   "execution_count": null,
   "metadata": {
    "execution": {
     "iopub.execute_input": "2021-01-04T15:26:42.272293Z",
     "iopub.status.busy": "2021-01-04T15:26:42.271639Z",
     "iopub.status.idle": "2021-01-04T15:26:42.284657Z",
     "shell.execute_reply": "2021-01-04T15:26:42.284052Z"
    },
    "papermill": {
     "duration": 0.101363,
     "end_time": "2021-01-04T15:26:42.284833",
     "exception": false,
     "start_time": "2021-01-04T15:26:42.183470",
     "status": "completed"
    },
    "tags": []
   },
   "outputs": [],
   "source": [
    "questions_df = pd.merge(questions_df, que_fea_merge, on='content_id', how='left',right_index=True)\n",
    "questions_df = pd.merge(questions_df, part_fea_merge, on='part', how='left',right_index=True)"
   ]
  },
  {
   "cell_type": "code",
   "execution_count": null,
   "metadata": {
    "execution": {
     "iopub.execute_input": "2021-01-04T15:26:42.455950Z",
     "iopub.status.busy": "2021-01-04T15:26:42.454992Z",
     "iopub.status.idle": "2021-01-04T15:26:42.463930Z",
     "shell.execute_reply": "2021-01-04T15:26:42.463214Z"
    },
    "papermill": {
     "duration": 0.097956,
     "end_time": "2021-01-04T15:26:42.464073",
     "exception": false,
     "start_time": "2021-01-04T15:26:42.366117",
     "status": "completed"
    },
    "tags": []
   },
   "outputs": [],
   "source": [
    "questions_df = pd.merge(questions_df, content_explation_agg, on='content_id', how='left',right_index=True)#\n",
    "# questions_df.content_explation_false_mean=questions_df.content_explation_false_mean.astype('float16')\n",
    "# questions_df.content_explation_true_mean=questions_df.content_explation_true_mean.astype('float16')"
   ]
  },
  {
   "cell_type": "code",
   "execution_count": null,
   "metadata": {
    "execution": {
     "iopub.execute_input": "2021-01-04T15:26:42.632581Z",
     "iopub.status.busy": "2021-01-04T15:26:42.631901Z",
     "iopub.status.idle": "2021-01-04T15:26:42.635789Z",
     "shell.execute_reply": "2021-01-04T15:26:42.635048Z"
    },
    "papermill": {
     "duration": 0.090391,
     "end_time": "2021-01-04T15:26:42.635930",
     "exception": false,
     "start_time": "2021-01-04T15:26:42.545539",
     "status": "completed"
    },
    "tags": []
   },
   "outputs": [],
   "source": [
    "del content_explation_agg"
   ]
  },
  {
   "cell_type": "code",
   "execution_count": null,
   "metadata": {
    "execution": {
     "iopub.execute_input": "2021-01-04T15:26:42.815533Z",
     "iopub.status.busy": "2021-01-04T15:26:42.814795Z",
     "iopub.status.idle": "2021-01-04T15:26:42.835230Z",
     "shell.execute_reply": "2021-01-04T15:26:42.834650Z"
    },
    "papermill": {
     "duration": 0.118226,
     "end_time": "2021-01-04T15:26:42.835377",
     "exception": false,
     "start_time": "2021-01-04T15:26:42.717151",
     "status": "completed"
    },
    "tags": []
   },
   "outputs": [],
   "source": [
    "questions_df['content_uncorrect_count'] = questions_df['content_id'].map(content_agg['count']-content_agg['sum']).astype('int32')\n",
    "questions_df['content_correct_count'] = questions_df['content_id'].map(content_agg['sum']).astype('int32')\n",
    "questions_df['content_count'] = questions_df['content_id'].map(content_agg['count'])\n",
    "questions_df.content_count=questions_df.content_count.astype('int32')\n",
    "\n",
    "questions_df['content_correctness'] = questions_df['content_id'].map(content_agg['sum'] / content_agg['count'])\n",
    "questions_df.content_correctness=questions_df.content_correctness.astype('float16')\n",
    "\n",
    "questions_df['true_content_correctness'] = (questions_df['content_correct_count']+1)/(questions_df['content_correct_count']/questions_df['content_correctness'] + 2) \n",
    "questions_df.true_content_correctness=questions_df.true_content_correctness.astype('float16')\n",
    "\n",
    "questions_df['content_correctness_skew'] = questions_df['content_id'].map(content_agg['skew'])\n",
    "questions_df.content_correctness_skew=questions_df.content_correctness_skew.astype('float16')\n",
    "\n",
    "questions_df['content_correctness_std'] = questions_df['content_id'].map(content_agg['var'])\n",
    "questions_df.content_correctness_std=questions_df.content_correctness_std.astype('float16')"
   ]
  },
  {
   "cell_type": "code",
   "execution_count": null,
   "metadata": {
    "execution": {
     "iopub.execute_input": "2021-01-04T15:26:43.019414Z",
     "iopub.status.busy": "2021-01-04T15:26:43.014246Z",
     "iopub.status.idle": "2021-01-04T15:26:43.053341Z",
     "shell.execute_reply": "2021-01-04T15:26:43.052772Z"
    },
    "papermill": {
     "duration": 0.136219,
     "end_time": "2021-01-04T15:26:43.053460",
     "exception": false,
     "start_time": "2021-01-04T15:26:42.917241",
     "status": "completed"
    },
    "tags": []
   },
   "outputs": [],
   "source": [
    "questions_df['content_max_time'] = questions_df['content_id'].map(content_elapsed_time_agg['max'])\n",
    "questions_df.content_max_time=questions_df.content_max_time.astype('float16')\n",
    "questions_df['content_min_time'] = questions_df['content_id'].map(content_elapsed_time_agg['min'])\n",
    "questions_df.content_min_time=questions_df.content_min_time.astype('float16')\n",
    "\n",
    "questions_df['content_med_time'] = questions_df['content_id'].map(content_elapsed_time_agg['median'])\n",
    "questions_df.content_med_time=questions_df.content_med_time.astype('float16')\n",
    "questions_df['part_med_time'] = questions_df.groupby('part')['content_med_time'].agg(['mean'])\n",
    "questions_df['part_med_time'] = questions_df['part_med_time'].astype('float16')\n",
    "\n",
    "questions_df['content_time_std'] = questions_df['content_id'].map(content_elapsed_time_agg['var'])\n",
    "questions_df.content_time_std=questions_df.content_time_std.astype('float16')\n",
    "questions_df['part_time_std'] = questions_df.groupby('part')['content_time_std'].agg(['mean'])\n",
    "questions_df['part_time_std'] = questions_df['part_time_std'].astype('float16')\n",
    "\n",
    "questions_df['content_time_skew'] = questions_df['content_id'].map(content_elapsed_time_agg['skew'])\n",
    "questions_df.content_time_skew=questions_df.content_time_skew.astype('float16')\n",
    "questions_df['part_time_skew'] = questions_df.groupby('part')['content_time_skew'].agg(['mean'])\n",
    "questions_df['part_time_skew'] = questions_df['part_time_skew'].astype('float16')\n",
    "\n",
    "questions_df['content_mean_time'] = questions_df['content_id'].map(content_elapsed_time_agg['mean'])\n",
    "questions_df['content_mean_time'] = questions_df['content_mean_time'].astype('float16')\n",
    "questions_df['part_mean_time'] = questions_df.groupby('part')['content_mean_time'].agg(['mean'])\n",
    "questions_df['part_mean_time'] = questions_df['part_mean_time'].astype('float16')\n",
    "\n",
    "questions_df['mean_time_standard'] = questions_df['content_mean_time']/questions_df['part_mean_time']\n",
    "questions_df['mean_time_standard'] = questions_df['mean_time_standard'].astype('float16')\n",
    "\n",
    "questions_df['content_time_range'] = questions_df['content_max_time']-questions_df['content_min_time']\n",
    "questions_df.content_time_range=questions_df.content_time_range.astype('float16')\n",
    "\n",
    "questions_df['content_had_explanation_mean'] = questions_df['content_id'].map(content_had_explanation_agg['mean'])\n",
    "questions_df.content_had_explanation_mean=questions_df.content_had_explanation_mean.astype('float16')"
   ]
  },
  {
   "cell_type": "code",
   "execution_count": null,
   "metadata": {
    "execution": {
     "iopub.execute_input": "2021-01-04T15:26:43.297547Z",
     "iopub.status.busy": "2021-01-04T15:26:43.295650Z",
     "iopub.status.idle": "2021-01-04T15:26:43.302756Z",
     "shell.execute_reply": "2021-01-04T15:26:43.302122Z"
    },
    "papermill": {
     "duration": 0.168974,
     "end_time": "2021-01-04T15:26:43.302869",
     "exception": false,
     "start_time": "2021-01-04T15:26:43.133895",
     "status": "completed"
    },
    "tags": []
   },
   "outputs": [],
   "source": [
    "del content_elapsed_time_agg\n",
    "del content_had_explanation_agg\n",
    "gc.collect()"
   ]
  },
  {
   "cell_type": "code",
   "execution_count": null,
   "metadata": {
    "execution": {
     "iopub.execute_input": "2021-01-04T15:26:43.475822Z",
     "iopub.status.busy": "2021-01-04T15:26:43.475123Z",
     "iopub.status.idle": "2021-01-04T15:26:43.485746Z",
     "shell.execute_reply": "2021-01-04T15:26:43.485070Z"
    },
    "papermill": {
     "duration": 0.101854,
     "end_time": "2021-01-04T15:26:43.485863",
     "exception": false,
     "start_time": "2021-01-04T15:26:43.384009",
     "status": "completed"
    },
    "tags": []
   },
   "outputs": [],
   "source": [
    "part_agg = questions_df.groupby('part')['content_correctness'].agg(['mean', 'var'])\n",
    "questions_df['part_correctness_mean'] = questions_df['part'].map(part_agg['mean'])\n",
    "questions_df['part_correctness_std'] = questions_df['part'].map(part_agg['var'])\n",
    "questions_df.part_correctness_mean=questions_df.part_correctness_mean.astype('float16')\n",
    "questions_df.part_correctness_std=questions_df.part_correctness_std.astype('float16')"
   ]
  },
  {
   "cell_type": "code",
   "execution_count": null,
   "metadata": {
    "execution": {
     "iopub.execute_input": "2021-01-04T15:26:43.659265Z",
     "iopub.status.busy": "2021-01-04T15:26:43.658115Z",
     "iopub.status.idle": "2021-01-04T15:26:43.676560Z",
     "shell.execute_reply": "2021-01-04T15:26:43.675827Z"
    },
    "papermill": {
     "duration": 0.109803,
     "end_time": "2021-01-04T15:26:43.676698",
     "exception": false,
     "start_time": "2021-01-04T15:26:43.566895",
     "status": "completed"
    },
    "tags": []
   },
   "outputs": [],
   "source": [
    "part_agg = questions_df.groupby('part')['content_uncorrect_count'].agg(['sum'])\n",
    "questions_df['part_uncor_count'] = questions_df['part'].map(part_agg['sum']).astype('int32')\n",
    "#\n",
    "part_agg = questions_df.groupby('part')['content_correct_count'].agg(['sum'])\n",
    "questions_df['part_cor_count'] = questions_df['part'].map(part_agg['sum']).astype('int32')"
   ]
  },
  {
   "cell_type": "code",
   "execution_count": null,
   "metadata": {
    "execution": {
     "iopub.execute_input": "2021-01-04T15:26:43.851414Z",
     "iopub.status.busy": "2021-01-04T15:26:43.850273Z",
     "iopub.status.idle": "2021-01-04T15:26:43.863030Z",
     "shell.execute_reply": "2021-01-04T15:26:43.862319Z"
    },
    "papermill": {
     "duration": 0.102962,
     "end_time": "2021-01-04T15:26:43.863153",
     "exception": false,
     "start_time": "2021-01-04T15:26:43.760191",
     "status": "completed"
    },
    "tags": []
   },
   "outputs": [],
   "source": [
    "bundle_agg = questions_df.groupby('bundle_id')['content_correctness'].agg(['mean'])\n",
    "questions_df['bundle_correctness_mean'] = questions_df['bundle_id'].map(bundle_agg['mean'])\n",
    "questions_df.bundle_correctness_mean=questions_df.bundle_correctness_mean.astype('float16')"
   ]
  },
  {
   "cell_type": "code",
   "execution_count": null,
   "metadata": {
    "execution": {
     "iopub.execute_input": "2021-01-04T15:26:44.062800Z",
     "iopub.status.busy": "2021-01-04T15:26:44.057295Z",
     "iopub.status.idle": "2021-01-04T15:26:44.363320Z",
     "shell.execute_reply": "2021-01-04T15:26:44.362632Z"
    },
    "papermill": {
     "duration": 0.416519,
     "end_time": "2021-01-04T15:26:44.363440",
     "exception": false,
     "start_time": "2021-01-04T15:26:43.946921",
     "status": "completed"
    },
    "tags": []
   },
   "outputs": [],
   "source": [
    "tags1_agg = questions_df.groupby('tags0')['mean_time_standard'].agg(['skew'])\n",
    "questions_df['tags0_mean_time'] = questions_df['tags0'].map(tags1_agg['skew'])\n",
    "questions_df.tags0_mean_time=questions_df.tags0_mean_time.astype('float16')\n",
    "tags1_agg = questions_df.groupby('tags0')['mean_time_standard'].agg(['var'])\n",
    "questions_df['tags0_med_time'] = questions_df['tags0'].map(tags1_agg['var'])\n",
    "questions_df.tags0_med_time=questions_df.tags0_med_time.astype('float16')\n",
    "\n",
    "tags1_agg = questions_df.groupby('tags0')['content_correctness'].agg(['mean'])\n",
    "questions_df['tags0_correctness_mean'] = questions_df['tags0'].map(tags1_agg['mean'])\n",
    "questions_df.tags0_correctness_mean=questions_df.tags0_correctness_mean.astype('float16')\n",
    "tags1_agg = questions_df.groupby('tags0')['content_correctness'].agg(['skew'])\n",
    "questions_df['tags0_correctness_skew'] = questions_df['tags0'].map(tags1_agg['skew'])\n",
    "questions_df.tags0_correctness_skew=questions_df.tags0_correctness_skew.astype('float16')\n",
    "tags1_agg = questions_df.groupby('tags0')['content_correctness'].agg(['var'])\n",
    "questions_df['tags0_correctness_var'] = questions_df['tags0'].map(tags1_agg['var'])\n",
    "questions_df.tags0_correctness_var=questions_df.tags0_correctness_var.astype('float16')\n",
    "\n",
    "\n",
    "tags1_agg = questions_df.groupby('tags1')['mean_time_standard'].agg(['skew'])\n",
    "questions_df['tags1_mean_time'] = questions_df['tags1'].map(tags1_agg['skew'])\n",
    "questions_df.tags1_mean_time=questions_df.tags1_mean_time.astype('float16')\n",
    "tags1_agg = questions_df.groupby('tags1')['mean_time_standard'].agg(['var'])\n",
    "questions_df['tags1_med_time'] = questions_df['tags1'].map(tags1_agg['var'])\n",
    "questions_df.tags1_med_time=questions_df.tags1_med_time.astype('float16')\n",
    "\n",
    "tags1_agg = questions_df.groupby('tags1')['content_correctness'].agg(['mean'])\n",
    "questions_df['tags1_correctness_mean'] = questions_df['tags1'].map(tags1_agg['mean'])\n",
    "questions_df.tags1_correctness_mean=questions_df.tags1_correctness_mean.astype('float16')\n",
    "tags1_agg = questions_df.groupby('tags1')['content_correctness'].agg(['skew'])\n",
    "questions_df['tags1_correctness_skew'] = questions_df['tags1'].map(tags1_agg['skew'])\n",
    "questions_df.tags1_correctness_skew=questions_df.tags1_correctness_skew.astype('float16')\n",
    "tags1_agg = questions_df.groupby('tags1')['content_correctness'].agg(['var'])\n",
    "questions_df['tags1_correctness_var'] = questions_df['tags1'].map(tags1_agg['var'])\n",
    "questions_df.tags1_correctness_var=questions_df.tags1_correctness_var.astype('float16')\n",
    "\n",
    "\n",
    "tags1_agg = questions_df.groupby('tags2')['mean_time_standard'].agg(['skew'])\n",
    "questions_df['tags2_mean_time'] = questions_df['tags2'].map(tags1_agg['skew'])\n",
    "questions_df.tags2_mean_time=questions_df.tags2_mean_time.astype('float16')\n",
    "tags1_agg = questions_df.groupby('tags2')['mean_time_standard'].agg(['var'])\n",
    "questions_df['tags2_med_time'] = questions_df['tags2'].map(tags1_agg['var'])\n",
    "questions_df.tags2_med_time=questions_df.tags2_med_time.astype('float16')\n",
    "\n",
    "tags1_agg = questions_df.groupby('tags2')['content_correctness'].agg(['mean'])\n",
    "questions_df['tags2_correctness_mean'] = questions_df['tags2'].map(tags1_agg['mean'])\n",
    "questions_df.tags2_correctness_mean=questions_df.tags2_correctness_mean.astype('float16')\n",
    "tags1_agg = questions_df.groupby('tags2')['content_correctness'].agg(['skew'])\n",
    "questions_df['tags2_correctness_skew'] = questions_df['tags2'].map(tags1_agg['skew'])\n",
    "questions_df.tags2_correctness_skew=questions_df.tags2_correctness_skew.astype('float16')\n",
    "tags1_agg = questions_df.groupby('tags2')['content_correctness'].agg(['var'])\n",
    "questions_df['tags2_correctness_var'] = questions_df['tags2'].map(tags1_agg['var'])\n",
    "questions_df.tags2_correctness_var=questions_df.tags2_correctness_var.astype('float16')\n",
    "\n",
    "\n",
    "tags1_agg = questions_df.groupby('tags3')['mean_time_standard'].agg(['skew'])\n",
    "questions_df['tags3_mean_time'] = questions_df['tags3'].map(tags1_agg['skew'])\n",
    "questions_df.tags3_mean_time=questions_df.tags3_mean_time.astype('float16')\n",
    "tags1_agg = questions_df.groupby('tags3')['mean_time_standard'].agg(['var'])\n",
    "questions_df['tags3_med_time'] = questions_df['tags3'].map(tags1_agg['var'])\n",
    "questions_df.tags3_med_time=questions_df.tags3_med_time.astype('float16')\n",
    "\n",
    "tags1_agg = questions_df.groupby('tags3')['content_correctness'].agg(['mean'])\n",
    "questions_df['tags3_correctness_mean'] = questions_df['tags3'].map(tags1_agg['mean'])\n",
    "questions_df.tags3_correctness_mean=questions_df.tags3_correctness_mean.astype('float16')\n",
    "tags1_agg = questions_df.groupby('tags3')['content_correctness'].agg(['skew'])\n",
    "questions_df['tags3_correctness_skew'] = questions_df['tags3'].map(tags1_agg['skew'])\n",
    "questions_df.tags3_correctness_skew=questions_df.tags3_correctness_skew.astype('float16')\n",
    "tags1_agg = questions_df.groupby('tags3')['content_correctness'].agg(['var'])\n",
    "questions_df['tags3_correctness_var'] = questions_df['tags3'].map(tags1_agg['var'])\n",
    "questions_df.tags3_correctness_var=questions_df.tags3_correctness_var.astype('float16')\n",
    "\n",
    "\n",
    "tags1_agg = questions_df.groupby('tags4')['mean_time_standard'].agg(['skew'])\n",
    "questions_df['tags4_mean_time'] = questions_df['tags4'].map(tags1_agg['skew'])\n",
    "questions_df.tags4_mean_time=questions_df.tags4_mean_time.astype('float16')\n",
    "tags1_agg = questions_df.groupby('tags4')['mean_time_standard'].agg(['var'])\n",
    "questions_df['tags4_med_time'] = questions_df['tags4'].map(tags1_agg['var'])\n",
    "questions_df.tags4_med_time=questions_df.tags4_med_time.astype('float16')\n",
    "\n",
    "tags1_agg = questions_df.groupby('tags4')['content_correctness'].agg(['mean'])\n",
    "questions_df['tags4_correctness_mean'] = questions_df['tags4'].map(tags1_agg['mean'])\n",
    "questions_df.tags4_correctness_mean=questions_df.tags4_correctness_mean.astype('float16')\n",
    "tags1_agg = questions_df.groupby('tags4')['content_correctness'].agg(['skew'])\n",
    "questions_df['tags4_correctness_skew'] = questions_df['tags4'].map(tags1_agg['skew'])\n",
    "questions_df.tags4_correctness_skew=questions_df.tags4_correctness_skew.astype('float16')\n",
    "tags1_agg = questions_df.groupby('tags4')['content_correctness'].agg(['var'])\n",
    "questions_df['tags4_correctness_var'] = questions_df['tags4'].map(tags1_agg['var'])\n",
    "questions_df.tags4_correctness_var=questions_df.tags4_correctness_var.astype('float16')\n",
    "\n",
    "\n",
    "tags1_agg = questions_df.groupby('tags5')['mean_time_standard'].agg(['skew'])\n",
    "questions_df['tags5_mean_time'] = questions_df['tags5'].map(tags1_agg['skew'])\n",
    "questions_df.tags5_mean_time=questions_df.tags5_mean_time.astype('float16')\n",
    "tags1_agg = questions_df.groupby('tags5')['mean_time_standard'].agg(['var'])\n",
    "questions_df['tags5_med_time'] = questions_df['tags5'].map(tags1_agg['var'])\n",
    "questions_df.tags5_med_time=questions_df.tags5_med_time.astype('float16')\n",
    "\n",
    "tags1_agg = questions_df.groupby('tags5')['content_correctness'].agg(['mean'])\n",
    "questions_df['tags5_correctness_mean'] = questions_df['tags5'].map(tags1_agg['mean'])\n",
    "questions_df.tags5_correctness_mean=questions_df.tags5_correctness_mean.astype('float16')\n",
    "tags1_agg = questions_df.groupby('tags5')['content_correctness'].agg(['skew'])\n",
    "questions_df['tags5_correctness_skew'] = questions_df['tags5'].map(tags1_agg['skew'])\n",
    "questions_df.tags5_correctness_skew=questions_df.tags5_correctness_skew.astype('float16')\n",
    "tags1_agg = questions_df.groupby('tags5')['content_correctness'].agg(['var'])\n",
    "questions_df['tags5_correctness_var'] = questions_df['tags5'].map(tags1_agg['var'])\n",
    "questions_df.tags5_correctness_var=questions_df.tags5_correctness_var.astype('float16')"
   ]
  },
  {
   "cell_type": "code",
   "execution_count": null,
   "metadata": {
    "execution": {
     "iopub.execute_input": "2021-01-04T15:26:44.538238Z",
     "iopub.status.busy": "2021-01-04T15:26:44.537238Z",
     "iopub.status.idle": "2021-01-04T15:26:44.542749Z",
     "shell.execute_reply": "2021-01-04T15:26:44.542170Z"
    },
    "papermill": {
     "duration": 0.097477,
     "end_time": "2021-01-04T15:26:44.542875",
     "exception": false,
     "start_time": "2021-01-04T15:26:44.445398",
     "status": "completed"
    },
    "scrolled": false,
    "tags": []
   },
   "outputs": [],
   "source": [
    "questions_df.dtypes"
   ]
  },
  {
   "cell_type": "code",
   "execution_count": null,
   "metadata": {
    "execution": {
     "iopub.execute_input": "2021-01-04T15:26:44.791087Z",
     "iopub.status.busy": "2021-01-04T15:26:44.790292Z",
     "iopub.status.idle": "2021-01-04T15:26:44.796239Z",
     "shell.execute_reply": "2021-01-04T15:26:44.795720Z"
    },
    "papermill": {
     "duration": 0.17093,
     "end_time": "2021-01-04T15:26:44.796374",
     "exception": false,
     "start_time": "2021-01-04T15:26:44.625444",
     "status": "completed"
    },
    "tags": []
   },
   "outputs": [],
   "source": [
    "del content_agg\n",
    "del bundle_agg\n",
    "del part_agg\n",
    "del tags1_agg\n",
    "gc.collect()"
   ]
  },
  {
   "cell_type": "code",
   "execution_count": null,
   "metadata": {
    "execution": {
     "iopub.execute_input": "2021-01-04T15:26:44.968235Z",
     "iopub.status.busy": "2021-01-04T15:26:44.967379Z",
     "iopub.status.idle": "2021-01-04T15:26:44.971457Z",
     "shell.execute_reply": "2021-01-04T15:26:44.970862Z"
    },
    "papermill": {
     "duration": 0.091933,
     "end_time": "2021-01-04T15:26:44.971621",
     "exception": false,
     "start_time": "2021-01-04T15:26:44.879688",
     "status": "completed"
    },
    "tags": []
   },
   "outputs": [],
   "source": [
    "#pd.set_option(\"display.max_columns\",500)"
   ]
  },
  {
   "cell_type": "code",
   "execution_count": null,
   "metadata": {
    "execution": {
     "iopub.execute_input": "2021-01-04T15:26:45.144473Z",
     "iopub.status.busy": "2021-01-04T15:26:45.143362Z",
     "iopub.status.idle": "2021-01-04T15:26:45.146890Z",
     "shell.execute_reply": "2021-01-04T15:26:45.146337Z"
    },
    "papermill": {
     "duration": 0.09154,
     "end_time": "2021-01-04T15:26:45.147003",
     "exception": false,
     "start_time": "2021-01-04T15:26:45.055463",
     "status": "completed"
    },
    "tags": []
   },
   "outputs": [],
   "source": [
    "#questions_df.drop(columns=['tags4','tags5','tags6'], inplace=True)"
   ]
  },
  {
   "cell_type": "code",
   "execution_count": null,
   "metadata": {
    "execution": {
     "iopub.execute_input": "2021-01-04T15:26:45.323572Z",
     "iopub.status.busy": "2021-01-04T15:26:45.322890Z",
     "iopub.status.idle": "2021-01-04T15:26:45.328339Z",
     "shell.execute_reply": "2021-01-04T15:26:45.329251Z"
    },
    "papermill": {
     "duration": 0.09788,
     "end_time": "2021-01-04T15:26:45.329461",
     "exception": false,
     "start_time": "2021-01-04T15:26:45.231581",
     "status": "completed"
    },
    "tags": []
   },
   "outputs": [],
   "source": [
    "len(train_df)"
   ]
  },
  {
   "cell_type": "code",
   "execution_count": null,
   "metadata": {
    "execution": {
     "iopub.execute_input": "2021-01-04T15:26:45.506903Z",
     "iopub.status.busy": "2021-01-04T15:26:45.506213Z",
     "iopub.status.idle": "2021-01-04T15:26:45.509783Z",
     "shell.execute_reply": "2021-01-04T15:26:45.510323Z"
    },
    "papermill": {
     "duration": 0.093553,
     "end_time": "2021-01-04T15:26:45.510489",
     "exception": false,
     "start_time": "2021-01-04T15:26:45.416936",
     "status": "completed"
    },
    "tags": []
   },
   "outputs": [],
   "source": [
    "#train_df.drop(columns=['content_type_id'], inplace=True)"
   ]
  },
  {
   "cell_type": "markdown",
   "metadata": {
    "papermill": {
     "duration": 0.084058,
     "end_time": "2021-01-04T15:26:45.679157",
     "exception": false,
     "start_time": "2021-01-04T15:26:45.595099",
     "status": "completed"
    },
    "tags": []
   },
   "source": [
    "# Train"
   ]
  },
  {
   "cell_type": "code",
   "execution_count": null,
   "metadata": {
    "execution": {
     "iopub.execute_input": "2021-01-04T15:26:45.852168Z",
     "iopub.status.busy": "2021-01-04T15:26:45.851384Z",
     "iopub.status.idle": "2021-01-04T15:26:45.871407Z",
     "shell.execute_reply": "2021-01-04T15:26:45.871931Z"
    },
    "papermill": {
     "duration": 0.107675,
     "end_time": "2021-01-04T15:26:45.872106",
     "exception": false,
     "start_time": "2021-01-04T15:26:45.764431",
     "status": "completed"
    },
    "tags": []
   },
   "outputs": [],
   "source": [
    "features_dict = {\n",
    "    #'user_id',\n",
    "    #'timestamp':'float16',#\n",
    "    'user_interaction_count':'int16',\n",
    "    'user_interaction_timestamp_mean':'float32',\n",
    "    'lagtime':'float32',#\n",
    "    'lagtime2':'float32',\n",
    "    'lagtime3':'float32',\n",
    "    #'lagtime_mean':'int32',\n",
    "    #'content_id':'int16',\n",
    "    #'task_container_id':'int16',\n",
    "    'user_lecture_sum':'int16',#\n",
    "    'user_lecture_lv':'float16',##\n",
    "    'prior_question_elapsed_time':'float32',#\n",
    "    #'delta_prior_question_elapsed_time':'int32',#\n",
    "    'user_correctness':'float16',#\n",
    "    'true_user_correctness':'float16',\n",
    "    'user_uncorrect_count':'int16',#\n",
    "    'user_correct_count':'int16',#\n",
    "    'content_correctness':'float16',\n",
    "    'true_content_correctness':'float16',\n",
    "    'content_correctness_std':'float16',\n",
    "    'content_count':'int32',\n",
    "    'content_correct_count':'int32',\n",
    "    'content_uncorrect_count':'int32',#\n",
    "    'content_correctness_skew':'float16',\n",
    "    #'content_time_std':'float16',\n",
    "    #'part_time_std':'float16',\n",
    "    #'content_time_skew':'float16',\n",
    "    #'part_time_skew':'float16',\n",
    "    'content_mean_time':'float16',\n",
    "    'part_mean_time':'float16',\n",
    "    'mean_time_standard':'float16',\n",
    "    'content_med_time':'float16',\n",
    "    'part_med_time':'float16',\n",
    "    'content_time_range':'float16',\n",
    "    #'content_elapsed_time_mean':'float16',\n",
    "    'content_had_explanation_mean':'float16',\n",
    "    'content_explation_false_mean':'float16',\n",
    "    'content_explation_true_mean':'float16',\n",
    "    'task_container_correctness':'float16',\n",
    "    #'task_container_std':'float16',\n",
    "    'task_container_cor_count':'int32',#\n",
    "    'task_container_uncor_count':'int32',#\n",
    "    'attempt_no':'int8',#\n",
    "    #'part':'int8',\n",
    "    'part_correctness_mean':'float16',\n",
    "    'part_correctness_std':'float16',\n",
    "    'part_uncor_count':'int32',\n",
    "    'part_cor_count':'int32',\n",
    "    #'tags0': 'int8',\n",
    "    #'tags1': 'int8',\n",
    "    #'tags2': 'int8',\n",
    "    #'tags3': 'int8',\n",
    "    #'tags4': 'int8',\n",
    "    #'tags5': 'int8',\n",
    "    #'tags6': 'int8',\n",
    "    #'tags7': 'int8',\n",
    "     #'tags0_correctness_mean':'float16',\n",
    "     #'tags1_correctness_mean':'float16',\n",
    "     #'tags2_correctness_mean':'float16',\n",
    "     #'tags3_correctness_mean':'float16',\n",
    "     #'tags4_correctness_mean':'float16',\n",
    "     #'tags5_correctness_mean':'float16',\n",
    "     'tags0_correctness_skew':'float16',\n",
    "     'tags1_correctness_skew':'float16',\n",
    "     'tags2_correctness_skew':'float16',\n",
    "     'tags3_correctness_skew':'float16',\n",
    "     'tags4_correctness_skew':'float16',\n",
    "     'tags5_correctness_skew':'float16',\n",
    "     #'tags0_correctness_var':'float16',\n",
    "     #'tags1_correctness_var':'float16',\n",
    "     #'tags2_correctness_var':'float16',\n",
    "     #'tags3_correctness_var':'float16',\n",
    "     #'tags4_correctness_var':'float16',\n",
    "     #'tags5_correctness_var':'float16',\n",
    "    'question_elapsed_time_mean': 'float16',\n",
    "    'question_had_explanation_mean': 'float16',\n",
    "    'question_correctly_q_count': 'int16',\n",
    "    'question_correctly_q_mean': 'float16',\n",
    "    'tags_lsi': 'float16', \n",
    "    'tag_acc_count': 'float16',\t\n",
    "    'tag_acc_max':'float16',\n",
    "    'tag_acc_min': 'float16',\n",
    "    'part_elapsed_time_mean': 'float16',\n",
    "    'part_had_explanation_mean': 'float16',\n",
    "    'part_correctly_q_mean':'float16',\n",
    "#     'bundle_id':'int16',\n",
    "#     'bundle_correctness_mean':'float16',\n",
    "#     'bundle_uncor_count':'int32',\n",
    "#     'bundle_cor_count':'int32',\n",
    "    #'part_bundle_id':'int32',\n",
    "    'content_sub_bundle':'int8',\n",
    "    'prior_question_had_explanation':'int8',\n",
    "    'explanation_mean':'float16', #\n",
    "    #'explanation_var',#\n",
    "    'explanation_false_count':'int16',#\n",
    "    'explanation_true_count':'int16',#\n",
    "    'community_0':'int8',\n",
    "    'community_1':'int8',\n",
    "    'community_2':'int8',\n",
    "    'community_3':'int8',\n",
    "    'community_4':'int8',\n",
    "   # 'community':'int8',\n",
    "     #'parts_1':'int8',\n",
    "     #'parts_2':'int8',\n",
    "     #'parts_3':'int8',\n",
    "     #'parts_4':'int8',\n",
    "     #'parts_5':'int8',\n",
    "     #'parts_6':'int8',\n",
    "     #'parts_7':'int8',\n",
    "#     'type_of_concept',\n",
    "#     'type_of_intention',\n",
    "#     'type_of_solving_question',\n",
    "#     'type_of_starter'\n",
    "}\n",
    "categorical_columns= [\n",
    "    #'user_id',\n",
    "    #'content_id',\n",
    "    #'task_container_id',\n",
    "    #'part',\n",
    "   # 'community',\n",
    "   #'tags0',\n",
    "    #'tags1',\n",
    "    #'tags2',\n",
    "    #'tags3',\n",
    "    #'tags4',\n",
    "    #'tags5',\n",
    "    #'tags6',\n",
    "    #'tags7',\n",
    "    #'bundle_id',\n",
    "    #'part_bundle_id',\n",
    "    'content_sub_bundle',\n",
    "    'prior_question_had_explanation',\n",
    "    'community_0',\n",
    "    'community_1',\n",
    "    'community_2',\n",
    "    'community_3',\n",
    "    'community_4', \n",
    "     #'parts_1',\n",
    "     #'parts_2',\n",
    "     #'parts_3',\n",
    "     #'parts_4',\n",
    "     #'parts_5',\n",
    "     #'parts_6',\n",
    "     #'parts_7',\n",
    "#     'type_of_concept',\n",
    "#     'type_of_intention',\n",
    "#     'type_of_solving_question',\n",
    "#     'type_of_starter'\n",
    "]\n",
    "\n",
    "features=list(features_dict.keys())\n"
   ]
  },
  {
   "cell_type": "code",
   "execution_count": null,
   "metadata": {
    "execution": {
     "iopub.execute_input": "2021-01-04T15:26:46.045891Z",
     "iopub.status.busy": "2021-01-04T15:26:46.045180Z",
     "iopub.status.idle": "2021-01-04T15:27:15.210917Z",
     "shell.execute_reply": "2021-01-04T15:27:15.211530Z"
    },
    "papermill": {
     "duration": 29.25538,
     "end_time": "2021-01-04T15:27:15.211738",
     "exception": false,
     "start_time": "2021-01-04T15:26:45.956358",
     "status": "completed"
    },
    "tags": []
   },
   "outputs": [],
   "source": [
    "flag_lgbm=True\n",
    "clfs = list()\n",
    "params = {\n",
    "'num_leaves': 200,\n",
    "'max_bin':450,\n",
    "# 'min_child_weight': 0.03454472573214212,\n",
    "'feature_fraction': 0.52,\n",
    "'bagging_fraction': 0.52,\n",
    "#'min_data_in_leaf': 106,\n",
    "# 'max_depth': -1,\n",
    "'objective': 'binary',\n",
    "'learning_rate': 0.05,\n",
    "\"boosting_type\": \"gbdt\",\n",
    "\"metric\": 'auc',\n",
    "# \"bagging_seed\": 11,\n",
    "# \"verbosity\": -1,\n",
    "# 'reg_alpha': 0.3899927210061127,\n",
    "# 'reg_lambda': 0.6485237330340494,\n",
    "# 'random_state': 2021\n",
    "'force_col_wise':'true'\n",
    "}"
   ]
  },
  {
   "cell_type": "code",
   "execution_count": null,
   "metadata": {},
   "outputs": [],
   "source": [
    "feature_before_merge_question = list(set(train_df.columns)&set(features))\n",
    "feature_before_merge_question.append(target)\n",
    "feature_before_merge_question.append('content_id')\n",
    "# print(feature_before_merge_question)"
   ]
  },
  {
   "cell_type": "code",
   "execution_count": null,
   "metadata": {},
   "outputs": [],
   "source": [
    "print(psutil.virtual_memory().percent)"
   ]
  },
  {
   "cell_type": "code",
   "execution_count": null,
   "metadata": {
    "execution": {
     "iopub.execute_input": "2021-01-04T15:27:15.484491Z",
     "iopub.status.busy": "2021-01-04T15:27:15.483555Z",
     "iopub.status.idle": "2021-01-04T15:27:15.488850Z",
     "shell.execute_reply": "2021-01-04T15:27:15.488311Z"
    },
    "papermill": {
     "duration": 0.190112,
     "end_time": "2021-01-04T15:27:15.488974",
     "exception": false,
     "start_time": "2021-01-04T15:27:15.298862",
     "status": "completed"
    },
    "tags": []
   },
   "outputs": [],
   "source": [
    "# train_df_clf=train_df[feature_before_merge_question]\n",
    "train_df_clf=train_df[feature_before_merge_question].sample(frac=0.2)\n",
    "del train_df\n",
    "gc.collect()\n",
    "print('del train_df')\n",
    "train_df_clf = pd.merge(train_df_clf, questions_df, on='content_id', how='left',right_index=True)#\n",
    "print('merge completed')\n",
    "print('train_df_clf length：',len(train_df_clf))\n",
    "del questions_df\n",
    "tr_data = lgb.Dataset(train_df_clf[features], label=train_df_clf[target], feature_name=list(features))\n",
    "del train_df_clf\n",
    "print(len(features))\n",
    "print(psutil.virtual_memory().percent)\n",
    "gc.collect()"
   ]
  },
  {
   "cell_type": "code",
   "execution_count": null,
   "metadata": {},
   "outputs": [],
   "source": [
    "del attempt_no_agg\n",
    "del user_prior_question_elapsed_time\n",
    "del max_timestamp_u\n",
    "del max_timestamp_u2\n",
    "del max_timestamp_u3\n",
    "del explanation_agg\n",
    "del user_agg\n",
    "del user_lecture_agg\n",
    "del user_lecture_stats_part\n",
    "del task_container_agg\n",
    "del lectures_df\n",
    "del column\n",
    "del data_types_dict\n",
    "del delta_prior_question_elapsed_time_mean\n",
    "del feature_before_merge_question\n",
    "del features_dict\n",
    "del lagtime_mean\n",
    "del lagtime_mean2\n",
    "del lagtime_mean3\n",
    "del le\n",
    "del num\n",
    "del part_lectures_columns\n",
    "del prior_question_elapsed_time_mean\n",
    "del questions_df_dict\n",
    "del types_of_lectures_columns\n",
    "gc.collect()"
   ]
  },
  {
   "cell_type": "code",
   "execution_count": null,
   "metadata": {},
   "outputs": [],
   "source": [
    "print(psutil.virtual_memory().percent)"
   ]
  },
  {
   "cell_type": "code",
   "execution_count": null,
   "metadata": {
    "execution": {
     "iopub.execute_input": "2021-01-04T15:27:15.771147Z",
     "iopub.status.busy": "2021-01-04T15:27:15.696158Z",
     "iopub.status.idle": "2021-01-04T15:27:16.955903Z",
     "shell.execute_reply": "2021-01-04T15:27:16.956739Z"
    },
    "papermill": {
     "duration": 1.379222,
     "end_time": "2021-01-04T15:27:16.956971",
     "exception": false,
     "start_time": "2021-01-04T15:27:15.577749",
     "status": "completed"
    },
    "scrolled": false,
    "tags": []
   },
   "outputs": [],
   "source": [
    "model = lgb.train(\n",
    "    params,\n",
    "    tr_data,\n",
    "    num_boost_round=1300,\n",
    "    valid_sets=[tr_data],\n",
    "    early_stopping_rounds=50,\n",
    "    feature_name=features,\n",
    "    categorical_feature=categorical_columns,\n",
    "    verbose_eval=50\n",
    ")\n",
    "\n",
    "clfs.append(model)\n",
    "\n",
    "fig,ax = plt.subplots(figsize=(15,15))\n",
    "lgb.plot_importance(model, ax=ax,importance_type='gain',max_num_features=50)\n",
    "plt.show()\n",
    "\n",
    "del tr_data\n",
    "gc.collect()"
   ]
  },
  {
   "cell_type": "code",
   "execution_count": null,
   "metadata": {},
   "outputs": [],
   "source": [
    "joblib.dump(model, '../data/bagging4.2.pkl')\n",
    "print('Model saved')"
   ]
  }
 ],
 "metadata": {
  "kernelspec": {
   "display_name": "Python 3",
   "language": "python",
   "name": "python3"
  },
  "language_info": {
   "codemirror_mode": {
    "name": "ipython",
    "version": 3
   },
   "file_extension": ".py",
   "mimetype": "text/x-python",
   "name": "python",
   "nbconvert_exporter": "python",
   "pygments_lexer": "ipython3",
   "version": "3.8.5"
  },
  "papermill": {
   "duration": 573.816876,
   "end_time": "2021-01-04T15:28:02.945241",
   "environment_variables": {},
   "exception": null,
   "input_path": "__notebook__.ipynb",
   "output_path": "__notebook__.ipynb",
   "parameters": {},
   "start_time": "2021-01-04T15:18:29.128365",
   "version": "2.1.0"
  },
  "varInspector": {
   "cols": {
    "lenName": 16,
    "lenType": 16,
    "lenVar": 40
   },
   "kernels_config": {
    "python": {
     "delete_cmd_postfix": "",
     "delete_cmd_prefix": "del ",
     "library": "var_list.py",
     "varRefreshCmd": "print(var_dic_list())"
    },
    "r": {
     "delete_cmd_postfix": ") ",
     "delete_cmd_prefix": "rm(",
     "library": "var_list.r",
     "varRefreshCmd": "cat(var_dic_list()) "
    }
   },
   "types_to_exclude": [
    "module",
    "function",
    "builtin_function_or_method",
    "instance",
    "_Feature"
   ],
   "window_display": false
  }
 },
 "nbformat": 4,
 "nbformat_minor": 4
}
